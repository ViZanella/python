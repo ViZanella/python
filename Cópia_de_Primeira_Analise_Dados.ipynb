{
  "nbformat": 4,
  "nbformat_minor": 0,
  "metadata": {
    "colab": {
      "provenance": [],
      "include_colab_link": true
    },
    "kernelspec": {
      "name": "python3",
      "display_name": "Python 3"
    },
    "language_info": {
      "name": "python"
    }
  },
  "cells": [
    {
      "cell_type": "markdown",
      "metadata": {
        "id": "view-in-github",
        "colab_type": "text"
      },
      "source": [
        "<a href=\"https://colab.research.google.com/github/ViZanella/python/blob/main/C%C3%B3pia_de_Primeira_Analise_Dados.ipynb\" target=\"_parent\"><img src=\"https://colab.research.google.com/assets/colab-badge.svg\" alt=\"Open In Colab\"/></a>"
      ]
    },
    {
      "cell_type": "markdown",
      "source": [
        "# Prática 1 - Dados de uma rede de Supermercados \n"
      ],
      "metadata": {
        "id": "1bWTEgl8LF90"
      }
    },
    {
      "cell_type": "markdown",
      "source": [
        "#<font color='red'>Crie um texto sobre o contexto dessa base de dados, detalhando cada coluna:</font>\n",
        "### Contexto: Dados de vendas de três filiais com cerca de 1000 linhas, a coluna total significa o rendimento bruto....\n",
        "\n"
      ],
      "metadata": {
        "id": "_w8XzrmzA3w4"
      }
    },
    {
      "cell_type": "code",
      "execution_count": null,
      "metadata": {
        "id": "qHkxlLgEKqqy"
      },
      "outputs": [],
      "source": [
        "import gdown #gdown é a biblioteca para baixar arquivos do drive"
      ]
    },
    {
      "cell_type": "markdown",
      "source": [
        "### Os dados se encontram nesse link:"
      ],
      "metadata": {
        "id": "qdsBz9_iuPM9"
      }
    },
    {
      "cell_type": "markdown",
      "source": [
        "Dados: https://docs.google.com/spreadsheets/d/1exmP2er4MvJ4yyaop3_yGhCYYmGb7s6A/edit?usp=share_link&ouid=110731142320700311054&rtpof=true&sd=true"
      ],
      "metadata": {
        "id": "-tSRNWnNBdfl"
      }
    },
    {
      "cell_type": "markdown",
      "source": [
        "#<font color='red'>Por que se utiliza \"!\" antes do comando gdown, para baixar a base?</font>\n"
      ],
      "metadata": {
        "id": "mWNL2xSRDDr7"
      }
    },
    {
      "cell_type": "markdown",
      "source": [
        "Indica que o comando sera executado no terminal do sistema, como criar um arquivo, criar diretorios e intalar pacotes como fizemos com o arquivo que utilizamos para fazer"
      ],
      "metadata": {
        "id": "fPjoYFjfshp6"
      }
    },
    {
      "cell_type": "code",
      "source": [
        "!gdown 1exmP2er4MvJ4yyaop3_yGhCYYmGb7s6A #Apenas o Hash do arquivo "
      ],
      "metadata": {
        "id": "j7zmue3pK-sb",
        "outputId": "f832d26d-395b-4c52-b7a1-9a9a5461657b",
        "colab": {
          "base_uri": "https://localhost:8080/"
        }
      },
      "execution_count": null,
      "outputs": [
        {
          "output_type": "stream",
          "name": "stdout",
          "text": [
            "Downloading...\n",
            "From: https://drive.google.com/uc?id=1exmP2er4MvJ4yyaop3_yGhCYYmGb7s6A\n",
            "To: /content/SuperMercados.xlsx\n",
            "\r  0% 0.00/97.5k [00:00<?, ?B/s]\r100% 97.5k/97.5k [00:00<00:00, 81.3MB/s]\n"
          ]
        }
      ]
    },
    {
      "cell_type": "markdown",
      "source": [
        "### Foi utilizado a biblioteca gdown para transferir do drive para a IDE Colab"
      ],
      "metadata": {
        "id": "bgCjZVuduVPX"
      }
    },
    {
      "cell_type": "markdown",
      "source": [
        "\n",
        "#<font color='red'>Por que precisamos de bibliotecas no python?</font>\n",
        "#<font color='red'>Coloque o link da documentação dessas bibliotecas para que serve (detalhadamente)</font>\n",
        "\n",
        "\n",
        "##### Exemplo:\n",
        "##### --> Numpy, é ...."
      ],
      "metadata": {
        "id": "mIdGZ9ZEueSC"
      }
    },
    {
      "cell_type": "markdown",
      "source": [
        "A biblioteca Python seria para facilitar, pois usamos comandos ja criados por outro desenvolvedor"
      ],
      "metadata": {
        "id": "Tu7TRREdsng2"
      }
    },
    {
      "cell_type": "code",
      "source": [
        "import numpy as np  #Biblioteca responsável por operações matemáticas \n",
        "import pandas as pd # Biblioteca responsável pela manipulação de dados\n",
        "import matplotlib.pyplot as plt # Biblioteca responsável pela visualização de dados\n",
        "import seaborn as sns # Biblioteca de visualização de dados em alto nível \n"
      ],
      "metadata": {
        "id": "5A2z_Cs3LeOj"
      },
      "execution_count": null,
      "outputs": []
    },
    {
      "cell_type": "code",
      "source": [
        "df = pd.read_excel('SuperMercados.xlsx') #Leitura dos dados para um dataframe (df)"
      ],
      "metadata": {
        "id": "gRyru4piL6-4"
      },
      "execution_count": null,
      "outputs": []
    },
    {
      "cell_type": "code",
      "source": [
        "df.head() #Mostra apenas as cinco primeiras linhas do dataframe"
      ],
      "metadata": {
        "id": "Mp72QueyMOL6",
        "outputId": "bdf055eb-3594-43e3-ca5a-e8ec7d3840af",
        "colab": {
          "base_uri": "https://localhost:8080/",
          "height": 354
        }
      },
      "execution_count": null,
      "outputs": [
        {
          "output_type": "execute_result",
          "data": {
            "text/plain": [
              "   Unnamed: 0 ID da fatura Filial Tipo de Cliente Gênero  \\\n",
              "0           0  750-67-8428      A          Member      F   \n",
              "1           1  226-31-3081      C          Normal      F   \n",
              "2           2  631-41-3108      A          Normal      M   \n",
              "3           3  123-19-1176      A          Member      M   \n",
              "4           4  373-73-7910      A          Normal      M   \n",
              "\n",
              "         Linha de produto  Preço unitário  Quantidade    Total       Data  \\\n",
              "0          Saúde e beleza         1120.35           7  7842.45   1/5/2019   \n",
              "1  Acessórios eletrônicos          229.20           5  1146.00   3/8/2019   \n",
              "2   Casa e estilo de vida          694.95           7  4864.65   3/3/2019   \n",
              "3          Saúde e beleza          873.30           8  6986.40  1/27/2019   \n",
              "4      Esportes e viagens         1294.65           7  9062.55   2/8/2019   \n",
              "\n",
              "      Tempo          Pagamento       COGS  porcentagem de margem bruta  \\\n",
              "0  13:08:00                PIX  4705.4700                   4761904762   \n",
              "1  10:29:00           Dinheiro  1031.4000                   4761904762   \n",
              "2  13:23:00  Cartão de Crédito  3405.2550                   4761904762   \n",
              "3  20:33:00                PIX  4191.8400                   4761904762   \n",
              "4  10:37:00                PIX  6796.9125                   4761904762   \n",
              "\n",
              "   renda bruta  Avaliação  \n",
              "0       261415         91  \n",
              "1          382         96  \n",
              "2       162155         74  \n",
              "3        23288         84  \n",
              "4       302085         53  "
            ],
            "text/html": [
              "\n",
              "  <div id=\"df-6d5815bb-9dac-4ae8-a5f8-9c1133f97c4c\">\n",
              "    <div class=\"colab-df-container\">\n",
              "      <div>\n",
              "<style scoped>\n",
              "    .dataframe tbody tr th:only-of-type {\n",
              "        vertical-align: middle;\n",
              "    }\n",
              "\n",
              "    .dataframe tbody tr th {\n",
              "        vertical-align: top;\n",
              "    }\n",
              "\n",
              "    .dataframe thead th {\n",
              "        text-align: right;\n",
              "    }\n",
              "</style>\n",
              "<table border=\"1\" class=\"dataframe\">\n",
              "  <thead>\n",
              "    <tr style=\"text-align: right;\">\n",
              "      <th></th>\n",
              "      <th>Unnamed: 0</th>\n",
              "      <th>ID da fatura</th>\n",
              "      <th>Filial</th>\n",
              "      <th>Tipo de Cliente</th>\n",
              "      <th>Gênero</th>\n",
              "      <th>Linha de produto</th>\n",
              "      <th>Preço unitário</th>\n",
              "      <th>Quantidade</th>\n",
              "      <th>Total</th>\n",
              "      <th>Data</th>\n",
              "      <th>Tempo</th>\n",
              "      <th>Pagamento</th>\n",
              "      <th>COGS</th>\n",
              "      <th>porcentagem de margem bruta</th>\n",
              "      <th>renda bruta</th>\n",
              "      <th>Avaliação</th>\n",
              "    </tr>\n",
              "  </thead>\n",
              "  <tbody>\n",
              "    <tr>\n",
              "      <th>0</th>\n",
              "      <td>0</td>\n",
              "      <td>750-67-8428</td>\n",
              "      <td>A</td>\n",
              "      <td>Member</td>\n",
              "      <td>F</td>\n",
              "      <td>Saúde e beleza</td>\n",
              "      <td>1120.35</td>\n",
              "      <td>7</td>\n",
              "      <td>7842.45</td>\n",
              "      <td>1/5/2019</td>\n",
              "      <td>13:08:00</td>\n",
              "      <td>PIX</td>\n",
              "      <td>4705.4700</td>\n",
              "      <td>4761904762</td>\n",
              "      <td>261415</td>\n",
              "      <td>91</td>\n",
              "    </tr>\n",
              "    <tr>\n",
              "      <th>1</th>\n",
              "      <td>1</td>\n",
              "      <td>226-31-3081</td>\n",
              "      <td>C</td>\n",
              "      <td>Normal</td>\n",
              "      <td>F</td>\n",
              "      <td>Acessórios eletrônicos</td>\n",
              "      <td>229.20</td>\n",
              "      <td>5</td>\n",
              "      <td>1146.00</td>\n",
              "      <td>3/8/2019</td>\n",
              "      <td>10:29:00</td>\n",
              "      <td>Dinheiro</td>\n",
              "      <td>1031.4000</td>\n",
              "      <td>4761904762</td>\n",
              "      <td>382</td>\n",
              "      <td>96</td>\n",
              "    </tr>\n",
              "    <tr>\n",
              "      <th>2</th>\n",
              "      <td>2</td>\n",
              "      <td>631-41-3108</td>\n",
              "      <td>A</td>\n",
              "      <td>Normal</td>\n",
              "      <td>M</td>\n",
              "      <td>Casa e estilo de vida</td>\n",
              "      <td>694.95</td>\n",
              "      <td>7</td>\n",
              "      <td>4864.65</td>\n",
              "      <td>3/3/2019</td>\n",
              "      <td>13:23:00</td>\n",
              "      <td>Cartão de Crédito</td>\n",
              "      <td>3405.2550</td>\n",
              "      <td>4761904762</td>\n",
              "      <td>162155</td>\n",
              "      <td>74</td>\n",
              "    </tr>\n",
              "    <tr>\n",
              "      <th>3</th>\n",
              "      <td>3</td>\n",
              "      <td>123-19-1176</td>\n",
              "      <td>A</td>\n",
              "      <td>Member</td>\n",
              "      <td>M</td>\n",
              "      <td>Saúde e beleza</td>\n",
              "      <td>873.30</td>\n",
              "      <td>8</td>\n",
              "      <td>6986.40</td>\n",
              "      <td>1/27/2019</td>\n",
              "      <td>20:33:00</td>\n",
              "      <td>PIX</td>\n",
              "      <td>4191.8400</td>\n",
              "      <td>4761904762</td>\n",
              "      <td>23288</td>\n",
              "      <td>84</td>\n",
              "    </tr>\n",
              "    <tr>\n",
              "      <th>4</th>\n",
              "      <td>4</td>\n",
              "      <td>373-73-7910</td>\n",
              "      <td>A</td>\n",
              "      <td>Normal</td>\n",
              "      <td>M</td>\n",
              "      <td>Esportes e viagens</td>\n",
              "      <td>1294.65</td>\n",
              "      <td>7</td>\n",
              "      <td>9062.55</td>\n",
              "      <td>2/8/2019</td>\n",
              "      <td>10:37:00</td>\n",
              "      <td>PIX</td>\n",
              "      <td>6796.9125</td>\n",
              "      <td>4761904762</td>\n",
              "      <td>302085</td>\n",
              "      <td>53</td>\n",
              "    </tr>\n",
              "  </tbody>\n",
              "</table>\n",
              "</div>\n",
              "      <button class=\"colab-df-convert\" onclick=\"convertToInteractive('df-6d5815bb-9dac-4ae8-a5f8-9c1133f97c4c')\"\n",
              "              title=\"Convert this dataframe to an interactive table.\"\n",
              "              style=\"display:none;\">\n",
              "        \n",
              "  <svg xmlns=\"http://www.w3.org/2000/svg\" height=\"24px\"viewBox=\"0 0 24 24\"\n",
              "       width=\"24px\">\n",
              "    <path d=\"M0 0h24v24H0V0z\" fill=\"none\"/>\n",
              "    <path d=\"M18.56 5.44l.94 2.06.94-2.06 2.06-.94-2.06-.94-.94-2.06-.94 2.06-2.06.94zm-11 1L8.5 8.5l.94-2.06 2.06-.94-2.06-.94L8.5 2.5l-.94 2.06-2.06.94zm10 10l.94 2.06.94-2.06 2.06-.94-2.06-.94-.94-2.06-.94 2.06-2.06.94z\"/><path d=\"M17.41 7.96l-1.37-1.37c-.4-.4-.92-.59-1.43-.59-.52 0-1.04.2-1.43.59L10.3 9.45l-7.72 7.72c-.78.78-.78 2.05 0 2.83L4 21.41c.39.39.9.59 1.41.59.51 0 1.02-.2 1.41-.59l7.78-7.78 2.81-2.81c.8-.78.8-2.07 0-2.86zM5.41 20L4 18.59l7.72-7.72 1.47 1.35L5.41 20z\"/>\n",
              "  </svg>\n",
              "      </button>\n",
              "      \n",
              "  <style>\n",
              "    .colab-df-container {\n",
              "      display:flex;\n",
              "      flex-wrap:wrap;\n",
              "      gap: 12px;\n",
              "    }\n",
              "\n",
              "    .colab-df-convert {\n",
              "      background-color: #E8F0FE;\n",
              "      border: none;\n",
              "      border-radius: 50%;\n",
              "      cursor: pointer;\n",
              "      display: none;\n",
              "      fill: #1967D2;\n",
              "      height: 32px;\n",
              "      padding: 0 0 0 0;\n",
              "      width: 32px;\n",
              "    }\n",
              "\n",
              "    .colab-df-convert:hover {\n",
              "      background-color: #E2EBFA;\n",
              "      box-shadow: 0px 1px 2px rgba(60, 64, 67, 0.3), 0px 1px 3px 1px rgba(60, 64, 67, 0.15);\n",
              "      fill: #174EA6;\n",
              "    }\n",
              "\n",
              "    [theme=dark] .colab-df-convert {\n",
              "      background-color: #3B4455;\n",
              "      fill: #D2E3FC;\n",
              "    }\n",
              "\n",
              "    [theme=dark] .colab-df-convert:hover {\n",
              "      background-color: #434B5C;\n",
              "      box-shadow: 0px 1px 3px 1px rgba(0, 0, 0, 0.15);\n",
              "      filter: drop-shadow(0px 1px 2px rgba(0, 0, 0, 0.3));\n",
              "      fill: #FFFFFF;\n",
              "    }\n",
              "  </style>\n",
              "\n",
              "      <script>\n",
              "        const buttonEl =\n",
              "          document.querySelector('#df-6d5815bb-9dac-4ae8-a5f8-9c1133f97c4c button.colab-df-convert');\n",
              "        buttonEl.style.display =\n",
              "          google.colab.kernel.accessAllowed ? 'block' : 'none';\n",
              "\n",
              "        async function convertToInteractive(key) {\n",
              "          const element = document.querySelector('#df-6d5815bb-9dac-4ae8-a5f8-9c1133f97c4c');\n",
              "          const dataTable =\n",
              "            await google.colab.kernel.invokeFunction('convertToInteractive',\n",
              "                                                     [key], {});\n",
              "          if (!dataTable) return;\n",
              "\n",
              "          const docLinkHtml = 'Like what you see? Visit the ' +\n",
              "            '<a target=\"_blank\" href=https://colab.research.google.com/notebooks/data_table.ipynb>data table notebook</a>'\n",
              "            + ' to learn more about interactive tables.';\n",
              "          element.innerHTML = '';\n",
              "          dataTable['output_type'] = 'display_data';\n",
              "          await google.colab.output.renderOutput(dataTable, element);\n",
              "          const docLink = document.createElement('div');\n",
              "          docLink.innerHTML = docLinkHtml;\n",
              "          element.appendChild(docLink);\n",
              "        }\n",
              "      </script>\n",
              "    </div>\n",
              "  </div>\n",
              "  "
            ]
          },
          "metadata": {},
          "execution_count": 134
        }
      ]
    },
    {
      "cell_type": "markdown",
      "source": [
        "# Etapa: Limpeza e transformação da base de dados"
      ],
      "metadata": {
        "id": "CiVFttSmNA0p"
      }
    },
    {
      "cell_type": "markdown",
      "source": [
        "#<font color='red'>Explique o comando abaixo, de qual biblioteca se trata?</font>"
      ],
      "metadata": {
        "id": "zgyxhF1DEiUy"
      }
    },
    {
      "cell_type": "markdown",
      "source": [
        "Uma função de visualização para ver se tem algum nulo no grafico"
      ],
      "metadata": {
        "id": "uFZhQx3dsr5_"
      }
    },
    {
      "cell_type": "code",
      "source": [
        "sns.heatmap(df.isnull(),\n",
        "            yticklabels = False,\n",
        "            cbar = False,\n",
        "            cmap = 'gnuplot') #Função do seaborn para visualizar dados que estejam faltando (NaN = Not a Number)"
      ],
      "metadata": {
        "id": "Iak_-2ExMcNS",
        "outputId": "7eca304b-2fb1-413b-a218-2e2865c8d79f",
        "colab": {
          "base_uri": "https://localhost:8080/",
          "height": 650
        }
      },
      "execution_count": null,
      "outputs": [
        {
          "output_type": "execute_result",
          "data": {
            "text/plain": [
              "<Axes: >"
            ]
          },
          "metadata": {},
          "execution_count": 135
        },
        {
          "output_type": "display_data",
          "data": {
            "text/plain": [
              "<Figure size 640x480 with 1 Axes>"
            ],
            "image/png": "[encoded data removed]"
          },
          "metadata": {}
        }
      ]
    },
    {
      "cell_type": "code",
      "source": [
        "df #Para verificar os dados"
      ],
      "metadata": {
        "id": "0wZnPaOgNc8J",
        "outputId": "e9a1f1c2-5e5a-4715-8a08-f7d8132b0ba2",
        "colab": {
          "base_uri": "https://localhost:8080/",
          "height": 658
        }
      },
      "execution_count": null,
      "outputs": [
        {
          "output_type": "execute_result",
          "data": {
            "text/plain": [
              "     Unnamed: 0 ID da fatura Filial Tipo de Cliente Gênero  \\\n",
              "0             0  750-67-8428      A          Member      F   \n",
              "1             1  226-31-3081      C          Normal      F   \n",
              "2             2  631-41-3108      A          Normal      M   \n",
              "3             3  123-19-1176      A          Member      M   \n",
              "4             4  373-73-7910      A          Normal      M   \n",
              "..          ...          ...    ...             ...    ...   \n",
              "995         995  233-67-5758      C          Normal      M   \n",
              "996         996  303-96-2227      B          Normal      F   \n",
              "997         997  727-02-1313      A          Member      M   \n",
              "998         998  347-56-2442      A          Normal      M   \n",
              "999         999  849-09-3807      A          Member      F   \n",
              "\n",
              "           Linha de produto  Preço unitário  Quantidade     Total       Data  \\\n",
              "0            Saúde e beleza         1120.35           7   7842.45   1/5/2019   \n",
              "1    Acessórios eletrônicos          229.20           5   1146.00   3/8/2019   \n",
              "2     Casa e estilo de vida          694.95           7   4864.65   3/3/2019   \n",
              "3            Saúde e beleza          873.30           8   6986.40  1/27/2019   \n",
              "4        Esportes e viagens         1294.65           7   9062.55   2/8/2019   \n",
              "..                      ...             ...         ...       ...        ...   \n",
              "995          Saúde e beleza          605.25           1    605.25  1/29/2019   \n",
              "996   Casa e estilo de vida         1460.70          10  14607.00   3/2/2019   \n",
              "997        Comida e bebidas          477.60           1    477.60   2/9/2019   \n",
              "998   Casa e estilo de vida          987.30           1    987.30  2/22/2019   \n",
              "999     Acessórios fashions         1325.10           7   9275.70  2/18/2019   \n",
              "\n",
              "        Tempo          Pagamento        COGS  porcentagem de margem bruta  \\\n",
              "0    13:08:00                PIX   4705.4700                   4761904762   \n",
              "1    10:29:00           Dinheiro   1031.4000                   4761904762   \n",
              "2    13:23:00  Cartão de Crédito   3405.2550                   4761904762   \n",
              "3    20:33:00                PIX   4191.8400                   4761904762   \n",
              "4    10:37:00                PIX   6796.9125                   4761904762   \n",
              "..        ...                ...         ...                          ...   \n",
              "995  13:46:00                PIX    363.1500                   4761904762   \n",
              "996  17:16:00                PIX  10224.9000                   4761904762   \n",
              "997  13:22:00           Dinheiro    405.9600                   4761904762   \n",
              "998  15:33:00           Dinheiro    691.1100                   4761904762   \n",
              "999  13:28:00           Dinheiro   6956.7750                   4761904762   \n",
              "\n",
              "     renda bruta  Avaliação  \n",
              "0         261415         91  \n",
              "1            382         96  \n",
              "2         162155         74  \n",
              "3          23288         84  \n",
              "4         302085         53  \n",
              "..           ...        ...  \n",
              "995        20175         62  \n",
              "996         4869         44  \n",
              "997         1592         77  \n",
              "998         3291         41  \n",
              "999        30919         66  \n",
              "\n",
              "[1000 rows x 16 columns]"
            ],
            "text/html": [
              "\n",
              "  <div id=\"df-7079b0ad-9430-4a5b-b546-f1c80cb6f276\">\n",
              "    <div class=\"colab-df-container\">\n",
              "      <div>\n",
              "<style scoped>\n",
              "    .dataframe tbody tr th:only-of-type {\n",
              "        vertical-align: middle;\n",
              "    }\n",
              "\n",
              "    .dataframe tbody tr th {\n",
              "        vertical-align: top;\n",
              "    }\n",
              "\n",
              "    .dataframe thead th {\n",
              "        text-align: right;\n",
              "    }\n",
              "</style>\n",
              "<table border=\"1\" class=\"dataframe\">\n",
              "  <thead>\n",
              "    <tr style=\"text-align: right;\">\n",
              "      <th></th>\n",
              "      <th>Unnamed: 0</th>\n",
              "      <th>ID da fatura</th>\n",
              "      <th>Filial</th>\n",
              "      <th>Tipo de Cliente</th>\n",
              "      <th>Gênero</th>\n",
              "      <th>Linha de produto</th>\n",
              "      <th>Preço unitário</th>\n",
              "      <th>Quantidade</th>\n",
              "      <th>Total</th>\n",
              "      <th>Data</th>\n",
              "      <th>Tempo</th>\n",
              "      <th>Pagamento</th>\n",
              "      <th>COGS</th>\n",
              "      <th>porcentagem de margem bruta</th>\n",
              "      <th>renda bruta</th>\n",
              "      <th>Avaliação</th>\n",
              "    </tr>\n",
              "  </thead>\n",
              "  <tbody>\n",
              "    <tr>\n",
              "      <th>0</th>\n",
              "      <td>0</td>\n",
              "      <td>750-67-8428</td>\n",
              "      <td>A</td>\n",
              "      <td>Member</td>\n",
              "      <td>F</td>\n",
              "      <td>Saúde e beleza</td>\n",
              "      <td>1120.35</td>\n",
              "      <td>7</td>\n",
              "      <td>7842.45</td>\n",
              "      <td>1/5/2019</td>\n",
              "      <td>13:08:00</td>\n",
              "      <td>PIX</td>\n",
              "      <td>4705.4700</td>\n",
              "      <td>4761904762</td>\n",
              "      <td>261415</td>\n",
              "      <td>91</td>\n",
              "    </tr>\n",
              "    <tr>\n",
              "      <th>1</th>\n",
              "      <td>1</td>\n",
              "      <td>226-31-3081</td>\n",
              "      <td>C</td>\n",
              "      <td>Normal</td>\n",
              "      <td>F</td>\n",
              "      <td>Acessórios eletrônicos</td>\n",
              "      <td>229.20</td>\n",
              "      <td>5</td>\n",
              "      <td>1146.00</td>\n",
              "      <td>3/8/2019</td>\n",
              "      <td>10:29:00</td>\n",
              "      <td>Dinheiro</td>\n",
              "      <td>1031.4000</td>\n",
              "      <td>4761904762</td>\n",
              "      <td>382</td>\n",
              "      <td>96</td>\n",
              "    </tr>\n",
              "    <tr>\n",
              "      <th>2</th>\n",
              "      <td>2</td>\n",
              "      <td>631-41-3108</td>\n",
              "      <td>A</td>\n",
              "      <td>Normal</td>\n",
              "      <td>M</td>\n",
              "      <td>Casa e estilo de vida</td>\n",
              "      <td>694.95</td>\n",
              "      <td>7</td>\n",
              "      <td>4864.65</td>\n",
              "      <td>3/3/2019</td>\n",
              "      <td>13:23:00</td>\n",
              "      <td>Cartão de Crédito</td>\n",
              "      <td>3405.2550</td>\n",
              "      <td>4761904762</td>\n",
              "      <td>162155</td>\n",
              "      <td>74</td>\n",
              "    </tr>\n",
              "    <tr>\n",
              "      <th>3</th>\n",
              "      <td>3</td>\n",
              "      <td>123-19-1176</td>\n",
              "      <td>A</td>\n",
              "      <td>Member</td>\n",
              "      <td>M</td>\n",
              "      <td>Saúde e beleza</td>\n",
              "      <td>873.30</td>\n",
              "      <td>8</td>\n",
              "      <td>6986.40</td>\n",
              "      <td>1/27/2019</td>\n",
              "      <td>20:33:00</td>\n",
              "      <td>PIX</td>\n",
              "      <td>4191.8400</td>\n",
              "      <td>4761904762</td>\n",
              "      <td>23288</td>\n",
              "      <td>84</td>\n",
              "    </tr>\n",
              "    <tr>\n",
              "      <th>4</th>\n",
              "      <td>4</td>\n",
              "      <td>373-73-7910</td>\n",
              "      <td>A</td>\n",
              "      <td>Normal</td>\n",
              "      <td>M</td>\n",
              "      <td>Esportes e viagens</td>\n",
              "      <td>1294.65</td>\n",
              "      <td>7</td>\n",
              "      <td>9062.55</td>\n",
              "      <td>2/8/2019</td>\n",
              "      <td>10:37:00</td>\n",
              "      <td>PIX</td>\n",
              "      <td>6796.9125</td>\n",
              "      <td>4761904762</td>\n",
              "      <td>302085</td>\n",
              "      <td>53</td>\n",
              "    </tr>\n",
              "    <tr>\n",
              "      <th>...</th>\n",
              "      <td>...</td>\n",
              "      <td>...</td>\n",
              "      <td>...</td>\n",
              "      <td>...</td>\n",
              "      <td>...</td>\n",
              "      <td>...</td>\n",
              "      <td>...</td>\n",
              "      <td>...</td>\n",
              "      <td>...</td>\n",
              "      <td>...</td>\n",
              "      <td>...</td>\n",
              "      <td>...</td>\n",
              "      <td>...</td>\n",
              "      <td>...</td>\n",
              "      <td>...</td>\n",
              "      <td>...</td>\n",
              "    </tr>\n",
              "    <tr>\n",
              "      <th>995</th>\n",
              "      <td>995</td>\n",
              "      <td>233-67-5758</td>\n",
              "      <td>C</td>\n",
              "      <td>Normal</td>\n",
              "      <td>M</td>\n",
              "      <td>Saúde e beleza</td>\n",
              "      <td>605.25</td>\n",
              "      <td>1</td>\n",
              "      <td>605.25</td>\n",
              "      <td>1/29/2019</td>\n",
              "      <td>13:46:00</td>\n",
              "      <td>PIX</td>\n",
              "      <td>363.1500</td>\n",
              "      <td>4761904762</td>\n",
              "      <td>20175</td>\n",
              "      <td>62</td>\n",
              "    </tr>\n",
              "    <tr>\n",
              "      <th>996</th>\n",
              "      <td>996</td>\n",
              "      <td>303-96-2227</td>\n",
              "      <td>B</td>\n",
              "      <td>Normal</td>\n",
              "      <td>F</td>\n",
              "      <td>Casa e estilo de vida</td>\n",
              "      <td>1460.70</td>\n",
              "      <td>10</td>\n",
              "      <td>14607.00</td>\n",
              "      <td>3/2/2019</td>\n",
              "      <td>17:16:00</td>\n",
              "      <td>PIX</td>\n",
              "      <td>10224.9000</td>\n",
              "      <td>4761904762</td>\n",
              "      <td>4869</td>\n",
              "      <td>44</td>\n",
              "    </tr>\n",
              "    <tr>\n",
              "      <th>997</th>\n",
              "      <td>997</td>\n",
              "      <td>727-02-1313</td>\n",
              "      <td>A</td>\n",
              "      <td>Member</td>\n",
              "      <td>M</td>\n",
              "      <td>Comida e bebidas</td>\n",
              "      <td>477.60</td>\n",
              "      <td>1</td>\n",
              "      <td>477.60</td>\n",
              "      <td>2/9/2019</td>\n",
              "      <td>13:22:00</td>\n",
              "      <td>Dinheiro</td>\n",
              "      <td>405.9600</td>\n",
              "      <td>4761904762</td>\n",
              "      <td>1592</td>\n",
              "      <td>77</td>\n",
              "    </tr>\n",
              "    <tr>\n",
              "      <th>998</th>\n",
              "      <td>998</td>\n",
              "      <td>347-56-2442</td>\n",
              "      <td>A</td>\n",
              "      <td>Normal</td>\n",
              "      <td>M</td>\n",
              "      <td>Casa e estilo de vida</td>\n",
              "      <td>987.30</td>\n",
              "      <td>1</td>\n",
              "      <td>987.30</td>\n",
              "      <td>2/22/2019</td>\n",
              "      <td>15:33:00</td>\n",
              "      <td>Dinheiro</td>\n",
              "      <td>691.1100</td>\n",
              "      <td>4761904762</td>\n",
              "      <td>3291</td>\n",
              "      <td>41</td>\n",
              "    </tr>\n",
              "    <tr>\n",
              "      <th>999</th>\n",
              "      <td>999</td>\n",
              "      <td>849-09-3807</td>\n",
              "      <td>A</td>\n",
              "      <td>Member</td>\n",
              "      <td>F</td>\n",
              "      <td>Acessórios fashions</td>\n",
              "      <td>1325.10</td>\n",
              "      <td>7</td>\n",
              "      <td>9275.70</td>\n",
              "      <td>2/18/2019</td>\n",
              "      <td>13:28:00</td>\n",
              "      <td>Dinheiro</td>\n",
              "      <td>6956.7750</td>\n",
              "      <td>4761904762</td>\n",
              "      <td>30919</td>\n",
              "      <td>66</td>\n",
              "    </tr>\n",
              "  </tbody>\n",
              "</table>\n",
              "<p>1000 rows × 16 columns</p>\n",
              "</div>\n",
              "      <button class=\"colab-df-convert\" onclick=\"convertToInteractive('df-7079b0ad-9430-4a5b-b546-f1c80cb6f276')\"\n",
              "              title=\"Convert this dataframe to an interactive table.\"\n",
              "              style=\"display:none;\">\n",
              "        \n",
              "  <svg xmlns=\"http://www.w3.org/2000/svg\" height=\"24px\"viewBox=\"0 0 24 24\"\n",
              "       width=\"24px\">\n",
              "    <path d=\"M0 0h24v24H0V0z\" fill=\"none\"/>\n",
              "    <path d=\"M18.56 5.44l.94 2.06.94-2.06 2.06-.94-2.06-.94-.94-2.06-.94 2.06-2.06.94zm-11 1L8.5 8.5l.94-2.06 2.06-.94-2.06-.94L8.5 2.5l-.94 2.06-2.06.94zm10 10l.94 2.06.94-2.06 2.06-.94-2.06-.94-.94-2.06-.94 2.06-2.06.94z\"/><path d=\"M17.41 7.96l-1.37-1.37c-.4-.4-.92-.59-1.43-.59-.52 0-1.04.2-1.43.59L10.3 9.45l-7.72 7.72c-.78.78-.78 2.05 0 2.83L4 21.41c.39.39.9.59 1.41.59.51 0 1.02-.2 1.41-.59l7.78-7.78 2.81-2.81c.8-.78.8-2.07 0-2.86zM5.41 20L4 18.59l7.72-7.72 1.47 1.35L5.41 20z\"/>\n",
              "  </svg>\n",
              "      </button>\n",
              "      \n",
              "  <style>\n",
              "    .colab-df-container {\n",
              "      display:flex;\n",
              "      flex-wrap:wrap;\n",
              "      gap: 12px;\n",
              "    }\n",
              "\n",
              "    .colab-df-convert {\n",
              "      background-color: #E8F0FE;\n",
              "      border: none;\n",
              "      border-radius: 50%;\n",
              "      cursor: pointer;\n",
              "      display: none;\n",
              "      fill: #1967D2;\n",
              "      height: 32px;\n",
              "      padding: 0 0 0 0;\n",
              "      width: 32px;\n",
              "    }\n",
              "\n",
              "    .colab-df-convert:hover {\n",
              "      background-color: #E2EBFA;\n",
              "      box-shadow: 0px 1px 2px rgba(60, 64, 67, 0.3), 0px 1px 3px 1px rgba(60, 64, 67, 0.15);\n",
              "      fill: #174EA6;\n",
              "    }\n",
              "\n",
              "    [theme=dark] .colab-df-convert {\n",
              "      background-color: #3B4455;\n",
              "      fill: #D2E3FC;\n",
              "    }\n",
              "\n",
              "    [theme=dark] .colab-df-convert:hover {\n",
              "      background-color: #434B5C;\n",
              "      box-shadow: 0px 1px 3px 1px rgba(0, 0, 0, 0.15);\n",
              "      filter: drop-shadow(0px 1px 2px rgba(0, 0, 0, 0.3));\n",
              "      fill: #FFFFFF;\n",
              "    }\n",
              "  </style>\n",
              "\n",
              "      <script>\n",
              "        const buttonEl =\n",
              "          document.querySelector('#df-7079b0ad-9430-4a5b-b546-f1c80cb6f276 button.colab-df-convert');\n",
              "        buttonEl.style.display =\n",
              "          google.colab.kernel.accessAllowed ? 'block' : 'none';\n",
              "\n",
              "        async function convertToInteractive(key) {\n",
              "          const element = document.querySelector('#df-7079b0ad-9430-4a5b-b546-f1c80cb6f276');\n",
              "          const dataTable =\n",
              "            await google.colab.kernel.invokeFunction('convertToInteractive',\n",
              "                                                     [key], {});\n",
              "          if (!dataTable) return;\n",
              "\n",
              "          const docLinkHtml = 'Like what you see? Visit the ' +\n",
              "            '<a target=\"_blank\" href=https://colab.research.google.com/notebooks/data_table.ipynb>data table notebook</a>'\n",
              "            + ' to learn more about interactive tables.';\n",
              "          element.innerHTML = '';\n",
              "          dataTable['output_type'] = 'display_data';\n",
              "          await google.colab.output.renderOutput(dataTable, element);\n",
              "          const docLink = document.createElement('div');\n",
              "          docLink.innerHTML = docLinkHtml;\n",
              "          element.appendChild(docLink);\n",
              "        }\n",
              "      </script>\n",
              "    </div>\n",
              "  </div>\n",
              "  "
            ]
          },
          "metadata": {},
          "execution_count": 136
        }
      ]
    },
    {
      "cell_type": "markdown",
      "source": [
        "#<font color='red'>O que significa inplace?</font>"
      ],
      "metadata": {
        "id": "XdXIhgcoExqJ"
      }
    },
    {
      "cell_type": "markdown",
      "source": [
        "Serve para alterar as informações do banco de dados"
      ],
      "metadata": {
        "id": "zIxwc-W6sx6l"
      }
    },
    {
      "cell_type": "code",
      "source": [
        "df.drop(columns=['Unnamed: 0'], inplace = True) #Deletando a coluna \"Unnamed: 0\""
      ],
      "metadata": {
        "id": "Jyb-ZgkvOcOD"
      },
      "execution_count": null,
      "outputs": []
    },
    {
      "cell_type": "code",
      "source": [
        "df"
      ],
      "metadata": {
        "id": "f2jBrx44PrWo",
        "outputId": "9ff30943-cbed-4e6c-d452-91a41bca7a4c",
        "colab": {
          "base_uri": "https://localhost:8080/",
          "height": 658
        }
      },
      "execution_count": null,
      "outputs": [
        {
          "output_type": "execute_result",
          "data": {
            "text/plain": [
              "    ID da fatura Filial Tipo de Cliente Gênero        Linha de produto  \\\n",
              "0    750-67-8428      A          Member      F          Saúde e beleza   \n",
              "1    226-31-3081      C          Normal      F  Acessórios eletrônicos   \n",
              "2    631-41-3108      A          Normal      M   Casa e estilo de vida   \n",
              "3    123-19-1176      A          Member      M          Saúde e beleza   \n",
              "4    373-73-7910      A          Normal      M      Esportes e viagens   \n",
              "..           ...    ...             ...    ...                     ...   \n",
              "995  233-67-5758      C          Normal      M          Saúde e beleza   \n",
              "996  303-96-2227      B          Normal      F   Casa e estilo de vida   \n",
              "997  727-02-1313      A          Member      M        Comida e bebidas   \n",
              "998  347-56-2442      A          Normal      M   Casa e estilo de vida   \n",
              "999  849-09-3807      A          Member      F     Acessórios fashions   \n",
              "\n",
              "     Preço unitário  Quantidade     Total       Data     Tempo  \\\n",
              "0           1120.35           7   7842.45   1/5/2019  13:08:00   \n",
              "1            229.20           5   1146.00   3/8/2019  10:29:00   \n",
              "2            694.95           7   4864.65   3/3/2019  13:23:00   \n",
              "3            873.30           8   6986.40  1/27/2019  20:33:00   \n",
              "4           1294.65           7   9062.55   2/8/2019  10:37:00   \n",
              "..              ...         ...       ...        ...       ...   \n",
              "995          605.25           1    605.25  1/29/2019  13:46:00   \n",
              "996         1460.70          10  14607.00   3/2/2019  17:16:00   \n",
              "997          477.60           1    477.60   2/9/2019  13:22:00   \n",
              "998          987.30           1    987.30  2/22/2019  15:33:00   \n",
              "999         1325.10           7   9275.70  2/18/2019  13:28:00   \n",
              "\n",
              "             Pagamento        COGS  porcentagem de margem bruta  renda bruta  \\\n",
              "0                  PIX   4705.4700                   4761904762       261415   \n",
              "1             Dinheiro   1031.4000                   4761904762          382   \n",
              "2    Cartão de Crédito   3405.2550                   4761904762       162155   \n",
              "3                  PIX   4191.8400                   4761904762        23288   \n",
              "4                  PIX   6796.9125                   4761904762       302085   \n",
              "..                 ...         ...                          ...          ...   \n",
              "995                PIX    363.1500                   4761904762        20175   \n",
              "996                PIX  10224.9000                   4761904762         4869   \n",
              "997           Dinheiro    405.9600                   4761904762         1592   \n",
              "998           Dinheiro    691.1100                   4761904762         3291   \n",
              "999           Dinheiro   6956.7750                   4761904762        30919   \n",
              "\n",
              "     Avaliação  \n",
              "0           91  \n",
              "1           96  \n",
              "2           74  \n",
              "3           84  \n",
              "4           53  \n",
              "..         ...  \n",
              "995         62  \n",
              "996         44  \n",
              "997         77  \n",
              "998         41  \n",
              "999         66  \n",
              "\n",
              "[1000 rows x 15 columns]"
            ],
            "text/html": [
              "\n",
              "  <div id=\"df-bb3333e4-5703-4fba-b959-1e50f8ea63d3\">\n",
              "    <div class=\"colab-df-container\">\n",
              "      <div>\n",
              "<style scoped>\n",
              "    .dataframe tbody tr th:only-of-type {\n",
              "        vertical-align: middle;\n",
              "    }\n",
              "\n",
              "    .dataframe tbody tr th {\n",
              "        vertical-align: top;\n",
              "    }\n",
              "\n",
              "    .dataframe thead th {\n",
              "        text-align: right;\n",
              "    }\n",
              "</style>\n",
              "<table border=\"1\" class=\"dataframe\">\n",
              "  <thead>\n",
              "    <tr style=\"text-align: right;\">\n",
              "      <th></th>\n",
              "      <th>ID da fatura</th>\n",
              "      <th>Filial</th>\n",
              "      <th>Tipo de Cliente</th>\n",
              "      <th>Gênero</th>\n",
              "      <th>Linha de produto</th>\n",
              "      <th>Preço unitário</th>\n",
              "      <th>Quantidade</th>\n",
              "      <th>Total</th>\n",
              "      <th>Data</th>\n",
              "      <th>Tempo</th>\n",
              "      <th>Pagamento</th>\n",
              "      <th>COGS</th>\n",
              "      <th>porcentagem de margem bruta</th>\n",
              "      <th>renda bruta</th>\n",
              "      <th>Avaliação</th>\n",
              "    </tr>\n",
              "  </thead>\n",
              "  <tbody>\n",
              "    <tr>\n",
              "      <th>0</th>\n",
              "      <td>750-67-8428</td>\n",
              "      <td>A</td>\n",
              "      <td>Member</td>\n",
              "      <td>F</td>\n",
              "      <td>Saúde e beleza</td>\n",
              "      <td>1120.35</td>\n",
              "      <td>7</td>\n",
              "      <td>7842.45</td>\n",
              "      <td>1/5/2019</td>\n",
              "      <td>13:08:00</td>\n",
              "      <td>PIX</td>\n",
              "      <td>4705.4700</td>\n",
              "      <td>4761904762</td>\n",
              "      <td>261415</td>\n",
              "      <td>91</td>\n",
              "    </tr>\n",
              "    <tr>\n",
              "      <th>1</th>\n",
              "      <td>226-31-3081</td>\n",
              "      <td>C</td>\n",
              "      <td>Normal</td>\n",
              "      <td>F</td>\n",
              "      <td>Acessórios eletrônicos</td>\n",
              "      <td>229.20</td>\n",
              "      <td>5</td>\n",
              "      <td>1146.00</td>\n",
              "      <td>3/8/2019</td>\n",
              "      <td>10:29:00</td>\n",
              "      <td>Dinheiro</td>\n",
              "      <td>1031.4000</td>\n",
              "      <td>4761904762</td>\n",
              "      <td>382</td>\n",
              "      <td>96</td>\n",
              "    </tr>\n",
              "    <tr>\n",
              "      <th>2</th>\n",
              "      <td>631-41-3108</td>\n",
              "      <td>A</td>\n",
              "      <td>Normal</td>\n",
              "      <td>M</td>\n",
              "      <td>Casa e estilo de vida</td>\n",
              "      <td>694.95</td>\n",
              "      <td>7</td>\n",
              "      <td>4864.65</td>\n",
              "      <td>3/3/2019</td>\n",
              "      <td>13:23:00</td>\n",
              "      <td>Cartão de Crédito</td>\n",
              "      <td>3405.2550</td>\n",
              "      <td>4761904762</td>\n",
              "      <td>162155</td>\n",
              "      <td>74</td>\n",
              "    </tr>\n",
              "    <tr>\n",
              "      <th>3</th>\n",
              "      <td>123-19-1176</td>\n",
              "      <td>A</td>\n",
              "      <td>Member</td>\n",
              "      <td>M</td>\n",
              "      <td>Saúde e beleza</td>\n",
              "      <td>873.30</td>\n",
              "      <td>8</td>\n",
              "      <td>6986.40</td>\n",
              "      <td>1/27/2019</td>\n",
              "      <td>20:33:00</td>\n",
              "      <td>PIX</td>\n",
              "      <td>4191.8400</td>\n",
              "      <td>4761904762</td>\n",
              "      <td>23288</td>\n",
              "      <td>84</td>\n",
              "    </tr>\n",
              "    <tr>\n",
              "      <th>4</th>\n",
              "      <td>373-73-7910</td>\n",
              "      <td>A</td>\n",
              "      <td>Normal</td>\n",
              "      <td>M</td>\n",
              "      <td>Esportes e viagens</td>\n",
              "      <td>1294.65</td>\n",
              "      <td>7</td>\n",
              "      <td>9062.55</td>\n",
              "      <td>2/8/2019</td>\n",
              "      <td>10:37:00</td>\n",
              "      <td>PIX</td>\n",
              "      <td>6796.9125</td>\n",
              "      <td>4761904762</td>\n",
              "      <td>302085</td>\n",
              "      <td>53</td>\n",
              "    </tr>\n",
              "    <tr>\n",
              "      <th>...</th>\n",
              "      <td>...</td>\n",
              "      <td>...</td>\n",
              "      <td>...</td>\n",
              "      <td>...</td>\n",
              "      <td>...</td>\n",
              "      <td>...</td>\n",
              "      <td>...</td>\n",
              "      <td>...</td>\n",
              "      <td>...</td>\n",
              "      <td>...</td>\n",
              "      <td>...</td>\n",
              "      <td>...</td>\n",
              "      <td>...</td>\n",
              "      <td>...</td>\n",
              "      <td>...</td>\n",
              "    </tr>\n",
              "    <tr>\n",
              "      <th>995</th>\n",
              "      <td>233-67-5758</td>\n",
              "      <td>C</td>\n",
              "      <td>Normal</td>\n",
              "      <td>M</td>\n",
              "      <td>Saúde e beleza</td>\n",
              "      <td>605.25</td>\n",
              "      <td>1</td>\n",
              "      <td>605.25</td>\n",
              "      <td>1/29/2019</td>\n",
              "      <td>13:46:00</td>\n",
              "      <td>PIX</td>\n",
              "      <td>363.1500</td>\n",
              "      <td>4761904762</td>\n",
              "      <td>20175</td>\n",
              "      <td>62</td>\n",
              "    </tr>\n",
              "    <tr>\n",
              "      <th>996</th>\n",
              "      <td>303-96-2227</td>\n",
              "      <td>B</td>\n",
              "      <td>Normal</td>\n",
              "      <td>F</td>\n",
              "      <td>Casa e estilo de vida</td>\n",
              "      <td>1460.70</td>\n",
              "      <td>10</td>\n",
              "      <td>14607.00</td>\n",
              "      <td>3/2/2019</td>\n",
              "      <td>17:16:00</td>\n",
              "      <td>PIX</td>\n",
              "      <td>10224.9000</td>\n",
              "      <td>4761904762</td>\n",
              "      <td>4869</td>\n",
              "      <td>44</td>\n",
              "    </tr>\n",
              "    <tr>\n",
              "      <th>997</th>\n",
              "      <td>727-02-1313</td>\n",
              "      <td>A</td>\n",
              "      <td>Member</td>\n",
              "      <td>M</td>\n",
              "      <td>Comida e bebidas</td>\n",
              "      <td>477.60</td>\n",
              "      <td>1</td>\n",
              "      <td>477.60</td>\n",
              "      <td>2/9/2019</td>\n",
              "      <td>13:22:00</td>\n",
              "      <td>Dinheiro</td>\n",
              "      <td>405.9600</td>\n",
              "      <td>4761904762</td>\n",
              "      <td>1592</td>\n",
              "      <td>77</td>\n",
              "    </tr>\n",
              "    <tr>\n",
              "      <th>998</th>\n",
              "      <td>347-56-2442</td>\n",
              "      <td>A</td>\n",
              "      <td>Normal</td>\n",
              "      <td>M</td>\n",
              "      <td>Casa e estilo de vida</td>\n",
              "      <td>987.30</td>\n",
              "      <td>1</td>\n",
              "      <td>987.30</td>\n",
              "      <td>2/22/2019</td>\n",
              "      <td>15:33:00</td>\n",
              "      <td>Dinheiro</td>\n",
              "      <td>691.1100</td>\n",
              "      <td>4761904762</td>\n",
              "      <td>3291</td>\n",
              "      <td>41</td>\n",
              "    </tr>\n",
              "    <tr>\n",
              "      <th>999</th>\n",
              "      <td>849-09-3807</td>\n",
              "      <td>A</td>\n",
              "      <td>Member</td>\n",
              "      <td>F</td>\n",
              "      <td>Acessórios fashions</td>\n",
              "      <td>1325.10</td>\n",
              "      <td>7</td>\n",
              "      <td>9275.70</td>\n",
              "      <td>2/18/2019</td>\n",
              "      <td>13:28:00</td>\n",
              "      <td>Dinheiro</td>\n",
              "      <td>6956.7750</td>\n",
              "      <td>4761904762</td>\n",
              "      <td>30919</td>\n",
              "      <td>66</td>\n",
              "    </tr>\n",
              "  </tbody>\n",
              "</table>\n",
              "<p>1000 rows × 15 columns</p>\n",
              "</div>\n",
              "      <button class=\"colab-df-convert\" onclick=\"convertToInteractive('df-bb3333e4-5703-4fba-b959-1e50f8ea63d3')\"\n",
              "              title=\"Convert this dataframe to an interactive table.\"\n",
              "              style=\"display:none;\">\n",
              "        \n",
              "  <svg xmlns=\"http://www.w3.org/2000/svg\" height=\"24px\"viewBox=\"0 0 24 24\"\n",
              "       width=\"24px\">\n",
              "    <path d=\"M0 0h24v24H0V0z\" fill=\"none\"/>\n",
              "    <path d=\"M18.56 5.44l.94 2.06.94-2.06 2.06-.94-2.06-.94-.94-2.06-.94 2.06-2.06.94zm-11 1L8.5 8.5l.94-2.06 2.06-.94-2.06-.94L8.5 2.5l-.94 2.06-2.06.94zm10 10l.94 2.06.94-2.06 2.06-.94-2.06-.94-.94-2.06-.94 2.06-2.06.94z\"/><path d=\"M17.41 7.96l-1.37-1.37c-.4-.4-.92-.59-1.43-.59-.52 0-1.04.2-1.43.59L10.3 9.45l-7.72 7.72c-.78.78-.78 2.05 0 2.83L4 21.41c.39.39.9.59 1.41.59.51 0 1.02-.2 1.41-.59l7.78-7.78 2.81-2.81c.8-.78.8-2.07 0-2.86zM5.41 20L4 18.59l7.72-7.72 1.47 1.35L5.41 20z\"/>\n",
              "  </svg>\n",
              "      </button>\n",
              "      \n",
              "  <style>\n",
              "    .colab-df-container {\n",
              "      display:flex;\n",
              "      flex-wrap:wrap;\n",
              "      gap: 12px;\n",
              "    }\n",
              "\n",
              "    .colab-df-convert {\n",
              "      background-color: #E8F0FE;\n",
              "      border: none;\n",
              "      border-radius: 50%;\n",
              "      cursor: pointer;\n",
              "      display: none;\n",
              "      fill: #1967D2;\n",
              "      height: 32px;\n",
              "      padding: 0 0 0 0;\n",
              "      width: 32px;\n",
              "    }\n",
              "\n",
              "    .colab-df-convert:hover {\n",
              "      background-color: #E2EBFA;\n",
              "      box-shadow: 0px 1px 2px rgba(60, 64, 67, 0.3), 0px 1px 3px 1px rgba(60, 64, 67, 0.15);\n",
              "      fill: #174EA6;\n",
              "    }\n",
              "\n",
              "    [theme=dark] .colab-df-convert {\n",
              "      background-color: #3B4455;\n",
              "      fill: #D2E3FC;\n",
              "    }\n",
              "\n",
              "    [theme=dark] .colab-df-convert:hover {\n",
              "      background-color: #434B5C;\n",
              "      box-shadow: 0px 1px 3px 1px rgba(0, 0, 0, 0.15);\n",
              "      filter: drop-shadow(0px 1px 2px rgba(0, 0, 0, 0.3));\n",
              "      fill: #FFFFFF;\n",
              "    }\n",
              "  </style>\n",
              "\n",
              "      <script>\n",
              "        const buttonEl =\n",
              "          document.querySelector('#df-bb3333e4-5703-4fba-b959-1e50f8ea63d3 button.colab-df-convert');\n",
              "        buttonEl.style.display =\n",
              "          google.colab.kernel.accessAllowed ? 'block' : 'none';\n",
              "\n",
              "        async function convertToInteractive(key) {\n",
              "          const element = document.querySelector('#df-bb3333e4-5703-4fba-b959-1e50f8ea63d3');\n",
              "          const dataTable =\n",
              "            await google.colab.kernel.invokeFunction('convertToInteractive',\n",
              "                                                     [key], {});\n",
              "          if (!dataTable) return;\n",
              "\n",
              "          const docLinkHtml = 'Like what you see? Visit the ' +\n",
              "            '<a target=\"_blank\" href=https://colab.research.google.com/notebooks/data_table.ipynb>data table notebook</a>'\n",
              "            + ' to learn more about interactive tables.';\n",
              "          element.innerHTML = '';\n",
              "          dataTable['output_type'] = 'display_data';\n",
              "          await google.colab.output.renderOutput(dataTable, element);\n",
              "          const docLink = document.createElement('div');\n",
              "          docLink.innerHTML = docLinkHtml;\n",
              "          element.appendChild(docLink);\n",
              "        }\n",
              "      </script>\n",
              "    </div>\n",
              "  </div>\n",
              "  "
            ]
          },
          "metadata": {},
          "execution_count": 138
        }
      ]
    },
    {
      "cell_type": "code",
      "source": [
        "df.drop(columns=['porcentagem de margem bruta', 'renda bruta', 'ID da fatura'], inplace = True) #Deletando as colunas que não vão ser usadas"
      ],
      "metadata": {
        "id": "ROIfB9XTP-1-"
      },
      "execution_count": null,
      "outputs": []
    },
    {
      "cell_type": "code",
      "source": [
        "df.head()"
      ],
      "metadata": {
        "id": "3wBK9Q0iQYAj",
        "outputId": "779a1cb9-cee4-4eee-b384-68fba436b883",
        "colab": {
          "base_uri": "https://localhost:8080/",
          "height": 206
        }
      },
      "execution_count": null,
      "outputs": [
        {
          "output_type": "execute_result",
          "data": {
            "text/plain": [
              "  Filial Tipo de Cliente Gênero        Linha de produto  Preço unitário  \\\n",
              "0      A          Member      F          Saúde e beleza         1120.35   \n",
              "1      C          Normal      F  Acessórios eletrônicos          229.20   \n",
              "2      A          Normal      M   Casa e estilo de vida          694.95   \n",
              "3      A          Member      M          Saúde e beleza          873.30   \n",
              "4      A          Normal      M      Esportes e viagens         1294.65   \n",
              "\n",
              "   Quantidade    Total       Data     Tempo          Pagamento       COGS  \\\n",
              "0           7  7842.45   1/5/2019  13:08:00                PIX  4705.4700   \n",
              "1           5  1146.00   3/8/2019  10:29:00           Dinheiro  1031.4000   \n",
              "2           7  4864.65   3/3/2019  13:23:00  Cartão de Crédito  3405.2550   \n",
              "3           8  6986.40  1/27/2019  20:33:00                PIX  4191.8400   \n",
              "4           7  9062.55   2/8/2019  10:37:00                PIX  6796.9125   \n",
              "\n",
              "   Avaliação  \n",
              "0         91  \n",
              "1         96  \n",
              "2         74  \n",
              "3         84  \n",
              "4         53  "
            ],
            "text/html": [
              "\n",
              "  <div id=\"df-abcf93d6-8b5a-41d3-8c34-4f363afebe58\">\n",
              "    <div class=\"colab-df-container\">\n",
              "      <div>\n",
              "<style scoped>\n",
              "    .dataframe tbody tr th:only-of-type {\n",
              "        vertical-align: middle;\n",
              "    }\n",
              "\n",
              "    .dataframe tbody tr th {\n",
              "        vertical-align: top;\n",
              "    }\n",
              "\n",
              "    .dataframe thead th {\n",
              "        text-align: right;\n",
              "    }\n",
              "</style>\n",
              "<table border=\"1\" class=\"dataframe\">\n",
              "  <thead>\n",
              "    <tr style=\"text-align: right;\">\n",
              "      <th></th>\n",
              "      <th>Filial</th>\n",
              "      <th>Tipo de Cliente</th>\n",
              "      <th>Gênero</th>\n",
              "      <th>Linha de produto</th>\n",
              "      <th>Preço unitário</th>\n",
              "      <th>Quantidade</th>\n",
              "      <th>Total</th>\n",
              "      <th>Data</th>\n",
              "      <th>Tempo</th>\n",
              "      <th>Pagamento</th>\n",
              "      <th>COGS</th>\n",
              "      <th>Avaliação</th>\n",
              "    </tr>\n",
              "  </thead>\n",
              "  <tbody>\n",
              "    <tr>\n",
              "      <th>0</th>\n",
              "      <td>A</td>\n",
              "      <td>Member</td>\n",
              "      <td>F</td>\n",
              "      <td>Saúde e beleza</td>\n",
              "      <td>1120.35</td>\n",
              "      <td>7</td>\n",
              "      <td>7842.45</td>\n",
              "      <td>1/5/2019</td>\n",
              "      <td>13:08:00</td>\n",
              "      <td>PIX</td>\n",
              "      <td>4705.4700</td>\n",
              "      <td>91</td>\n",
              "    </tr>\n",
              "    <tr>\n",
              "      <th>1</th>\n",
              "      <td>C</td>\n",
              "      <td>Normal</td>\n",
              "      <td>F</td>\n",
              "      <td>Acessórios eletrônicos</td>\n",
              "      <td>229.20</td>\n",
              "      <td>5</td>\n",
              "      <td>1146.00</td>\n",
              "      <td>3/8/2019</td>\n",
              "      <td>10:29:00</td>\n",
              "      <td>Dinheiro</td>\n",
              "      <td>1031.4000</td>\n",
              "      <td>96</td>\n",
              "    </tr>\n",
              "    <tr>\n",
              "      <th>2</th>\n",
              "      <td>A</td>\n",
              "      <td>Normal</td>\n",
              "      <td>M</td>\n",
              "      <td>Casa e estilo de vida</td>\n",
              "      <td>694.95</td>\n",
              "      <td>7</td>\n",
              "      <td>4864.65</td>\n",
              "      <td>3/3/2019</td>\n",
              "      <td>13:23:00</td>\n",
              "      <td>Cartão de Crédito</td>\n",
              "      <td>3405.2550</td>\n",
              "      <td>74</td>\n",
              "    </tr>\n",
              "    <tr>\n",
              "      <th>3</th>\n",
              "      <td>A</td>\n",
              "      <td>Member</td>\n",
              "      <td>M</td>\n",
              "      <td>Saúde e beleza</td>\n",
              "      <td>873.30</td>\n",
              "      <td>8</td>\n",
              "      <td>6986.40</td>\n",
              "      <td>1/27/2019</td>\n",
              "      <td>20:33:00</td>\n",
              "      <td>PIX</td>\n",
              "      <td>4191.8400</td>\n",
              "      <td>84</td>\n",
              "    </tr>\n",
              "    <tr>\n",
              "      <th>4</th>\n",
              "      <td>A</td>\n",
              "      <td>Normal</td>\n",
              "      <td>M</td>\n",
              "      <td>Esportes e viagens</td>\n",
              "      <td>1294.65</td>\n",
              "      <td>7</td>\n",
              "      <td>9062.55</td>\n",
              "      <td>2/8/2019</td>\n",
              "      <td>10:37:00</td>\n",
              "      <td>PIX</td>\n",
              "      <td>6796.9125</td>\n",
              "      <td>53</td>\n",
              "    </tr>\n",
              "  </tbody>\n",
              "</table>\n",
              "</div>\n",
              "      <button class=\"colab-df-convert\" onclick=\"convertToInteractive('df-abcf93d6-8b5a-41d3-8c34-4f363afebe58')\"\n",
              "              title=\"Convert this dataframe to an interactive table.\"\n",
              "              style=\"display:none;\">\n",
              "        \n",
              "  <svg xmlns=\"http://www.w3.org/2000/svg\" height=\"24px\"viewBox=\"0 0 24 24\"\n",
              "       width=\"24px\">\n",
              "    <path d=\"M0 0h24v24H0V0z\" fill=\"none\"/>\n",
              "    <path d=\"M18.56 5.44l.94 2.06.94-2.06 2.06-.94-2.06-.94-.94-2.06-.94 2.06-2.06.94zm-11 1L8.5 8.5l.94-2.06 2.06-.94-2.06-.94L8.5 2.5l-.94 2.06-2.06.94zm10 10l.94 2.06.94-2.06 2.06-.94-2.06-.94-.94-2.06-.94 2.06-2.06.94z\"/><path d=\"M17.41 7.96l-1.37-1.37c-.4-.4-.92-.59-1.43-.59-.52 0-1.04.2-1.43.59L10.3 9.45l-7.72 7.72c-.78.78-.78 2.05 0 2.83L4 21.41c.39.39.9.59 1.41.59.51 0 1.02-.2 1.41-.59l7.78-7.78 2.81-2.81c.8-.78.8-2.07 0-2.86zM5.41 20L4 18.59l7.72-7.72 1.47 1.35L5.41 20z\"/>\n",
              "  </svg>\n",
              "      </button>\n",
              "      \n",
              "  <style>\n",
              "    .colab-df-container {\n",
              "      display:flex;\n",
              "      flex-wrap:wrap;\n",
              "      gap: 12px;\n",
              "    }\n",
              "\n",
              "    .colab-df-convert {\n",
              "      background-color: #E8F0FE;\n",
              "      border: none;\n",
              "      border-radius: 50%;\n",
              "      cursor: pointer;\n",
              "      display: none;\n",
              "      fill: #1967D2;\n",
              "      height: 32px;\n",
              "      padding: 0 0 0 0;\n",
              "      width: 32px;\n",
              "    }\n",
              "\n",
              "    .colab-df-convert:hover {\n",
              "      background-color: #E2EBFA;\n",
              "      box-shadow: 0px 1px 2px rgba(60, 64, 67, 0.3), 0px 1px 3px 1px rgba(60, 64, 67, 0.15);\n",
              "      fill: #174EA6;\n",
              "    }\n",
              "\n",
              "    [theme=dark] .colab-df-convert {\n",
              "      background-color: #3B4455;\n",
              "      fill: #D2E3FC;\n",
              "    }\n",
              "\n",
              "    [theme=dark] .colab-df-convert:hover {\n",
              "      background-color: #434B5C;\n",
              "      box-shadow: 0px 1px 3px 1px rgba(0, 0, 0, 0.15);\n",
              "      filter: drop-shadow(0px 1px 2px rgba(0, 0, 0, 0.3));\n",
              "      fill: #FFFFFF;\n",
              "    }\n",
              "  </style>\n",
              "\n",
              "      <script>\n",
              "        const buttonEl =\n",
              "          document.querySelector('#df-abcf93d6-8b5a-41d3-8c34-4f363afebe58 button.colab-df-convert');\n",
              "        buttonEl.style.display =\n",
              "          google.colab.kernel.accessAllowed ? 'block' : 'none';\n",
              "\n",
              "        async function convertToInteractive(key) {\n",
              "          const element = document.querySelector('#df-abcf93d6-8b5a-41d3-8c34-4f363afebe58');\n",
              "          const dataTable =\n",
              "            await google.colab.kernel.invokeFunction('convertToInteractive',\n",
              "                                                     [key], {});\n",
              "          if (!dataTable) return;\n",
              "\n",
              "          const docLinkHtml = 'Like what you see? Visit the ' +\n",
              "            '<a target=\"_blank\" href=https://colab.research.google.com/notebooks/data_table.ipynb>data table notebook</a>'\n",
              "            + ' to learn more about interactive tables.';\n",
              "          element.innerHTML = '';\n",
              "          dataTable['output_type'] = 'display_data';\n",
              "          await google.colab.output.renderOutput(dataTable, element);\n",
              "          const docLink = document.createElement('div');\n",
              "          docLink.innerHTML = docLinkHtml;\n",
              "          element.appendChild(docLink);\n",
              "        }\n",
              "      </script>\n",
              "    </div>\n",
              "  </div>\n",
              "  "
            ]
          },
          "metadata": {},
          "execution_count": 140
        }
      ]
    },
    {
      "cell_type": "code",
      "source": [
        "df.replace({'Tipo de Cliente' : {'Member' : 'Associado'}}, inplace = True) #Trocando o nome Member por Associado, na coluna Tipo de Cliente"
      ],
      "metadata": {
        "id": "djJ715IgReLi"
      },
      "execution_count": null,
      "outputs": []
    },
    {
      "cell_type": "code",
      "source": [
        "df.head()"
      ],
      "metadata": {
        "id": "8199jmvvSHAV",
        "outputId": "d39f3025-e11e-4874-9d81-849c432360e7",
        "colab": {
          "base_uri": "https://localhost:8080/",
          "height": 206
        }
      },
      "execution_count": null,
      "outputs": [
        {
          "output_type": "execute_result",
          "data": {
            "text/plain": [
              "  Filial Tipo de Cliente Gênero        Linha de produto  Preço unitário  \\\n",
              "0      A       Associado      F          Saúde e beleza         1120.35   \n",
              "1      C          Normal      F  Acessórios eletrônicos          229.20   \n",
              "2      A          Normal      M   Casa e estilo de vida          694.95   \n",
              "3      A       Associado      M          Saúde e beleza          873.30   \n",
              "4      A          Normal      M      Esportes e viagens         1294.65   \n",
              "\n",
              "   Quantidade    Total       Data     Tempo          Pagamento       COGS  \\\n",
              "0           7  7842.45   1/5/2019  13:08:00                PIX  4705.4700   \n",
              "1           5  1146.00   3/8/2019  10:29:00           Dinheiro  1031.4000   \n",
              "2           7  4864.65   3/3/2019  13:23:00  Cartão de Crédito  3405.2550   \n",
              "3           8  6986.40  1/27/2019  20:33:00                PIX  4191.8400   \n",
              "4           7  9062.55   2/8/2019  10:37:00                PIX  6796.9125   \n",
              "\n",
              "   Avaliação  \n",
              "0         91  \n",
              "1         96  \n",
              "2         74  \n",
              "3         84  \n",
              "4         53  "
            ],
            "text/html": [
              "\n",
              "  <div id=\"df-94c4b102-5d78-41cd-a9b3-ff7218611c53\">\n",
              "    <div class=\"colab-df-container\">\n",
              "      <div>\n",
              "<style scoped>\n",
              "    .dataframe tbody tr th:only-of-type {\n",
              "        vertical-align: middle;\n",
              "    }\n",
              "\n",
              "    .dataframe tbody tr th {\n",
              "        vertical-align: top;\n",
              "    }\n",
              "\n",
              "    .dataframe thead th {\n",
              "        text-align: right;\n",
              "    }\n",
              "</style>\n",
              "<table border=\"1\" class=\"dataframe\">\n",
              "  <thead>\n",
              "    <tr style=\"text-align: right;\">\n",
              "      <th></th>\n",
              "      <th>Filial</th>\n",
              "      <th>Tipo de Cliente</th>\n",
              "      <th>Gênero</th>\n",
              "      <th>Linha de produto</th>\n",
              "      <th>Preço unitário</th>\n",
              "      <th>Quantidade</th>\n",
              "      <th>Total</th>\n",
              "      <th>Data</th>\n",
              "      <th>Tempo</th>\n",
              "      <th>Pagamento</th>\n",
              "      <th>COGS</th>\n",
              "      <th>Avaliação</th>\n",
              "    </tr>\n",
              "  </thead>\n",
              "  <tbody>\n",
              "    <tr>\n",
              "      <th>0</th>\n",
              "      <td>A</td>\n",
              "      <td>Associado</td>\n",
              "      <td>F</td>\n",
              "      <td>Saúde e beleza</td>\n",
              "      <td>1120.35</td>\n",
              "      <td>7</td>\n",
              "      <td>7842.45</td>\n",
              "      <td>1/5/2019</td>\n",
              "      <td>13:08:00</td>\n",
              "      <td>PIX</td>\n",
              "      <td>4705.4700</td>\n",
              "      <td>91</td>\n",
              "    </tr>\n",
              "    <tr>\n",
              "      <th>1</th>\n",
              "      <td>C</td>\n",
              "      <td>Normal</td>\n",
              "      <td>F</td>\n",
              "      <td>Acessórios eletrônicos</td>\n",
              "      <td>229.20</td>\n",
              "      <td>5</td>\n",
              "      <td>1146.00</td>\n",
              "      <td>3/8/2019</td>\n",
              "      <td>10:29:00</td>\n",
              "      <td>Dinheiro</td>\n",
              "      <td>1031.4000</td>\n",
              "      <td>96</td>\n",
              "    </tr>\n",
              "    <tr>\n",
              "      <th>2</th>\n",
              "      <td>A</td>\n",
              "      <td>Normal</td>\n",
              "      <td>M</td>\n",
              "      <td>Casa e estilo de vida</td>\n",
              "      <td>694.95</td>\n",
              "      <td>7</td>\n",
              "      <td>4864.65</td>\n",
              "      <td>3/3/2019</td>\n",
              "      <td>13:23:00</td>\n",
              "      <td>Cartão de Crédito</td>\n",
              "      <td>3405.2550</td>\n",
              "      <td>74</td>\n",
              "    </tr>\n",
              "    <tr>\n",
              "      <th>3</th>\n",
              "      <td>A</td>\n",
              "      <td>Associado</td>\n",
              "      <td>M</td>\n",
              "      <td>Saúde e beleza</td>\n",
              "      <td>873.30</td>\n",
              "      <td>8</td>\n",
              "      <td>6986.40</td>\n",
              "      <td>1/27/2019</td>\n",
              "      <td>20:33:00</td>\n",
              "      <td>PIX</td>\n",
              "      <td>4191.8400</td>\n",
              "      <td>84</td>\n",
              "    </tr>\n",
              "    <tr>\n",
              "      <th>4</th>\n",
              "      <td>A</td>\n",
              "      <td>Normal</td>\n",
              "      <td>M</td>\n",
              "      <td>Esportes e viagens</td>\n",
              "      <td>1294.65</td>\n",
              "      <td>7</td>\n",
              "      <td>9062.55</td>\n",
              "      <td>2/8/2019</td>\n",
              "      <td>10:37:00</td>\n",
              "      <td>PIX</td>\n",
              "      <td>6796.9125</td>\n",
              "      <td>53</td>\n",
              "    </tr>\n",
              "  </tbody>\n",
              "</table>\n",
              "</div>\n",
              "      <button class=\"colab-df-convert\" onclick=\"convertToInteractive('df-94c4b102-5d78-41cd-a9b3-ff7218611c53')\"\n",
              "              title=\"Convert this dataframe to an interactive table.\"\n",
              "              style=\"display:none;\">\n",
              "        \n",
              "  <svg xmlns=\"http://www.w3.org/2000/svg\" height=\"24px\"viewBox=\"0 0 24 24\"\n",
              "       width=\"24px\">\n",
              "    <path d=\"M0 0h24v24H0V0z\" fill=\"none\"/>\n",
              "    <path d=\"M18.56 5.44l.94 2.06.94-2.06 2.06-.94-2.06-.94-.94-2.06-.94 2.06-2.06.94zm-11 1L8.5 8.5l.94-2.06 2.06-.94-2.06-.94L8.5 2.5l-.94 2.06-2.06.94zm10 10l.94 2.06.94-2.06 2.06-.94-2.06-.94-.94-2.06-.94 2.06-2.06.94z\"/><path d=\"M17.41 7.96l-1.37-1.37c-.4-.4-.92-.59-1.43-.59-.52 0-1.04.2-1.43.59L10.3 9.45l-7.72 7.72c-.78.78-.78 2.05 0 2.83L4 21.41c.39.39.9.59 1.41.59.51 0 1.02-.2 1.41-.59l7.78-7.78 2.81-2.81c.8-.78.8-2.07 0-2.86zM5.41 20L4 18.59l7.72-7.72 1.47 1.35L5.41 20z\"/>\n",
              "  </svg>\n",
              "      </button>\n",
              "      \n",
              "  <style>\n",
              "    .colab-df-container {\n",
              "      display:flex;\n",
              "      flex-wrap:wrap;\n",
              "      gap: 12px;\n",
              "    }\n",
              "\n",
              "    .colab-df-convert {\n",
              "      background-color: #E8F0FE;\n",
              "      border: none;\n",
              "      border-radius: 50%;\n",
              "      cursor: pointer;\n",
              "      display: none;\n",
              "      fill: #1967D2;\n",
              "      height: 32px;\n",
              "      padding: 0 0 0 0;\n",
              "      width: 32px;\n",
              "    }\n",
              "\n",
              "    .colab-df-convert:hover {\n",
              "      background-color: #E2EBFA;\n",
              "      box-shadow: 0px 1px 2px rgba(60, 64, 67, 0.3), 0px 1px 3px 1px rgba(60, 64, 67, 0.15);\n",
              "      fill: #174EA6;\n",
              "    }\n",
              "\n",
              "    [theme=dark] .colab-df-convert {\n",
              "      background-color: #3B4455;\n",
              "      fill: #D2E3FC;\n",
              "    }\n",
              "\n",
              "    [theme=dark] .colab-df-convert:hover {\n",
              "      background-color: #434B5C;\n",
              "      box-shadow: 0px 1px 3px 1px rgba(0, 0, 0, 0.15);\n",
              "      filter: drop-shadow(0px 1px 2px rgba(0, 0, 0, 0.3));\n",
              "      fill: #FFFFFF;\n",
              "    }\n",
              "  </style>\n",
              "\n",
              "      <script>\n",
              "        const buttonEl =\n",
              "          document.querySelector('#df-94c4b102-5d78-41cd-a9b3-ff7218611c53 button.colab-df-convert');\n",
              "        buttonEl.style.display =\n",
              "          google.colab.kernel.accessAllowed ? 'block' : 'none';\n",
              "\n",
              "        async function convertToInteractive(key) {\n",
              "          const element = document.querySelector('#df-94c4b102-5d78-41cd-a9b3-ff7218611c53');\n",
              "          const dataTable =\n",
              "            await google.colab.kernel.invokeFunction('convertToInteractive',\n",
              "                                                     [key], {});\n",
              "          if (!dataTable) return;\n",
              "\n",
              "          const docLinkHtml = 'Like what you see? Visit the ' +\n",
              "            '<a target=\"_blank\" href=https://colab.research.google.com/notebooks/data_table.ipynb>data table notebook</a>'\n",
              "            + ' to learn more about interactive tables.';\n",
              "          element.innerHTML = '';\n",
              "          dataTable['output_type'] = 'display_data';\n",
              "          await google.colab.output.renderOutput(dataTable, element);\n",
              "          const docLink = document.createElement('div');\n",
              "          docLink.innerHTML = docLinkHtml;\n",
              "          element.appendChild(docLink);\n",
              "        }\n",
              "      </script>\n",
              "    </div>\n",
              "  </div>\n",
              "  "
            ]
          },
          "metadata": {},
          "execution_count": 142
        }
      ]
    },
    {
      "cell_type": "code",
      "source": [
        "df.rename(columns={'Tempo':'Horário'}, inplace = True) #Trocando o nome da coluna Tempo por Horário"
      ],
      "metadata": {
        "id": "aiRb7LrjSL-N"
      },
      "execution_count": null,
      "outputs": []
    },
    {
      "cell_type": "code",
      "source": [
        "df.head()"
      ],
      "metadata": {
        "id": "IBws7Af_T7KC",
        "outputId": "4791ff28-ec21-40d0-b728-6c6bb86aa256",
        "colab": {
          "base_uri": "https://localhost:8080/",
          "height": 206
        }
      },
      "execution_count": null,
      "outputs": [
        {
          "output_type": "execute_result",
          "data": {
            "text/plain": [
              "  Filial Tipo de Cliente Gênero        Linha de produto  Preço unitário  \\\n",
              "0      A       Associado      F          Saúde e beleza         1120.35   \n",
              "1      C          Normal      F  Acessórios eletrônicos          229.20   \n",
              "2      A          Normal      M   Casa e estilo de vida          694.95   \n",
              "3      A       Associado      M          Saúde e beleza          873.30   \n",
              "4      A          Normal      M      Esportes e viagens         1294.65   \n",
              "\n",
              "   Quantidade    Total       Data   Horário          Pagamento       COGS  \\\n",
              "0           7  7842.45   1/5/2019  13:08:00                PIX  4705.4700   \n",
              "1           5  1146.00   3/8/2019  10:29:00           Dinheiro  1031.4000   \n",
              "2           7  4864.65   3/3/2019  13:23:00  Cartão de Crédito  3405.2550   \n",
              "3           8  6986.40  1/27/2019  20:33:00                PIX  4191.8400   \n",
              "4           7  9062.55   2/8/2019  10:37:00                PIX  6796.9125   \n",
              "\n",
              "   Avaliação  \n",
              "0         91  \n",
              "1         96  \n",
              "2         74  \n",
              "3         84  \n",
              "4         53  "
            ],
            "text/html": [
              "\n",
              "  <div id=\"df-ea81d8be-6b88-4560-8d0a-a5460f698bdf\">\n",
              "    <div class=\"colab-df-container\">\n",
              "      <div>\n",
              "<style scoped>\n",
              "    .dataframe tbody tr th:only-of-type {\n",
              "        vertical-align: middle;\n",
              "    }\n",
              "\n",
              "    .dataframe tbody tr th {\n",
              "        vertical-align: top;\n",
              "    }\n",
              "\n",
              "    .dataframe thead th {\n",
              "        text-align: right;\n",
              "    }\n",
              "</style>\n",
              "<table border=\"1\" class=\"dataframe\">\n",
              "  <thead>\n",
              "    <tr style=\"text-align: right;\">\n",
              "      <th></th>\n",
              "      <th>Filial</th>\n",
              "      <th>Tipo de Cliente</th>\n",
              "      <th>Gênero</th>\n",
              "      <th>Linha de produto</th>\n",
              "      <th>Preço unitário</th>\n",
              "      <th>Quantidade</th>\n",
              "      <th>Total</th>\n",
              "      <th>Data</th>\n",
              "      <th>Horário</th>\n",
              "      <th>Pagamento</th>\n",
              "      <th>COGS</th>\n",
              "      <th>Avaliação</th>\n",
              "    </tr>\n",
              "  </thead>\n",
              "  <tbody>\n",
              "    <tr>\n",
              "      <th>0</th>\n",
              "      <td>A</td>\n",
              "      <td>Associado</td>\n",
              "      <td>F</td>\n",
              "      <td>Saúde e beleza</td>\n",
              "      <td>1120.35</td>\n",
              "      <td>7</td>\n",
              "      <td>7842.45</td>\n",
              "      <td>1/5/2019</td>\n",
              "      <td>13:08:00</td>\n",
              "      <td>PIX</td>\n",
              "      <td>4705.4700</td>\n",
              "      <td>91</td>\n",
              "    </tr>\n",
              "    <tr>\n",
              "      <th>1</th>\n",
              "      <td>C</td>\n",
              "      <td>Normal</td>\n",
              "      <td>F</td>\n",
              "      <td>Acessórios eletrônicos</td>\n",
              "      <td>229.20</td>\n",
              "      <td>5</td>\n",
              "      <td>1146.00</td>\n",
              "      <td>3/8/2019</td>\n",
              "      <td>10:29:00</td>\n",
              "      <td>Dinheiro</td>\n",
              "      <td>1031.4000</td>\n",
              "      <td>96</td>\n",
              "    </tr>\n",
              "    <tr>\n",
              "      <th>2</th>\n",
              "      <td>A</td>\n",
              "      <td>Normal</td>\n",
              "      <td>M</td>\n",
              "      <td>Casa e estilo de vida</td>\n",
              "      <td>694.95</td>\n",
              "      <td>7</td>\n",
              "      <td>4864.65</td>\n",
              "      <td>3/3/2019</td>\n",
              "      <td>13:23:00</td>\n",
              "      <td>Cartão de Crédito</td>\n",
              "      <td>3405.2550</td>\n",
              "      <td>74</td>\n",
              "    </tr>\n",
              "    <tr>\n",
              "      <th>3</th>\n",
              "      <td>A</td>\n",
              "      <td>Associado</td>\n",
              "      <td>M</td>\n",
              "      <td>Saúde e beleza</td>\n",
              "      <td>873.30</td>\n",
              "      <td>8</td>\n",
              "      <td>6986.40</td>\n",
              "      <td>1/27/2019</td>\n",
              "      <td>20:33:00</td>\n",
              "      <td>PIX</td>\n",
              "      <td>4191.8400</td>\n",
              "      <td>84</td>\n",
              "    </tr>\n",
              "    <tr>\n",
              "      <th>4</th>\n",
              "      <td>A</td>\n",
              "      <td>Normal</td>\n",
              "      <td>M</td>\n",
              "      <td>Esportes e viagens</td>\n",
              "      <td>1294.65</td>\n",
              "      <td>7</td>\n",
              "      <td>9062.55</td>\n",
              "      <td>2/8/2019</td>\n",
              "      <td>10:37:00</td>\n",
              "      <td>PIX</td>\n",
              "      <td>6796.9125</td>\n",
              "      <td>53</td>\n",
              "    </tr>\n",
              "  </tbody>\n",
              "</table>\n",
              "</div>\n",
              "      <button class=\"colab-df-convert\" onclick=\"convertToInteractive('df-ea81d8be-6b88-4560-8d0a-a5460f698bdf')\"\n",
              "              title=\"Convert this dataframe to an interactive table.\"\n",
              "              style=\"display:none;\">\n",
              "        \n",
              "  <svg xmlns=\"http://www.w3.org/2000/svg\" height=\"24px\"viewBox=\"0 0 24 24\"\n",
              "       width=\"24px\">\n",
              "    <path d=\"M0 0h24v24H0V0z\" fill=\"none\"/>\n",
              "    <path d=\"M18.56 5.44l.94 2.06.94-2.06 2.06-.94-2.06-.94-.94-2.06-.94 2.06-2.06.94zm-11 1L8.5 8.5l.94-2.06 2.06-.94-2.06-.94L8.5 2.5l-.94 2.06-2.06.94zm10 10l.94 2.06.94-2.06 2.06-.94-2.06-.94-.94-2.06-.94 2.06-2.06.94z\"/><path d=\"M17.41 7.96l-1.37-1.37c-.4-.4-.92-.59-1.43-.59-.52 0-1.04.2-1.43.59L10.3 9.45l-7.72 7.72c-.78.78-.78 2.05 0 2.83L4 21.41c.39.39.9.59 1.41.59.51 0 1.02-.2 1.41-.59l7.78-7.78 2.81-2.81c.8-.78.8-2.07 0-2.86zM5.41 20L4 18.59l7.72-7.72 1.47 1.35L5.41 20z\"/>\n",
              "  </svg>\n",
              "      </button>\n",
              "      \n",
              "  <style>\n",
              "    .colab-df-container {\n",
              "      display:flex;\n",
              "      flex-wrap:wrap;\n",
              "      gap: 12px;\n",
              "    }\n",
              "\n",
              "    .colab-df-convert {\n",
              "      background-color: #E8F0FE;\n",
              "      border: none;\n",
              "      border-radius: 50%;\n",
              "      cursor: pointer;\n",
              "      display: none;\n",
              "      fill: #1967D2;\n",
              "      height: 32px;\n",
              "      padding: 0 0 0 0;\n",
              "      width: 32px;\n",
              "    }\n",
              "\n",
              "    .colab-df-convert:hover {\n",
              "      background-color: #E2EBFA;\n",
              "      box-shadow: 0px 1px 2px rgba(60, 64, 67, 0.3), 0px 1px 3px 1px rgba(60, 64, 67, 0.15);\n",
              "      fill: #174EA6;\n",
              "    }\n",
              "\n",
              "    [theme=dark] .colab-df-convert {\n",
              "      background-color: #3B4455;\n",
              "      fill: #D2E3FC;\n",
              "    }\n",
              "\n",
              "    [theme=dark] .colab-df-convert:hover {\n",
              "      background-color: #434B5C;\n",
              "      box-shadow: 0px 1px 3px 1px rgba(0, 0, 0, 0.15);\n",
              "      filter: drop-shadow(0px 1px 2px rgba(0, 0, 0, 0.3));\n",
              "      fill: #FFFFFF;\n",
              "    }\n",
              "  </style>\n",
              "\n",
              "      <script>\n",
              "        const buttonEl =\n",
              "          document.querySelector('#df-ea81d8be-6b88-4560-8d0a-a5460f698bdf button.colab-df-convert');\n",
              "        buttonEl.style.display =\n",
              "          google.colab.kernel.accessAllowed ? 'block' : 'none';\n",
              "\n",
              "        async function convertToInteractive(key) {\n",
              "          const element = document.querySelector('#df-ea81d8be-6b88-4560-8d0a-a5460f698bdf');\n",
              "          const dataTable =\n",
              "            await google.colab.kernel.invokeFunction('convertToInteractive',\n",
              "                                                     [key], {});\n",
              "          if (!dataTable) return;\n",
              "\n",
              "          const docLinkHtml = 'Like what you see? Visit the ' +\n",
              "            '<a target=\"_blank\" href=https://colab.research.google.com/notebooks/data_table.ipynb>data table notebook</a>'\n",
              "            + ' to learn more about interactive tables.';\n",
              "          element.innerHTML = '';\n",
              "          dataTable['output_type'] = 'display_data';\n",
              "          await google.colab.output.renderOutput(dataTable, element);\n",
              "          const docLink = document.createElement('div');\n",
              "          docLink.innerHTML = docLinkHtml;\n",
              "          element.appendChild(docLink);\n",
              "        }\n",
              "      </script>\n",
              "    </div>\n",
              "  </div>\n",
              "  "
            ]
          },
          "metadata": {},
          "execution_count": 144
        }
      ]
    },
    {
      "cell_type": "markdown",
      "source": [
        "#<font color='red'>O que significa a função unique()?</font>"
      ],
      "metadata": {
        "id": "0J9PIFcOFNGA"
      }
    },
    {
      "cell_type": "markdown",
      "source": [
        "Filtrar as informações sem repetições"
      ],
      "metadata": {
        "id": "y8FIGg6QtOlK"
      }
    },
    {
      "cell_type": "code",
      "source": [
        "df['Data'].unique() #Verificando na coluna Data quais meses existem nesse caso apenas 1,2,3."
      ],
      "metadata": {
        "id": "dWQDFVLtUcq4",
        "outputId": "43ad5b8c-91e6-4811-ee45-b84cd76d9bbc",
        "colab": {
          "base_uri": "https://localhost:8080/"
        }
      },
      "execution_count": null,
      "outputs": [
        {
          "output_type": "execute_result",
          "data": {
            "text/plain": [
              "array(['1/5/2019', '3/8/2019', '3/3/2019', '1/27/2019', '2/8/2019',\n",
              "       '3/25/2019', '2/25/2019', '2/24/2019', '1/10/2019', '2/20/2019',\n",
              "       '2/6/2019', '3/9/2019', '2/12/2019', '2/7/2019', '3/29/2019',\n",
              "       '1/15/2019', '3/11/2019', '1/1/2019', '1/21/2019', '3/5/2019',\n",
              "       '3/15/2019', '2/17/2019', '3/2/2019', '3/22/2019', '3/10/2019',\n",
              "       '1/25/2019', '1/28/2019', '1/7/2019', '3/23/2019', '1/17/2019',\n",
              "       '2/2/2019', '3/4/2019', '3/16/2019', '2/27/2019', '2/10/2019',\n",
              "       '3/19/2019', '2/3/2019', '3/7/2019', '2/28/2019', '3/27/2019',\n",
              "       '1/20/2019', '3/12/2019', '2/15/2019', '3/6/2019', '2/14/2019',\n",
              "       '3/13/2019', '1/24/2019', '1/6/2019', '2/11/2019', '1/22/2019',\n",
              "       '1/13/2019', '1/9/2019', '1/12/2019', '1/26/2019', '1/23/2019',\n",
              "       '2/23/2019', '1/2/2019', '2/9/2019', '3/26/2019', '3/1/2019',\n",
              "       '2/1/2019', '3/28/2019', '3/24/2019', '2/5/2019', '1/19/2019',\n",
              "       '1/16/2019', '1/8/2019', '2/18/2019', '1/18/2019', '2/16/2019',\n",
              "       '2/22/2019', '1/29/2019', '1/4/2019', '3/30/2019', '1/30/2019',\n",
              "       '1/3/2019', '3/21/2019', '2/13/2019', '1/14/2019', '3/18/2019',\n",
              "       '3/20/2019', '2/21/2019', '1/31/2019', '1/11/2019', '2/26/2019',\n",
              "       '3/17/2019', '3/14/2019', '2/4/2019', '2/19/2019'], dtype=object)"
            ]
          },
          "metadata": {},
          "execution_count": 145
        }
      ]
    },
    {
      "cell_type": "code",
      "source": [
        "df['Horário'] #Mostra apenas a coluna Horário"
      ],
      "metadata": {
        "id": "SZs2rgneUvf2",
        "outputId": "ce94b888-e756-4067-d365-e4a8d95c5c96",
        "colab": {
          "base_uri": "https://localhost:8080/"
        }
      },
      "execution_count": null,
      "outputs": [
        {
          "output_type": "execute_result",
          "data": {
            "text/plain": [
              "0      13:08:00\n",
              "1      10:29:00\n",
              "2      13:23:00\n",
              "3      20:33:00\n",
              "4      10:37:00\n",
              "         ...   \n",
              "995    13:46:00\n",
              "996    17:16:00\n",
              "997    13:22:00\n",
              "998    15:33:00\n",
              "999    13:28:00\n",
              "Name: Horário, Length: 1000, dtype: object"
            ]
          },
          "metadata": {},
          "execution_count": 146
        }
      ]
    },
    {
      "cell_type": "markdown",
      "source": [
        "#<font color='red'>Por que precisamos converter para datatime64? O que significa isso?</font>"
      ],
      "metadata": {
        "id": "kQBMtjxYFdJR"
      }
    },
    {
      "cell_type": "markdown",
      "source": [
        "Serve para manipular data e horario"
      ],
      "metadata": {
        "id": "D5vwVPBitTAA"
      }
    },
    {
      "cell_type": "code",
      "source": [
        "df['Data'] = pd.to_datetime(df['Data']) #Converte objeto para datatime64 (manipular data e hora)"
      ],
      "metadata": {
        "id": "vmd2D08QUznc"
      },
      "execution_count": null,
      "outputs": []
    },
    {
      "cell_type": "code",
      "source": [
        "df['Data']"
      ],
      "metadata": {
        "id": "ca4qYZOfcdlF",
        "outputId": "b7abb7a4-bce6-48f6-f904-721dbe76d697",
        "colab": {
          "base_uri": "https://localhost:8080/"
        }
      },
      "execution_count": null,
      "outputs": [
        {
          "output_type": "execute_result",
          "data": {
            "text/plain": [
              "0     2019-01-05\n",
              "1     2019-03-08\n",
              "2     2019-03-03\n",
              "3     2019-01-27\n",
              "4     2019-02-08\n",
              "         ...    \n",
              "995   2019-01-29\n",
              "996   2019-03-02\n",
              "997   2019-02-09\n",
              "998   2019-02-22\n",
              "999   2019-02-18\n",
              "Name: Data, Length: 1000, dtype: datetime64[ns]"
            ]
          },
          "metadata": {},
          "execution_count": 148
        }
      ]
    },
    {
      "cell_type": "code",
      "source": [
        "df['Horário'] = pd.to_datetime(df['Horário']) #Converte objeto para datatime64 (manipular data e hora)"
      ],
      "metadata": {
        "id": "SKd8kD0mcftG"
      },
      "execution_count": null,
      "outputs": []
    },
    {
      "cell_type": "code",
      "source": [
        "df['Horário']"
      ],
      "metadata": {
        "id": "t8ViDePWc7JJ",
        "outputId": "4a97fe3f-929c-4eac-f7fc-22e3c5ccf2c8",
        "colab": {
          "base_uri": "https://localhost:8080/"
        }
      },
      "execution_count": null,
      "outputs": [
        {
          "output_type": "execute_result",
          "data": {
            "text/plain": [
              "0     2023-03-26 13:08:00\n",
              "1     2023-03-26 10:29:00\n",
              "2     2023-03-26 13:23:00\n",
              "3     2023-03-26 20:33:00\n",
              "4     2023-03-26 10:37:00\n",
              "              ...        \n",
              "995   2023-03-26 13:46:00\n",
              "996   2023-03-26 17:16:00\n",
              "997   2023-03-26 13:22:00\n",
              "998   2023-03-26 15:33:00\n",
              "999   2023-03-26 13:28:00\n",
              "Name: Horário, Length: 1000, dtype: datetime64[ns]"
            ]
          },
          "metadata": {},
          "execution_count": 150
        }
      ]
    },
    {
      "cell_type": "markdown",
      "source": [
        "#IMPORTANTE: Esse comando foi atrasado, deveria ter sido executado no começo para verificar se algum dado está repetido."
      ],
      "metadata": {
        "id": "_cUI3lqPD7eQ"
      }
    },
    {
      "cell_type": "markdown",
      "source": [
        "#<font color='red'>Por que esse comando é importante quando se trata de KDD?</font>"
      ],
      "metadata": {
        "id": "l02NcFJwFuxh"
      }
    },
    {
      "cell_type": "markdown",
      "source": [
        "Ele e importante para mostrar se tem dados duplicados no banco"
      ],
      "metadata": {
        "id": "vhRYydF4tW-s"
      }
    },
    {
      "cell_type": "code",
      "source": [
        "df.duplicated().sum() "
      ],
      "metadata": {
        "id": "m10NgQo2c8ZG",
        "outputId": "9aca091a-bef0-45b9-e9e7-4dd6fe49253b",
        "colab": {
          "base_uri": "https://localhost:8080/"
        }
      },
      "execution_count": null,
      "outputs": [
        {
          "output_type": "execute_result",
          "data": {
            "text/plain": [
              "0"
            ]
          },
          "metadata": {},
          "execution_count": 151
        }
      ]
    },
    {
      "cell_type": "code",
      "source": [
        "df.dtypes # comando para analisar os tipos de dados no seu dataframe"
      ],
      "metadata": {
        "id": "17iE61fMdPX0",
        "outputId": "9af8699a-fb5b-4862-e953-f75513369add",
        "colab": {
          "base_uri": "https://localhost:8080/"
        }
      },
      "execution_count": null,
      "outputs": [
        {
          "output_type": "execute_result",
          "data": {
            "text/plain": [
              "Filial                      object\n",
              "Tipo de Cliente             object\n",
              "Gênero                      object\n",
              "Linha de produto            object\n",
              "Preço unitário             float64\n",
              "Quantidade                   int64\n",
              "Total                      float64\n",
              "Data                datetime64[ns]\n",
              "Horário             datetime64[ns]\n",
              "Pagamento                   object\n",
              "COGS                       float64\n",
              "Avaliação                    int64\n",
              "dtype: object"
            ]
          },
          "metadata": {},
          "execution_count": 152
        }
      ]
    },
    {
      "cell_type": "markdown",
      "source": [
        "#<font color='red'>O que é dicionário em python, para que serve?</font>"
      ],
      "metadata": {
        "id": "FYiHwpXJF_Ww"
      }
    },
    {
      "cell_type": "markdown",
      "source": [
        "O dicionario serve para modificar informações, como por exemplo mudar um Date para uma String, armazenando todos os dados, sendo usado o '{}'"
      ],
      "metadata": {
        "id": "ATd7MoSItvm-"
      }
    },
    {
      "cell_type": "code",
      "source": [
        "meses = {1: 'Janeiro', 2:'Fevereiro', 3: 'Março'} # Criando um dicionário "
      ],
      "metadata": {
        "id": "0J-bcsFudl4F"
      },
      "execution_count": null,
      "outputs": []
    },
    {
      "cell_type": "markdown",
      "source": [
        "#<font color='red'>Explique a função dt.month.map(meses)?</font>"
      ],
      "metadata": {
        "id": "lDeJ_JcRJC_6"
      }
    },
    {
      "cell_type": "markdown",
      "source": [
        "Para mapear numeros de meses para seus respectivos nomes"
      ],
      "metadata": {
        "id": "MIDy1eOjtzFP"
      }
    },
    {
      "cell_type": "code",
      "source": [
        "df['Data'] = pd.to_datetime(df['Data']).dt.month.map(meses) #Mapear o número mês para string mês"
      ],
      "metadata": {
        "id": "EhWVAQUCeC2w"
      },
      "execution_count": null,
      "outputs": []
    },
    {
      "cell_type": "code",
      "source": [
        "df.head()"
      ],
      "metadata": {
        "id": "e_5ofzjTElkc",
        "outputId": "041fc9ea-32fe-49f7-83a6-36f6302f5436",
        "colab": {
          "base_uri": "https://localhost:8080/",
          "height": 206
        }
      },
      "execution_count": null,
      "outputs": [
        {
          "output_type": "execute_result",
          "data": {
            "text/plain": [
              "  Filial Tipo de Cliente Gênero        Linha de produto  Preço unitário  \\\n",
              "0      A       Associado      F          Saúde e beleza         1120.35   \n",
              "1      C          Normal      F  Acessórios eletrônicos          229.20   \n",
              "2      A          Normal      M   Casa e estilo de vida          694.95   \n",
              "3      A       Associado      M          Saúde e beleza          873.30   \n",
              "4      A          Normal      M      Esportes e viagens         1294.65   \n",
              "\n",
              "   Quantidade    Total       Data             Horário          Pagamento  \\\n",
              "0           7  7842.45    Janeiro 2023-03-26 13:08:00                PIX   \n",
              "1           5  1146.00      Março 2023-03-26 10:29:00           Dinheiro   \n",
              "2           7  4864.65      Março 2023-03-26 13:23:00  Cartão de Crédito   \n",
              "3           8  6986.40    Janeiro 2023-03-26 20:33:00                PIX   \n",
              "4           7  9062.55  Fevereiro 2023-03-26 10:37:00                PIX   \n",
              "\n",
              "        COGS  Avaliação  \n",
              "0  4705.4700         91  \n",
              "1  1031.4000         96  \n",
              "2  3405.2550         74  \n",
              "3  4191.8400         84  \n",
              "4  6796.9125         53  "
            ],
            "text/html": [
              "\n",
              "  <div id=\"df-c917ec7e-a7a9-4fee-bab9-368b6fd92c1c\">\n",
              "    <div class=\"colab-df-container\">\n",
              "      <div>\n",
              "<style scoped>\n",
              "    .dataframe tbody tr th:only-of-type {\n",
              "        vertical-align: middle;\n",
              "    }\n",
              "\n",
              "    .dataframe tbody tr th {\n",
              "        vertical-align: top;\n",
              "    }\n",
              "\n",
              "    .dataframe thead th {\n",
              "        text-align: right;\n",
              "    }\n",
              "</style>\n",
              "<table border=\"1\" class=\"dataframe\">\n",
              "  <thead>\n",
              "    <tr style=\"text-align: right;\">\n",
              "      <th></th>\n",
              "      <th>Filial</th>\n",
              "      <th>Tipo de Cliente</th>\n",
              "      <th>Gênero</th>\n",
              "      <th>Linha de produto</th>\n",
              "      <th>Preço unitário</th>\n",
              "      <th>Quantidade</th>\n",
              "      <th>Total</th>\n",
              "      <th>Data</th>\n",
              "      <th>Horário</th>\n",
              "      <th>Pagamento</th>\n",
              "      <th>COGS</th>\n",
              "      <th>Avaliação</th>\n",
              "    </tr>\n",
              "  </thead>\n",
              "  <tbody>\n",
              "    <tr>\n",
              "      <th>0</th>\n",
              "      <td>A</td>\n",
              "      <td>Associado</td>\n",
              "      <td>F</td>\n",
              "      <td>Saúde e beleza</td>\n",
              "      <td>1120.35</td>\n",
              "      <td>7</td>\n",
              "      <td>7842.45</td>\n",
              "      <td>Janeiro</td>\n",
              "      <td>2023-03-26 13:08:00</td>\n",
              "      <td>PIX</td>\n",
              "      <td>4705.4700</td>\n",
              "      <td>91</td>\n",
              "    </tr>\n",
              "    <tr>\n",
              "      <th>1</th>\n",
              "      <td>C</td>\n",
              "      <td>Normal</td>\n",
              "      <td>F</td>\n",
              "      <td>Acessórios eletrônicos</td>\n",
              "      <td>229.20</td>\n",
              "      <td>5</td>\n",
              "      <td>1146.00</td>\n",
              "      <td>Março</td>\n",
              "      <td>2023-03-26 10:29:00</td>\n",
              "      <td>Dinheiro</td>\n",
              "      <td>1031.4000</td>\n",
              "      <td>96</td>\n",
              "    </tr>\n",
              "    <tr>\n",
              "      <th>2</th>\n",
              "      <td>A</td>\n",
              "      <td>Normal</td>\n",
              "      <td>M</td>\n",
              "      <td>Casa e estilo de vida</td>\n",
              "      <td>694.95</td>\n",
              "      <td>7</td>\n",
              "      <td>4864.65</td>\n",
              "      <td>Março</td>\n",
              "      <td>2023-03-26 13:23:00</td>\n",
              "      <td>Cartão de Crédito</td>\n",
              "      <td>3405.2550</td>\n",
              "      <td>74</td>\n",
              "    </tr>\n",
              "    <tr>\n",
              "      <th>3</th>\n",
              "      <td>A</td>\n",
              "      <td>Associado</td>\n",
              "      <td>M</td>\n",
              "      <td>Saúde e beleza</td>\n",
              "      <td>873.30</td>\n",
              "      <td>8</td>\n",
              "      <td>6986.40</td>\n",
              "      <td>Janeiro</td>\n",
              "      <td>2023-03-26 20:33:00</td>\n",
              "      <td>PIX</td>\n",
              "      <td>4191.8400</td>\n",
              "      <td>84</td>\n",
              "    </tr>\n",
              "    <tr>\n",
              "      <th>4</th>\n",
              "      <td>A</td>\n",
              "      <td>Normal</td>\n",
              "      <td>M</td>\n",
              "      <td>Esportes e viagens</td>\n",
              "      <td>1294.65</td>\n",
              "      <td>7</td>\n",
              "      <td>9062.55</td>\n",
              "      <td>Fevereiro</td>\n",
              "      <td>2023-03-26 10:37:00</td>\n",
              "      <td>PIX</td>\n",
              "      <td>6796.9125</td>\n",
              "      <td>53</td>\n",
              "    </tr>\n",
              "  </tbody>\n",
              "</table>\n",
              "</div>\n",
              "      <button class=\"colab-df-convert\" onclick=\"convertToInteractive('df-c917ec7e-a7a9-4fee-bab9-368b6fd92c1c')\"\n",
              "              title=\"Convert this dataframe to an interactive table.\"\n",
              "              style=\"display:none;\">\n",
              "        \n",
              "  <svg xmlns=\"http://www.w3.org/2000/svg\" height=\"24px\"viewBox=\"0 0 24 24\"\n",
              "       width=\"24px\">\n",
              "    <path d=\"M0 0h24v24H0V0z\" fill=\"none\"/>\n",
              "    <path d=\"M18.56 5.44l.94 2.06.94-2.06 2.06-.94-2.06-.94-.94-2.06-.94 2.06-2.06.94zm-11 1L8.5 8.5l.94-2.06 2.06-.94-2.06-.94L8.5 2.5l-.94 2.06-2.06.94zm10 10l.94 2.06.94-2.06 2.06-.94-2.06-.94-.94-2.06-.94 2.06-2.06.94z\"/><path d=\"M17.41 7.96l-1.37-1.37c-.4-.4-.92-.59-1.43-.59-.52 0-1.04.2-1.43.59L10.3 9.45l-7.72 7.72c-.78.78-.78 2.05 0 2.83L4 21.41c.39.39.9.59 1.41.59.51 0 1.02-.2 1.41-.59l7.78-7.78 2.81-2.81c.8-.78.8-2.07 0-2.86zM5.41 20L4 18.59l7.72-7.72 1.47 1.35L5.41 20z\"/>\n",
              "  </svg>\n",
              "      </button>\n",
              "      \n",
              "  <style>\n",
              "    .colab-df-container {\n",
              "      display:flex;\n",
              "      flex-wrap:wrap;\n",
              "      gap: 12px;\n",
              "    }\n",
              "\n",
              "    .colab-df-convert {\n",
              "      background-color: #E8F0FE;\n",
              "      border: none;\n",
              "      border-radius: 50%;\n",
              "      cursor: pointer;\n",
              "      display: none;\n",
              "      fill: #1967D2;\n",
              "      height: 32px;\n",
              "      padding: 0 0 0 0;\n",
              "      width: 32px;\n",
              "    }\n",
              "\n",
              "    .colab-df-convert:hover {\n",
              "      background-color: #E2EBFA;\n",
              "      box-shadow: 0px 1px 2px rgba(60, 64, 67, 0.3), 0px 1px 3px 1px rgba(60, 64, 67, 0.15);\n",
              "      fill: #174EA6;\n",
              "    }\n",
              "\n",
              "    [theme=dark] .colab-df-convert {\n",
              "      background-color: #3B4455;\n",
              "      fill: #D2E3FC;\n",
              "    }\n",
              "\n",
              "    [theme=dark] .colab-df-convert:hover {\n",
              "      background-color: #434B5C;\n",
              "      box-shadow: 0px 1px 3px 1px rgba(0, 0, 0, 0.15);\n",
              "      filter: drop-shadow(0px 1px 2px rgba(0, 0, 0, 0.3));\n",
              "      fill: #FFFFFF;\n",
              "    }\n",
              "  </style>\n",
              "\n",
              "      <script>\n",
              "        const buttonEl =\n",
              "          document.querySelector('#df-c917ec7e-a7a9-4fee-bab9-368b6fd92c1c button.colab-df-convert');\n",
              "        buttonEl.style.display =\n",
              "          google.colab.kernel.accessAllowed ? 'block' : 'none';\n",
              "\n",
              "        async function convertToInteractive(key) {\n",
              "          const element = document.querySelector('#df-c917ec7e-a7a9-4fee-bab9-368b6fd92c1c');\n",
              "          const dataTable =\n",
              "            await google.colab.kernel.invokeFunction('convertToInteractive',\n",
              "                                                     [key], {});\n",
              "          if (!dataTable) return;\n",
              "\n",
              "          const docLinkHtml = 'Like what you see? Visit the ' +\n",
              "            '<a target=\"_blank\" href=https://colab.research.google.com/notebooks/data_table.ipynb>data table notebook</a>'\n",
              "            + ' to learn more about interactive tables.';\n",
              "          element.innerHTML = '';\n",
              "          dataTable['output_type'] = 'display_data';\n",
              "          await google.colab.output.renderOutput(dataTable, element);\n",
              "          const docLink = document.createElement('div');\n",
              "          docLink.innerHTML = docLinkHtml;\n",
              "          element.appendChild(docLink);\n",
              "        }\n",
              "      </script>\n",
              "    </div>\n",
              "  </div>\n",
              "  "
            ]
          },
          "metadata": {},
          "execution_count": 155
        }
      ]
    },
    {
      "cell_type": "markdown",
      "source": [
        "# <font color='red'>Explique a função dt.strftime, por que precisamos mudar o objeto?</font>"
      ],
      "metadata": {
        "id": "gp-J4BjVJaDT"
      }
    },
    {
      "cell_type": "markdown",
      "source": [
        "Filtrar as informações solicitadas, como por exemplo o horario"
      ],
      "metadata": {
        "id": "FIJmTb6Ht3Ec"
      }
    },
    {
      "cell_type": "code",
      "source": [
        "df['Horário'] = df['Horário'].dt.strftime('%H') #Transformar datatime em object (string), selecionado apenas o horário."
      ],
      "metadata": {
        "id": "cioMuo2aeas7"
      },
      "execution_count": null,
      "outputs": []
    },
    {
      "cell_type": "code",
      "source": [
        "df.head()"
      ],
      "metadata": {
        "id": "cj8eyipZhV2F",
        "outputId": "824de4cf-24a1-4f3b-ab5c-0680ffca97bc",
        "colab": {
          "base_uri": "https://localhost:8080/",
          "height": 206
        }
      },
      "execution_count": null,
      "outputs": [
        {
          "output_type": "execute_result",
          "data": {
            "text/plain": [
              "  Filial Tipo de Cliente Gênero        Linha de produto  Preço unitário  \\\n",
              "0      A       Associado      F          Saúde e beleza         1120.35   \n",
              "1      C          Normal      F  Acessórios eletrônicos          229.20   \n",
              "2      A          Normal      M   Casa e estilo de vida          694.95   \n",
              "3      A       Associado      M          Saúde e beleza          873.30   \n",
              "4      A          Normal      M      Esportes e viagens         1294.65   \n",
              "\n",
              "   Quantidade    Total       Data Horário          Pagamento       COGS  \\\n",
              "0           7  7842.45    Janeiro      13                PIX  4705.4700   \n",
              "1           5  1146.00      Março      10           Dinheiro  1031.4000   \n",
              "2           7  4864.65      Março      13  Cartão de Crédito  3405.2550   \n",
              "3           8  6986.40    Janeiro      20                PIX  4191.8400   \n",
              "4           7  9062.55  Fevereiro      10                PIX  6796.9125   \n",
              "\n",
              "   Avaliação  \n",
              "0         91  \n",
              "1         96  \n",
              "2         74  \n",
              "3         84  \n",
              "4         53  "
            ],
            "text/html": [
              "\n",
              "  <div id=\"df-f2e7ff84-f849-4979-8202-a4d345c406dd\">\n",
              "    <div class=\"colab-df-container\">\n",
              "      <div>\n",
              "<style scoped>\n",
              "    .dataframe tbody tr th:only-of-type {\n",
              "        vertical-align: middle;\n",
              "    }\n",
              "\n",
              "    .dataframe tbody tr th {\n",
              "        vertical-align: top;\n",
              "    }\n",
              "\n",
              "    .dataframe thead th {\n",
              "        text-align: right;\n",
              "    }\n",
              "</style>\n",
              "<table border=\"1\" class=\"dataframe\">\n",
              "  <thead>\n",
              "    <tr style=\"text-align: right;\">\n",
              "      <th></th>\n",
              "      <th>Filial</th>\n",
              "      <th>Tipo de Cliente</th>\n",
              "      <th>Gênero</th>\n",
              "      <th>Linha de produto</th>\n",
              "      <th>Preço unitário</th>\n",
              "      <th>Quantidade</th>\n",
              "      <th>Total</th>\n",
              "      <th>Data</th>\n",
              "      <th>Horário</th>\n",
              "      <th>Pagamento</th>\n",
              "      <th>COGS</th>\n",
              "      <th>Avaliação</th>\n",
              "    </tr>\n",
              "  </thead>\n",
              "  <tbody>\n",
              "    <tr>\n",
              "      <th>0</th>\n",
              "      <td>A</td>\n",
              "      <td>Associado</td>\n",
              "      <td>F</td>\n",
              "      <td>Saúde e beleza</td>\n",
              "      <td>1120.35</td>\n",
              "      <td>7</td>\n",
              "      <td>7842.45</td>\n",
              "      <td>Janeiro</td>\n",
              "      <td>13</td>\n",
              "      <td>PIX</td>\n",
              "      <td>4705.4700</td>\n",
              "      <td>91</td>\n",
              "    </tr>\n",
              "    <tr>\n",
              "      <th>1</th>\n",
              "      <td>C</td>\n",
              "      <td>Normal</td>\n",
              "      <td>F</td>\n",
              "      <td>Acessórios eletrônicos</td>\n",
              "      <td>229.20</td>\n",
              "      <td>5</td>\n",
              "      <td>1146.00</td>\n",
              "      <td>Março</td>\n",
              "      <td>10</td>\n",
              "      <td>Dinheiro</td>\n",
              "      <td>1031.4000</td>\n",
              "      <td>96</td>\n",
              "    </tr>\n",
              "    <tr>\n",
              "      <th>2</th>\n",
              "      <td>A</td>\n",
              "      <td>Normal</td>\n",
              "      <td>M</td>\n",
              "      <td>Casa e estilo de vida</td>\n",
              "      <td>694.95</td>\n",
              "      <td>7</td>\n",
              "      <td>4864.65</td>\n",
              "      <td>Março</td>\n",
              "      <td>13</td>\n",
              "      <td>Cartão de Crédito</td>\n",
              "      <td>3405.2550</td>\n",
              "      <td>74</td>\n",
              "    </tr>\n",
              "    <tr>\n",
              "      <th>3</th>\n",
              "      <td>A</td>\n",
              "      <td>Associado</td>\n",
              "      <td>M</td>\n",
              "      <td>Saúde e beleza</td>\n",
              "      <td>873.30</td>\n",
              "      <td>8</td>\n",
              "      <td>6986.40</td>\n",
              "      <td>Janeiro</td>\n",
              "      <td>20</td>\n",
              "      <td>PIX</td>\n",
              "      <td>4191.8400</td>\n",
              "      <td>84</td>\n",
              "    </tr>\n",
              "    <tr>\n",
              "      <th>4</th>\n",
              "      <td>A</td>\n",
              "      <td>Normal</td>\n",
              "      <td>M</td>\n",
              "      <td>Esportes e viagens</td>\n",
              "      <td>1294.65</td>\n",
              "      <td>7</td>\n",
              "      <td>9062.55</td>\n",
              "      <td>Fevereiro</td>\n",
              "      <td>10</td>\n",
              "      <td>PIX</td>\n",
              "      <td>6796.9125</td>\n",
              "      <td>53</td>\n",
              "    </tr>\n",
              "  </tbody>\n",
              "</table>\n",
              "</div>\n",
              "      <button class=\"colab-df-convert\" onclick=\"convertToInteractive('df-f2e7ff84-f849-4979-8202-a4d345c406dd')\"\n",
              "              title=\"Convert this dataframe to an interactive table.\"\n",
              "              style=\"display:none;\">\n",
              "        \n",
              "  <svg xmlns=\"http://www.w3.org/2000/svg\" height=\"24px\"viewBox=\"0 0 24 24\"\n",
              "       width=\"24px\">\n",
              "    <path d=\"M0 0h24v24H0V0z\" fill=\"none\"/>\n",
              "    <path d=\"M18.56 5.44l.94 2.06.94-2.06 2.06-.94-2.06-.94-.94-2.06-.94 2.06-2.06.94zm-11 1L8.5 8.5l.94-2.06 2.06-.94-2.06-.94L8.5 2.5l-.94 2.06-2.06.94zm10 10l.94 2.06.94-2.06 2.06-.94-2.06-.94-.94-2.06-.94 2.06-2.06.94z\"/><path d=\"M17.41 7.96l-1.37-1.37c-.4-.4-.92-.59-1.43-.59-.52 0-1.04.2-1.43.59L10.3 9.45l-7.72 7.72c-.78.78-.78 2.05 0 2.83L4 21.41c.39.39.9.59 1.41.59.51 0 1.02-.2 1.41-.59l7.78-7.78 2.81-2.81c.8-.78.8-2.07 0-2.86zM5.41 20L4 18.59l7.72-7.72 1.47 1.35L5.41 20z\"/>\n",
              "  </svg>\n",
              "      </button>\n",
              "      \n",
              "  <style>\n",
              "    .colab-df-container {\n",
              "      display:flex;\n",
              "      flex-wrap:wrap;\n",
              "      gap: 12px;\n",
              "    }\n",
              "\n",
              "    .colab-df-convert {\n",
              "      background-color: #E8F0FE;\n",
              "      border: none;\n",
              "      border-radius: 50%;\n",
              "      cursor: pointer;\n",
              "      display: none;\n",
              "      fill: #1967D2;\n",
              "      height: 32px;\n",
              "      padding: 0 0 0 0;\n",
              "      width: 32px;\n",
              "    }\n",
              "\n",
              "    .colab-df-convert:hover {\n",
              "      background-color: #E2EBFA;\n",
              "      box-shadow: 0px 1px 2px rgba(60, 64, 67, 0.3), 0px 1px 3px 1px rgba(60, 64, 67, 0.15);\n",
              "      fill: #174EA6;\n",
              "    }\n",
              "\n",
              "    [theme=dark] .colab-df-convert {\n",
              "      background-color: #3B4455;\n",
              "      fill: #D2E3FC;\n",
              "    }\n",
              "\n",
              "    [theme=dark] .colab-df-convert:hover {\n",
              "      background-color: #434B5C;\n",
              "      box-shadow: 0px 1px 3px 1px rgba(0, 0, 0, 0.15);\n",
              "      filter: drop-shadow(0px 1px 2px rgba(0, 0, 0, 0.3));\n",
              "      fill: #FFFFFF;\n",
              "    }\n",
              "  </style>\n",
              "\n",
              "      <script>\n",
              "        const buttonEl =\n",
              "          document.querySelector('#df-f2e7ff84-f849-4979-8202-a4d345c406dd button.colab-df-convert');\n",
              "        buttonEl.style.display =\n",
              "          google.colab.kernel.accessAllowed ? 'block' : 'none';\n",
              "\n",
              "        async function convertToInteractive(key) {\n",
              "          const element = document.querySelector('#df-f2e7ff84-f849-4979-8202-a4d345c406dd');\n",
              "          const dataTable =\n",
              "            await google.colab.kernel.invokeFunction('convertToInteractive',\n",
              "                                                     [key], {});\n",
              "          if (!dataTable) return;\n",
              "\n",
              "          const docLinkHtml = 'Like what you see? Visit the ' +\n",
              "            '<a target=\"_blank\" href=https://colab.research.google.com/notebooks/data_table.ipynb>data table notebook</a>'\n",
              "            + ' to learn more about interactive tables.';\n",
              "          element.innerHTML = '';\n",
              "          dataTable['output_type'] = 'display_data';\n",
              "          await google.colab.output.renderOutput(dataTable, element);\n",
              "          const docLink = document.createElement('div');\n",
              "          docLink.innerHTML = docLinkHtml;\n",
              "          element.appendChild(docLink);\n",
              "        }\n",
              "      </script>\n",
              "    </div>\n",
              "  </div>\n",
              "  "
            ]
          },
          "metadata": {},
          "execution_count": 157
        }
      ]
    },
    {
      "cell_type": "markdown",
      "source": [
        "#<font color='red'>Explique detalhadamente o bloco de código abaixo:</font>"
      ],
      "metadata": {
        "id": "ujtYEKWUJsiX"
      }
    },
    {
      "cell_type": "markdown",
      "source": [
        "Tem objetivo de classificar os periodos do dia, em manhã, tarde e noite \n",
        "Utiliza 'time' para os periodos do tempo, o 'for' e executada em cada valor definido no codigo"
      ],
      "metadata": {
        "id": "0VZelUlqt8Sl"
      }
    },
    {
      "cell_type": "code",
      "source": [
        "time = [] #lista vazia\n",
        "for i in list(map(int,df['Horário'])): #laço for mapeando e transformando string para inteiro\n",
        "    if i > 8 and i < 13: # 9 - 12 (manhã)\n",
        "      time.append('Manhã') # Comando Append vai inserir Manhã quando o critério for verdadeiro na lista time.\n",
        "    elif i > 12 and i < 19: \n",
        "      time.append('Tarde')\n",
        "    else:\n",
        "      time.append('Noite')\n",
        "df['Horário'] = time #Substituindo a coluna horário pela lista time"
      ],
      "metadata": {
        "id": "M8tdJRHIhtAR"
      },
      "execution_count": null,
      "outputs": []
    },
    {
      "cell_type": "code",
      "source": [
        "df.head() #Dados OK"
      ],
      "metadata": {
        "id": "Nxgc7MVNimHW",
        "outputId": "69d73d1c-2780-4a2a-cdd6-2aa901baa69a",
        "colab": {
          "base_uri": "https://localhost:8080/",
          "height": 206
        }
      },
      "execution_count": null,
      "outputs": [
        {
          "output_type": "execute_result",
          "data": {
            "text/plain": [
              "  Filial Tipo de Cliente Gênero        Linha de produto  Preço unitário  \\\n",
              "0      A       Associado      F          Saúde e beleza         1120.35   \n",
              "1      C          Normal      F  Acessórios eletrônicos          229.20   \n",
              "2      A          Normal      M   Casa e estilo de vida          694.95   \n",
              "3      A       Associado      M          Saúde e beleza          873.30   \n",
              "4      A          Normal      M      Esportes e viagens         1294.65   \n",
              "\n",
              "   Quantidade    Total       Data Horário          Pagamento       COGS  \\\n",
              "0           7  7842.45    Janeiro   Tarde                PIX  4705.4700   \n",
              "1           5  1146.00      Março   Manhã           Dinheiro  1031.4000   \n",
              "2           7  4864.65      Março   Tarde  Cartão de Crédito  3405.2550   \n",
              "3           8  6986.40    Janeiro   Noite                PIX  4191.8400   \n",
              "4           7  9062.55  Fevereiro   Manhã                PIX  6796.9125   \n",
              "\n",
              "   Avaliação  \n",
              "0         91  \n",
              "1         96  \n",
              "2         74  \n",
              "3         84  \n",
              "4         53  "
            ],
            "text/html": [
              "\n",
              "  <div id=\"df-38f0da2e-9648-434d-9e4d-29e91c151e57\">\n",
              "    <div class=\"colab-df-container\">\n",
              "      <div>\n",
              "<style scoped>\n",
              "    .dataframe tbody tr th:only-of-type {\n",
              "        vertical-align: middle;\n",
              "    }\n",
              "\n",
              "    .dataframe tbody tr th {\n",
              "        vertical-align: top;\n",
              "    }\n",
              "\n",
              "    .dataframe thead th {\n",
              "        text-align: right;\n",
              "    }\n",
              "</style>\n",
              "<table border=\"1\" class=\"dataframe\">\n",
              "  <thead>\n",
              "    <tr style=\"text-align: right;\">\n",
              "      <th></th>\n",
              "      <th>Filial</th>\n",
              "      <th>Tipo de Cliente</th>\n",
              "      <th>Gênero</th>\n",
              "      <th>Linha de produto</th>\n",
              "      <th>Preço unitário</th>\n",
              "      <th>Quantidade</th>\n",
              "      <th>Total</th>\n",
              "      <th>Data</th>\n",
              "      <th>Horário</th>\n",
              "      <th>Pagamento</th>\n",
              "      <th>COGS</th>\n",
              "      <th>Avaliação</th>\n",
              "    </tr>\n",
              "  </thead>\n",
              "  <tbody>\n",
              "    <tr>\n",
              "      <th>0</th>\n",
              "      <td>A</td>\n",
              "      <td>Associado</td>\n",
              "      <td>F</td>\n",
              "      <td>Saúde e beleza</td>\n",
              "      <td>1120.35</td>\n",
              "      <td>7</td>\n",
              "      <td>7842.45</td>\n",
              "      <td>Janeiro</td>\n",
              "      <td>Tarde</td>\n",
              "      <td>PIX</td>\n",
              "      <td>4705.4700</td>\n",
              "      <td>91</td>\n",
              "    </tr>\n",
              "    <tr>\n",
              "      <th>1</th>\n",
              "      <td>C</td>\n",
              "      <td>Normal</td>\n",
              "      <td>F</td>\n",
              "      <td>Acessórios eletrônicos</td>\n",
              "      <td>229.20</td>\n",
              "      <td>5</td>\n",
              "      <td>1146.00</td>\n",
              "      <td>Março</td>\n",
              "      <td>Manhã</td>\n",
              "      <td>Dinheiro</td>\n",
              "      <td>1031.4000</td>\n",
              "      <td>96</td>\n",
              "    </tr>\n",
              "    <tr>\n",
              "      <th>2</th>\n",
              "      <td>A</td>\n",
              "      <td>Normal</td>\n",
              "      <td>M</td>\n",
              "      <td>Casa e estilo de vida</td>\n",
              "      <td>694.95</td>\n",
              "      <td>7</td>\n",
              "      <td>4864.65</td>\n",
              "      <td>Março</td>\n",
              "      <td>Tarde</td>\n",
              "      <td>Cartão de Crédito</td>\n",
              "      <td>3405.2550</td>\n",
              "      <td>74</td>\n",
              "    </tr>\n",
              "    <tr>\n",
              "      <th>3</th>\n",
              "      <td>A</td>\n",
              "      <td>Associado</td>\n",
              "      <td>M</td>\n",
              "      <td>Saúde e beleza</td>\n",
              "      <td>873.30</td>\n",
              "      <td>8</td>\n",
              "      <td>6986.40</td>\n",
              "      <td>Janeiro</td>\n",
              "      <td>Noite</td>\n",
              "      <td>PIX</td>\n",
              "      <td>4191.8400</td>\n",
              "      <td>84</td>\n",
              "    </tr>\n",
              "    <tr>\n",
              "      <th>4</th>\n",
              "      <td>A</td>\n",
              "      <td>Normal</td>\n",
              "      <td>M</td>\n",
              "      <td>Esportes e viagens</td>\n",
              "      <td>1294.65</td>\n",
              "      <td>7</td>\n",
              "      <td>9062.55</td>\n",
              "      <td>Fevereiro</td>\n",
              "      <td>Manhã</td>\n",
              "      <td>PIX</td>\n",
              "      <td>6796.9125</td>\n",
              "      <td>53</td>\n",
              "    </tr>\n",
              "  </tbody>\n",
              "</table>\n",
              "</div>\n",
              "      <button class=\"colab-df-convert\" onclick=\"convertToInteractive('df-38f0da2e-9648-434d-9e4d-29e91c151e57')\"\n",
              "              title=\"Convert this dataframe to an interactive table.\"\n",
              "              style=\"display:none;\">\n",
              "        \n",
              "  <svg xmlns=\"http://www.w3.org/2000/svg\" height=\"24px\"viewBox=\"0 0 24 24\"\n",
              "       width=\"24px\">\n",
              "    <path d=\"M0 0h24v24H0V0z\" fill=\"none\"/>\n",
              "    <path d=\"M18.56 5.44l.94 2.06.94-2.06 2.06-.94-2.06-.94-.94-2.06-.94 2.06-2.06.94zm-11 1L8.5 8.5l.94-2.06 2.06-.94-2.06-.94L8.5 2.5l-.94 2.06-2.06.94zm10 10l.94 2.06.94-2.06 2.06-.94-2.06-.94-.94-2.06-.94 2.06-2.06.94z\"/><path d=\"M17.41 7.96l-1.37-1.37c-.4-.4-.92-.59-1.43-.59-.52 0-1.04.2-1.43.59L10.3 9.45l-7.72 7.72c-.78.78-.78 2.05 0 2.83L4 21.41c.39.39.9.59 1.41.59.51 0 1.02-.2 1.41-.59l7.78-7.78 2.81-2.81c.8-.78.8-2.07 0-2.86zM5.41 20L4 18.59l7.72-7.72 1.47 1.35L5.41 20z\"/>\n",
              "  </svg>\n",
              "      </button>\n",
              "      \n",
              "  <style>\n",
              "    .colab-df-container {\n",
              "      display:flex;\n",
              "      flex-wrap:wrap;\n",
              "      gap: 12px;\n",
              "    }\n",
              "\n",
              "    .colab-df-convert {\n",
              "      background-color: #E8F0FE;\n",
              "      border: none;\n",
              "      border-radius: 50%;\n",
              "      cursor: pointer;\n",
              "      display: none;\n",
              "      fill: #1967D2;\n",
              "      height: 32px;\n",
              "      padding: 0 0 0 0;\n",
              "      width: 32px;\n",
              "    }\n",
              "\n",
              "    .colab-df-convert:hover {\n",
              "      background-color: #E2EBFA;\n",
              "      box-shadow: 0px 1px 2px rgba(60, 64, 67, 0.3), 0px 1px 3px 1px rgba(60, 64, 67, 0.15);\n",
              "      fill: #174EA6;\n",
              "    }\n",
              "\n",
              "    [theme=dark] .colab-df-convert {\n",
              "      background-color: #3B4455;\n",
              "      fill: #D2E3FC;\n",
              "    }\n",
              "\n",
              "    [theme=dark] .colab-df-convert:hover {\n",
              "      background-color: #434B5C;\n",
              "      box-shadow: 0px 1px 3px 1px rgba(0, 0, 0, 0.15);\n",
              "      filter: drop-shadow(0px 1px 2px rgba(0, 0, 0, 0.3));\n",
              "      fill: #FFFFFF;\n",
              "    }\n",
              "  </style>\n",
              "\n",
              "      <script>\n",
              "        const buttonEl =\n",
              "          document.querySelector('#df-38f0da2e-9648-434d-9e4d-29e91c151e57 button.colab-df-convert');\n",
              "        buttonEl.style.display =\n",
              "          google.colab.kernel.accessAllowed ? 'block' : 'none';\n",
              "\n",
              "        async function convertToInteractive(key) {\n",
              "          const element = document.querySelector('#df-38f0da2e-9648-434d-9e4d-29e91c151e57');\n",
              "          const dataTable =\n",
              "            await google.colab.kernel.invokeFunction('convertToInteractive',\n",
              "                                                     [key], {});\n",
              "          if (!dataTable) return;\n",
              "\n",
              "          const docLinkHtml = 'Like what you see? Visit the ' +\n",
              "            '<a target=\"_blank\" href=https://colab.research.google.com/notebooks/data_table.ipynb>data table notebook</a>'\n",
              "            + ' to learn more about interactive tables.';\n",
              "          element.innerHTML = '';\n",
              "          dataTable['output_type'] = 'display_data';\n",
              "          await google.colab.output.renderOutput(dataTable, element);\n",
              "          const docLink = document.createElement('div');\n",
              "          docLink.innerHTML = docLinkHtml;\n",
              "          element.appendChild(docLink);\n",
              "        }\n",
              "      </script>\n",
              "    </div>\n",
              "  </div>\n",
              "  "
            ]
          },
          "metadata": {},
          "execution_count": 159
        }
      ]
    },
    {
      "cell_type": "markdown",
      "source": [
        "#<font color='red'>Explique de maneira resumida o que foi feito:</font>\n",
        "\n",
        "\n",
        "\n",
        "1.   Foi excluído algumas colunas que não tinham correlação\n",
        "2.   Item da lista\n",
        "\n"
      ],
      "metadata": {
        "id": "l48CnxD9JzUW"
      }
    },
    {
      "cell_type": "markdown",
      "source": [
        "# Etapa: Minerando Dados criando Informação e Conhecimento"
      ],
      "metadata": {
        "id": "DW9DrUUDF-da"
      }
    },
    {
      "cell_type": "markdown",
      "source": [
        "# **1 Análise**\n"
      ],
      "metadata": {
        "id": "DdrkLdasmmoY"
      }
    },
    {
      "cell_type": "markdown",
      "source": [
        "#<font color='red'>O que significa a função abaixo? Por que linha de produto está entre parênteses e Avaliação entre colchetes?</font>\n"
      ],
      "metadata": {
        "id": "8In0dPMyGUVD"
      }
    },
    {
      "cell_type": "code",
      "source": [
        "Agrupamento = df.groupby('Linha de produto')['Avaliação'].mean().reset_index(drop=False) "
      ],
      "metadata": {
        "id": "XRnBagp4imw5"
      },
      "execution_count": null,
      "outputs": []
    },
    {
      "cell_type": "markdown",
      "source": [
        "A média será calculada apenas para os valores da coluna \"Avaliação\" que estão dentro de cada grupo criado pela coluna \"Linha de produto\", calcula a média dos valores da coluna \"Avaliação\" dentro de cada grupo"
      ],
      "metadata": {
        "id": "pKKNxISVuuyH"
      }
    },
    {
      "cell_type": "code",
      "source": [
        "Agrupamento"
      ],
      "metadata": {
        "id": "Mpj_6XcEnG8J",
        "outputId": "86dc2511-0679-4cdc-cdcb-0335eae9e744",
        "colab": {
          "base_uri": "https://localhost:8080/",
          "height": 237
        }
      },
      "execution_count": null,
      "outputs": [
        {
          "output_type": "execute_result",
          "data": {
            "text/plain": [
              "         Linha de produto  Avaliação\n",
              "0  Acessórios eletrônicos  61.411765\n",
              "1     Acessórios fashions  64.780899\n",
              "2   Casa e estilo de vida  63.031250\n",
              "3        Comida e bebidas  63.166667\n",
              "4      Esportes e viagens  60.379518\n",
              "5          Saúde e beleza  62.335526"
            ],
            "text/html": [
              "\n",
              "  <div id=\"df-eb2ad9a6-d1db-4d4d-a86e-0dc0ab5836cb\">\n",
              "    <div class=\"colab-df-container\">\n",
              "      <div>\n",
              "<style scoped>\n",
              "    .dataframe tbody tr th:only-of-type {\n",
              "        vertical-align: middle;\n",
              "    }\n",
              "\n",
              "    .dataframe tbody tr th {\n",
              "        vertical-align: top;\n",
              "    }\n",
              "\n",
              "    .dataframe thead th {\n",
              "        text-align: right;\n",
              "    }\n",
              "</style>\n",
              "<table border=\"1\" class=\"dataframe\">\n",
              "  <thead>\n",
              "    <tr style=\"text-align: right;\">\n",
              "      <th></th>\n",
              "      <th>Linha de produto</th>\n",
              "      <th>Avaliação</th>\n",
              "    </tr>\n",
              "  </thead>\n",
              "  <tbody>\n",
              "    <tr>\n",
              "      <th>0</th>\n",
              "      <td>Acessórios eletrônicos</td>\n",
              "      <td>61.411765</td>\n",
              "    </tr>\n",
              "    <tr>\n",
              "      <th>1</th>\n",
              "      <td>Acessórios fashions</td>\n",
              "      <td>64.780899</td>\n",
              "    </tr>\n",
              "    <tr>\n",
              "      <th>2</th>\n",
              "      <td>Casa e estilo de vida</td>\n",
              "      <td>63.031250</td>\n",
              "    </tr>\n",
              "    <tr>\n",
              "      <th>3</th>\n",
              "      <td>Comida e bebidas</td>\n",
              "      <td>63.166667</td>\n",
              "    </tr>\n",
              "    <tr>\n",
              "      <th>4</th>\n",
              "      <td>Esportes e viagens</td>\n",
              "      <td>60.379518</td>\n",
              "    </tr>\n",
              "    <tr>\n",
              "      <th>5</th>\n",
              "      <td>Saúde e beleza</td>\n",
              "      <td>62.335526</td>\n",
              "    </tr>\n",
              "  </tbody>\n",
              "</table>\n",
              "</div>\n",
              "      <button class=\"colab-df-convert\" onclick=\"convertToInteractive('df-eb2ad9a6-d1db-4d4d-a86e-0dc0ab5836cb')\"\n",
              "              title=\"Convert this dataframe to an interactive table.\"\n",
              "              style=\"display:none;\">\n",
              "        \n",
              "  <svg xmlns=\"http://www.w3.org/2000/svg\" height=\"24px\"viewBox=\"0 0 24 24\"\n",
              "       width=\"24px\">\n",
              "    <path d=\"M0 0h24v24H0V0z\" fill=\"none\"/>\n",
              "    <path d=\"M18.56 5.44l.94 2.06.94-2.06 2.06-.94-2.06-.94-.94-2.06-.94 2.06-2.06.94zm-11 1L8.5 8.5l.94-2.06 2.06-.94-2.06-.94L8.5 2.5l-.94 2.06-2.06.94zm10 10l.94 2.06.94-2.06 2.06-.94-2.06-.94-.94-2.06-.94 2.06-2.06.94z\"/><path d=\"M17.41 7.96l-1.37-1.37c-.4-.4-.92-.59-1.43-.59-.52 0-1.04.2-1.43.59L10.3 9.45l-7.72 7.72c-.78.78-.78 2.05 0 2.83L4 21.41c.39.39.9.59 1.41.59.51 0 1.02-.2 1.41-.59l7.78-7.78 2.81-2.81c.8-.78.8-2.07 0-2.86zM5.41 20L4 18.59l7.72-7.72 1.47 1.35L5.41 20z\"/>\n",
              "  </svg>\n",
              "      </button>\n",
              "      \n",
              "  <style>\n",
              "    .colab-df-container {\n",
              "      display:flex;\n",
              "      flex-wrap:wrap;\n",
              "      gap: 12px;\n",
              "    }\n",
              "\n",
              "    .colab-df-convert {\n",
              "      background-color: #E8F0FE;\n",
              "      border: none;\n",
              "      border-radius: 50%;\n",
              "      cursor: pointer;\n",
              "      display: none;\n",
              "      fill: #1967D2;\n",
              "      height: 32px;\n",
              "      padding: 0 0 0 0;\n",
              "      width: 32px;\n",
              "    }\n",
              "\n",
              "    .colab-df-convert:hover {\n",
              "      background-color: #E2EBFA;\n",
              "      box-shadow: 0px 1px 2px rgba(60, 64, 67, 0.3), 0px 1px 3px 1px rgba(60, 64, 67, 0.15);\n",
              "      fill: #174EA6;\n",
              "    }\n",
              "\n",
              "    [theme=dark] .colab-df-convert {\n",
              "      background-color: #3B4455;\n",
              "      fill: #D2E3FC;\n",
              "    }\n",
              "\n",
              "    [theme=dark] .colab-df-convert:hover {\n",
              "      background-color: #434B5C;\n",
              "      box-shadow: 0px 1px 3px 1px rgba(0, 0, 0, 0.15);\n",
              "      filter: drop-shadow(0px 1px 2px rgba(0, 0, 0, 0.3));\n",
              "      fill: #FFFFFF;\n",
              "    }\n",
              "  </style>\n",
              "\n",
              "      <script>\n",
              "        const buttonEl =\n",
              "          document.querySelector('#df-eb2ad9a6-d1db-4d4d-a86e-0dc0ab5836cb button.colab-df-convert');\n",
              "        buttonEl.style.display =\n",
              "          google.colab.kernel.accessAllowed ? 'block' : 'none';\n",
              "\n",
              "        async function convertToInteractive(key) {\n",
              "          const element = document.querySelector('#df-eb2ad9a6-d1db-4d4d-a86e-0dc0ab5836cb');\n",
              "          const dataTable =\n",
              "            await google.colab.kernel.invokeFunction('convertToInteractive',\n",
              "                                                     [key], {});\n",
              "          if (!dataTable) return;\n",
              "\n",
              "          const docLinkHtml = 'Like what you see? Visit the ' +\n",
              "            '<a target=\"_blank\" href=https://colab.research.google.com/notebooks/data_table.ipynb>data table notebook</a>'\n",
              "            + ' to learn more about interactive tables.';\n",
              "          element.innerHTML = '';\n",
              "          dataTable['output_type'] = 'display_data';\n",
              "          await google.colab.output.renderOutput(dataTable, element);\n",
              "          const docLink = document.createElement('div');\n",
              "          docLink.innerHTML = docLinkHtml;\n",
              "          element.appendChild(docLink);\n",
              "        }\n",
              "      </script>\n",
              "    </div>\n",
              "  </div>\n",
              "  "
            ]
          },
          "metadata": {},
          "execution_count": 161
        }
      ]
    },
    {
      "cell_type": "code",
      "source": [
        "Agrupando_avaliação = Agrupamento.round(1) #Apenas arredondando para uma casa decimal"
      ],
      "metadata": {
        "id": "hAX4maYynKk2"
      },
      "execution_count": null,
      "outputs": []
    },
    {
      "cell_type": "code",
      "source": [
        "Agrupando_avaliação"
      ],
      "metadata": {
        "id": "E0bxP7O9ns-4",
        "outputId": "b4e8b0e6-ec7f-4bf4-d3dd-4d599860b3b3",
        "colab": {
          "base_uri": "https://localhost:8080/",
          "height": 237
        }
      },
      "execution_count": null,
      "outputs": [
        {
          "output_type": "execute_result",
          "data": {
            "text/plain": [
              "         Linha de produto  Avaliação\n",
              "0  Acessórios eletrônicos       61.4\n",
              "1     Acessórios fashions       64.8\n",
              "2   Casa e estilo de vida       63.0\n",
              "3        Comida e bebidas       63.2\n",
              "4      Esportes e viagens       60.4\n",
              "5          Saúde e beleza       62.3"
            ],
            "text/html": [
              "\n",
              "  <div id=\"df-35f95b84-b14b-4364-8373-cbe370e19003\">\n",
              "    <div class=\"colab-df-container\">\n",
              "      <div>\n",
              "<style scoped>\n",
              "    .dataframe tbody tr th:only-of-type {\n",
              "        vertical-align: middle;\n",
              "    }\n",
              "\n",
              "    .dataframe tbody tr th {\n",
              "        vertical-align: top;\n",
              "    }\n",
              "\n",
              "    .dataframe thead th {\n",
              "        text-align: right;\n",
              "    }\n",
              "</style>\n",
              "<table border=\"1\" class=\"dataframe\">\n",
              "  <thead>\n",
              "    <tr style=\"text-align: right;\">\n",
              "      <th></th>\n",
              "      <th>Linha de produto</th>\n",
              "      <th>Avaliação</th>\n",
              "    </tr>\n",
              "  </thead>\n",
              "  <tbody>\n",
              "    <tr>\n",
              "      <th>0</th>\n",
              "      <td>Acessórios eletrônicos</td>\n",
              "      <td>61.4</td>\n",
              "    </tr>\n",
              "    <tr>\n",
              "      <th>1</th>\n",
              "      <td>Acessórios fashions</td>\n",
              "      <td>64.8</td>\n",
              "    </tr>\n",
              "    <tr>\n",
              "      <th>2</th>\n",
              "      <td>Casa e estilo de vida</td>\n",
              "      <td>63.0</td>\n",
              "    </tr>\n",
              "    <tr>\n",
              "      <th>3</th>\n",
              "      <td>Comida e bebidas</td>\n",
              "      <td>63.2</td>\n",
              "    </tr>\n",
              "    <tr>\n",
              "      <th>4</th>\n",
              "      <td>Esportes e viagens</td>\n",
              "      <td>60.4</td>\n",
              "    </tr>\n",
              "    <tr>\n",
              "      <th>5</th>\n",
              "      <td>Saúde e beleza</td>\n",
              "      <td>62.3</td>\n",
              "    </tr>\n",
              "  </tbody>\n",
              "</table>\n",
              "</div>\n",
              "      <button class=\"colab-df-convert\" onclick=\"convertToInteractive('df-35f95b84-b14b-4364-8373-cbe370e19003')\"\n",
              "              title=\"Convert this dataframe to an interactive table.\"\n",
              "              style=\"display:none;\">\n",
              "        \n",
              "  <svg xmlns=\"http://www.w3.org/2000/svg\" height=\"24px\"viewBox=\"0 0 24 24\"\n",
              "       width=\"24px\">\n",
              "    <path d=\"M0 0h24v24H0V0z\" fill=\"none\"/>\n",
              "    <path d=\"M18.56 5.44l.94 2.06.94-2.06 2.06-.94-2.06-.94-.94-2.06-.94 2.06-2.06.94zm-11 1L8.5 8.5l.94-2.06 2.06-.94-2.06-.94L8.5 2.5l-.94 2.06-2.06.94zm10 10l.94 2.06.94-2.06 2.06-.94-2.06-.94-.94-2.06-.94 2.06-2.06.94z\"/><path d=\"M17.41 7.96l-1.37-1.37c-.4-.4-.92-.59-1.43-.59-.52 0-1.04.2-1.43.59L10.3 9.45l-7.72 7.72c-.78.78-.78 2.05 0 2.83L4 21.41c.39.39.9.59 1.41.59.51 0 1.02-.2 1.41-.59l7.78-7.78 2.81-2.81c.8-.78.8-2.07 0-2.86zM5.41 20L4 18.59l7.72-7.72 1.47 1.35L5.41 20z\"/>\n",
              "  </svg>\n",
              "      </button>\n",
              "      \n",
              "  <style>\n",
              "    .colab-df-container {\n",
              "      display:flex;\n",
              "      flex-wrap:wrap;\n",
              "      gap: 12px;\n",
              "    }\n",
              "\n",
              "    .colab-df-convert {\n",
              "      background-color: #E8F0FE;\n",
              "      border: none;\n",
              "      border-radius: 50%;\n",
              "      cursor: pointer;\n",
              "      display: none;\n",
              "      fill: #1967D2;\n",
              "      height: 32px;\n",
              "      padding: 0 0 0 0;\n",
              "      width: 32px;\n",
              "    }\n",
              "\n",
              "    .colab-df-convert:hover {\n",
              "      background-color: #E2EBFA;\n",
              "      box-shadow: 0px 1px 2px rgba(60, 64, 67, 0.3), 0px 1px 3px 1px rgba(60, 64, 67, 0.15);\n",
              "      fill: #174EA6;\n",
              "    }\n",
              "\n",
              "    [theme=dark] .colab-df-convert {\n",
              "      background-color: #3B4455;\n",
              "      fill: #D2E3FC;\n",
              "    }\n",
              "\n",
              "    [theme=dark] .colab-df-convert:hover {\n",
              "      background-color: #434B5C;\n",
              "      box-shadow: 0px 1px 3px 1px rgba(0, 0, 0, 0.15);\n",
              "      filter: drop-shadow(0px 1px 2px rgba(0, 0, 0, 0.3));\n",
              "      fill: #FFFFFF;\n",
              "    }\n",
              "  </style>\n",
              "\n",
              "      <script>\n",
              "        const buttonEl =\n",
              "          document.querySelector('#df-35f95b84-b14b-4364-8373-cbe370e19003 button.colab-df-convert');\n",
              "        buttonEl.style.display =\n",
              "          google.colab.kernel.accessAllowed ? 'block' : 'none';\n",
              "\n",
              "        async function convertToInteractive(key) {\n",
              "          const element = document.querySelector('#df-35f95b84-b14b-4364-8373-cbe370e19003');\n",
              "          const dataTable =\n",
              "            await google.colab.kernel.invokeFunction('convertToInteractive',\n",
              "                                                     [key], {});\n",
              "          if (!dataTable) return;\n",
              "\n",
              "          const docLinkHtml = 'Like what you see? Visit the ' +\n",
              "            '<a target=\"_blank\" href=https://colab.research.google.com/notebooks/data_table.ipynb>data table notebook</a>'\n",
              "            + ' to learn more about interactive tables.';\n",
              "          element.innerHTML = '';\n",
              "          dataTable['output_type'] = 'display_data';\n",
              "          await google.colab.output.renderOutput(dataTable, element);\n",
              "          const docLink = document.createElement('div');\n",
              "          docLink.innerHTML = docLinkHtml;\n",
              "          element.appendChild(docLink);\n",
              "        }\n",
              "      </script>\n",
              "    </div>\n",
              "  </div>\n",
              "  "
            ]
          },
          "metadata": {},
          "execution_count": 163
        }
      ]
    },
    {
      "cell_type": "markdown",
      "source": [
        "#<font color='red'>Por que ascending está falso?</font>\n"
      ],
      "metadata": {
        "id": "8zcPYbvkN1wM"
      }
    },
    {
      "cell_type": "markdown",
      "source": [
        "O parâmetro \"ascending\" é definido como \"falso\" porque o objetivo é classificar os valores na ordem decrescente, do maior para o menor. Isso significa que a coluna \"Avaliação\" será organizada de modo que os valores maiores apareçam primeiro, seguidos pelos menores."
      ],
      "metadata": {
        "id": "kBPlCNcfu2O4"
      }
    },
    {
      "cell_type": "code",
      "source": [
        "Agrupando_avaliação = Agrupando_avaliação.sort_values(by = 'Avaliação', ascending = True) #Classicando valores na ordem decrescente (maior para menor)"
      ],
      "metadata": {
        "id": "1B3ETgdTnub6"
      },
      "execution_count": null,
      "outputs": []
    },
    {
      "cell_type": "code",
      "source": [
        "Agrupando_avaliação"
      ],
      "metadata": {
        "id": "rPAu-EysH0cV",
        "outputId": "c813542e-ffcb-4af1-ddc0-4a3e94c0e2a9",
        "colab": {
          "base_uri": "https://localhost:8080/",
          "height": 237
        }
      },
      "execution_count": null,
      "outputs": [
        {
          "output_type": "execute_result",
          "data": {
            "text/plain": [
              "         Linha de produto  Avaliação\n",
              "4      Esportes e viagens       60.4\n",
              "0  Acessórios eletrônicos       61.4\n",
              "5          Saúde e beleza       62.3\n",
              "2   Casa e estilo de vida       63.0\n",
              "3        Comida e bebidas       63.2\n",
              "1     Acessórios fashions       64.8"
            ],
            "text/html": [
              "\n",
              "  <div id=\"df-07fa45a6-6b5c-4cbf-bff9-0a1cbf5e5cec\">\n",
              "    <div class=\"colab-df-container\">\n",
              "      <div>\n",
              "<style scoped>\n",
              "    .dataframe tbody tr th:only-of-type {\n",
              "        vertical-align: middle;\n",
              "    }\n",
              "\n",
              "    .dataframe tbody tr th {\n",
              "        vertical-align: top;\n",
              "    }\n",
              "\n",
              "    .dataframe thead th {\n",
              "        text-align: right;\n",
              "    }\n",
              "</style>\n",
              "<table border=\"1\" class=\"dataframe\">\n",
              "  <thead>\n",
              "    <tr style=\"text-align: right;\">\n",
              "      <th></th>\n",
              "      <th>Linha de produto</th>\n",
              "      <th>Avaliação</th>\n",
              "    </tr>\n",
              "  </thead>\n",
              "  <tbody>\n",
              "    <tr>\n",
              "      <th>4</th>\n",
              "      <td>Esportes e viagens</td>\n",
              "      <td>60.4</td>\n",
              "    </tr>\n",
              "    <tr>\n",
              "      <th>0</th>\n",
              "      <td>Acessórios eletrônicos</td>\n",
              "      <td>61.4</td>\n",
              "    </tr>\n",
              "    <tr>\n",
              "      <th>5</th>\n",
              "      <td>Saúde e beleza</td>\n",
              "      <td>62.3</td>\n",
              "    </tr>\n",
              "    <tr>\n",
              "      <th>2</th>\n",
              "      <td>Casa e estilo de vida</td>\n",
              "      <td>63.0</td>\n",
              "    </tr>\n",
              "    <tr>\n",
              "      <th>3</th>\n",
              "      <td>Comida e bebidas</td>\n",
              "      <td>63.2</td>\n",
              "    </tr>\n",
              "    <tr>\n",
              "      <th>1</th>\n",
              "      <td>Acessórios fashions</td>\n",
              "      <td>64.8</td>\n",
              "    </tr>\n",
              "  </tbody>\n",
              "</table>\n",
              "</div>\n",
              "      <button class=\"colab-df-convert\" onclick=\"convertToInteractive('df-07fa45a6-6b5c-4cbf-bff9-0a1cbf5e5cec')\"\n",
              "              title=\"Convert this dataframe to an interactive table.\"\n",
              "              style=\"display:none;\">\n",
              "        \n",
              "  <svg xmlns=\"http://www.w3.org/2000/svg\" height=\"24px\"viewBox=\"0 0 24 24\"\n",
              "       width=\"24px\">\n",
              "    <path d=\"M0 0h24v24H0V0z\" fill=\"none\"/>\n",
              "    <path d=\"M18.56 5.44l.94 2.06.94-2.06 2.06-.94-2.06-.94-.94-2.06-.94 2.06-2.06.94zm-11 1L8.5 8.5l.94-2.06 2.06-.94-2.06-.94L8.5 2.5l-.94 2.06-2.06.94zm10 10l.94 2.06.94-2.06 2.06-.94-2.06-.94-.94-2.06-.94 2.06-2.06.94z\"/><path d=\"M17.41 7.96l-1.37-1.37c-.4-.4-.92-.59-1.43-.59-.52 0-1.04.2-1.43.59L10.3 9.45l-7.72 7.72c-.78.78-.78 2.05 0 2.83L4 21.41c.39.39.9.59 1.41.59.51 0 1.02-.2 1.41-.59l7.78-7.78 2.81-2.81c.8-.78.8-2.07 0-2.86zM5.41 20L4 18.59l7.72-7.72 1.47 1.35L5.41 20z\"/>\n",
              "  </svg>\n",
              "      </button>\n",
              "      \n",
              "  <style>\n",
              "    .colab-df-container {\n",
              "      display:flex;\n",
              "      flex-wrap:wrap;\n",
              "      gap: 12px;\n",
              "    }\n",
              "\n",
              "    .colab-df-convert {\n",
              "      background-color: #E8F0FE;\n",
              "      border: none;\n",
              "      border-radius: 50%;\n",
              "      cursor: pointer;\n",
              "      display: none;\n",
              "      fill: #1967D2;\n",
              "      height: 32px;\n",
              "      padding: 0 0 0 0;\n",
              "      width: 32px;\n",
              "    }\n",
              "\n",
              "    .colab-df-convert:hover {\n",
              "      background-color: #E2EBFA;\n",
              "      box-shadow: 0px 1px 2px rgba(60, 64, 67, 0.3), 0px 1px 3px 1px rgba(60, 64, 67, 0.15);\n",
              "      fill: #174EA6;\n",
              "    }\n",
              "\n",
              "    [theme=dark] .colab-df-convert {\n",
              "      background-color: #3B4455;\n",
              "      fill: #D2E3FC;\n",
              "    }\n",
              "\n",
              "    [theme=dark] .colab-df-convert:hover {\n",
              "      background-color: #434B5C;\n",
              "      box-shadow: 0px 1px 3px 1px rgba(0, 0, 0, 0.15);\n",
              "      filter: drop-shadow(0px 1px 2px rgba(0, 0, 0, 0.3));\n",
              "      fill: #FFFFFF;\n",
              "    }\n",
              "  </style>\n",
              "\n",
              "      <script>\n",
              "        const buttonEl =\n",
              "          document.querySelector('#df-07fa45a6-6b5c-4cbf-bff9-0a1cbf5e5cec button.colab-df-convert');\n",
              "        buttonEl.style.display =\n",
              "          google.colab.kernel.accessAllowed ? 'block' : 'none';\n",
              "\n",
              "        async function convertToInteractive(key) {\n",
              "          const element = document.querySelector('#df-07fa45a6-6b5c-4cbf-bff9-0a1cbf5e5cec');\n",
              "          const dataTable =\n",
              "            await google.colab.kernel.invokeFunction('convertToInteractive',\n",
              "                                                     [key], {});\n",
              "          if (!dataTable) return;\n",
              "\n",
              "          const docLinkHtml = 'Like what you see? Visit the ' +\n",
              "            '<a target=\"_blank\" href=https://colab.research.google.com/notebooks/data_table.ipynb>data table notebook</a>'\n",
              "            + ' to learn more about interactive tables.';\n",
              "          element.innerHTML = '';\n",
              "          dataTable['output_type'] = 'display_data';\n",
              "          await google.colab.output.renderOutput(dataTable, element);\n",
              "          const docLink = document.createElement('div');\n",
              "          docLink.innerHTML = docLinkHtml;\n",
              "          element.appendChild(docLink);\n",
              "        }\n",
              "      </script>\n",
              "    </div>\n",
              "  </div>\n",
              "  "
            ]
          },
          "metadata": {},
          "execution_count": 165
        }
      ]
    },
    {
      "cell_type": "code",
      "source": [
        "Figura = sns.color_palette('gnuplot') #Apenas selecionado as cores do gráfico\n",
        "Figura.reverse() #Apenas invertendo a sequência de cores"
      ],
      "metadata": {
        "id": "-EpFpSOSoA_D"
      },
      "execution_count": null,
      "outputs": []
    },
    {
      "cell_type": "markdown",
      "source": [
        "#<font color='red'>Explique de maneira resumida o que foi feito:</font>\n"
      ],
      "metadata": {
        "id": "MYKD3sNRIdWI"
      }
    },
    {
      "cell_type": "markdown",
      "source": [
        "Foi usado o 'barplot' para inserir um grafico de barras com a media da coluna 'Avaliação' para cada 'Linha de produto'"
      ],
      "metadata": {
        "id": "_Z9qh-3GHag4"
      }
    },
    {
      "cell_type": "code",
      "source": [
        "ax = sns.barplot(y = 'Linha de produto', x = 'Avaliação', data = Agrupando_avaliação, palette = Figura)\n",
        "plt.rcParams['figure.figsize'] = (18, 18) #Aumentar o tamanho da Figura\n",
        "ax.set_xlabel('Avaliação dos Clientes')\n",
        "plt.rcParams.update({\"font.size\": 20}) #Aumentar a letra\n",
        "plt.savefig('Linha_x_avaliacao.png', dpi=300)"
      ],
      "metadata": {
        "id": "ePlVIst1oKx0",
        "outputId": "de5bf53e-7353-46c9-9c94-8905fba2aeac",
        "colab": {
          "base_uri": "https://localhost:8080/",
          "height": 455
        }
      },
      "execution_count": null,
      "outputs": [
        {
          "output_type": "display_data",
          "data": {
            "text/plain": [
              "<Figure size 640x480 with 1 Axes>"
            ],
            "image/png": "[encoded data removed]"
          },
          "metadata": {}
        }
      ]
    },
    {
      "cell_type": "markdown",
      "source": [
        "#<font color='red'>Qual é a linha de produto mais bem avaliada? Levante hipótese sobre esse resultado?</font>\n"
      ],
      "metadata": {
        "id": "lRacGULmObuS"
      }
    },
    {
      "cell_type": "markdown",
      "source": [
        "Acessorios fashion pq são produtos com valores mais em conta mudando um visual, então para as mulheres em sua maioria se trata de um investimento."
      ],
      "metadata": {
        "id": "k8-9K_ArIShI"
      }
    },
    {
      "cell_type": "markdown",
      "source": [
        "# **2 Análise**"
      ],
      "metadata": {
        "id": "xieXmEooOsHo"
      }
    },
    {
      "cell_type": "markdown",
      "source": [
        "#<font color='red'>O faz a função abaixo?</font>\n"
      ],
      "metadata": {
        "id": "biyZDAzMKqgL"
      }
    },
    {
      "cell_type": "markdown",
      "source": [
        " Agrupar as linhas de um df por uma coluna chamada \"Linha de produto\", em seguida, está calculando a média da coluna \"Total\" para cada grupo, utilizando o método mean"
      ],
      "metadata": {
        "id": "EAWmFHP1JaP7"
      }
    },
    {
      "cell_type": "code",
      "source": [
        "agrupando_Produto_Total = df.groupby('Linha de produto')['Total'].mean().reset_index(drop=False) # Agrupando a coluna linha de produto e Total"
      ],
      "metadata": {
        "id": "HRcT6z_8oft4"
      },
      "execution_count": null,
      "outputs": []
    },
    {
      "cell_type": "code",
      "source": [
        "agrupando_Produto_Total"
      ],
      "metadata": {
        "id": "gFZkgEAyLTLj",
        "outputId": "a87b0110-61ae-44ae-e332-636cf8c469c4",
        "colab": {
          "base_uri": "https://localhost:8080/",
          "height": 237
        }
      },
      "execution_count": null,
      "outputs": [
        {
          "output_type": "execute_result",
          "data": {
            "text/plain": [
              "         Linha de produto        Total\n",
              "0  Acessórios eletrônicos  4278.573529\n",
              "1     Acessórios fashions  4043.292135\n",
              "2   Casa e estilo de vida  4455.973125\n",
              "3        Comida e bebidas  3912.985345\n",
              "4      Esportes e viagens  4351.833434\n",
              "5          Saúde e beleza  4024.018421"
            ],
            "text/html": [
              "\n",
              "  <div id=\"df-bbefa4d5-7375-40d8-ae82-828f3b79446d\">\n",
              "    <div class=\"colab-df-container\">\n",
              "      <div>\n",
              "<style scoped>\n",
              "    .dataframe tbody tr th:only-of-type {\n",
              "        vertical-align: middle;\n",
              "    }\n",
              "\n",
              "    .dataframe tbody tr th {\n",
              "        vertical-align: top;\n",
              "    }\n",
              "\n",
              "    .dataframe thead th {\n",
              "        text-align: right;\n",
              "    }\n",
              "</style>\n",
              "<table border=\"1\" class=\"dataframe\">\n",
              "  <thead>\n",
              "    <tr style=\"text-align: right;\">\n",
              "      <th></th>\n",
              "      <th>Linha de produto</th>\n",
              "      <th>Total</th>\n",
              "    </tr>\n",
              "  </thead>\n",
              "  <tbody>\n",
              "    <tr>\n",
              "      <th>0</th>\n",
              "      <td>Acessórios eletrônicos</td>\n",
              "      <td>4278.573529</td>\n",
              "    </tr>\n",
              "    <tr>\n",
              "      <th>1</th>\n",
              "      <td>Acessórios fashions</td>\n",
              "      <td>4043.292135</td>\n",
              "    </tr>\n",
              "    <tr>\n",
              "      <th>2</th>\n",
              "      <td>Casa e estilo de vida</td>\n",
              "      <td>4455.973125</td>\n",
              "    </tr>\n",
              "    <tr>\n",
              "      <th>3</th>\n",
              "      <td>Comida e bebidas</td>\n",
              "      <td>3912.985345</td>\n",
              "    </tr>\n",
              "    <tr>\n",
              "      <th>4</th>\n",
              "      <td>Esportes e viagens</td>\n",
              "      <td>4351.833434</td>\n",
              "    </tr>\n",
              "    <tr>\n",
              "      <th>5</th>\n",
              "      <td>Saúde e beleza</td>\n",
              "      <td>4024.018421</td>\n",
              "    </tr>\n",
              "  </tbody>\n",
              "</table>\n",
              "</div>\n",
              "      <button class=\"colab-df-convert\" onclick=\"convertToInteractive('df-bbefa4d5-7375-40d8-ae82-828f3b79446d')\"\n",
              "              title=\"Convert this dataframe to an interactive table.\"\n",
              "              style=\"display:none;\">\n",
              "        \n",
              "  <svg xmlns=\"http://www.w3.org/2000/svg\" height=\"24px\"viewBox=\"0 0 24 24\"\n",
              "       width=\"24px\">\n",
              "    <path d=\"M0 0h24v24H0V0z\" fill=\"none\"/>\n",
              "    <path d=\"M18.56 5.44l.94 2.06.94-2.06 2.06-.94-2.06-.94-.94-2.06-.94 2.06-2.06.94zm-11 1L8.5 8.5l.94-2.06 2.06-.94-2.06-.94L8.5 2.5l-.94 2.06-2.06.94zm10 10l.94 2.06.94-2.06 2.06-.94-2.06-.94-.94-2.06-.94 2.06-2.06.94z\"/><path d=\"M17.41 7.96l-1.37-1.37c-.4-.4-.92-.59-1.43-.59-.52 0-1.04.2-1.43.59L10.3 9.45l-7.72 7.72c-.78.78-.78 2.05 0 2.83L4 21.41c.39.39.9.59 1.41.59.51 0 1.02-.2 1.41-.59l7.78-7.78 2.81-2.81c.8-.78.8-2.07 0-2.86zM5.41 20L4 18.59l7.72-7.72 1.47 1.35L5.41 20z\"/>\n",
              "  </svg>\n",
              "      </button>\n",
              "      \n",
              "  <style>\n",
              "    .colab-df-container {\n",
              "      display:flex;\n",
              "      flex-wrap:wrap;\n",
              "      gap: 12px;\n",
              "    }\n",
              "\n",
              "    .colab-df-convert {\n",
              "      background-color: #E8F0FE;\n",
              "      border: none;\n",
              "      border-radius: 50%;\n",
              "      cursor: pointer;\n",
              "      display: none;\n",
              "      fill: #1967D2;\n",
              "      height: 32px;\n",
              "      padding: 0 0 0 0;\n",
              "      width: 32px;\n",
              "    }\n",
              "\n",
              "    .colab-df-convert:hover {\n",
              "      background-color: #E2EBFA;\n",
              "      box-shadow: 0px 1px 2px rgba(60, 64, 67, 0.3), 0px 1px 3px 1px rgba(60, 64, 67, 0.15);\n",
              "      fill: #174EA6;\n",
              "    }\n",
              "\n",
              "    [theme=dark] .colab-df-convert {\n",
              "      background-color: #3B4455;\n",
              "      fill: #D2E3FC;\n",
              "    }\n",
              "\n",
              "    [theme=dark] .colab-df-convert:hover {\n",
              "      background-color: #434B5C;\n",
              "      box-shadow: 0px 1px 3px 1px rgba(0, 0, 0, 0.15);\n",
              "      filter: drop-shadow(0px 1px 2px rgba(0, 0, 0, 0.3));\n",
              "      fill: #FFFFFF;\n",
              "    }\n",
              "  </style>\n",
              "\n",
              "      <script>\n",
              "        const buttonEl =\n",
              "          document.querySelector('#df-bbefa4d5-7375-40d8-ae82-828f3b79446d button.colab-df-convert');\n",
              "        buttonEl.style.display =\n",
              "          google.colab.kernel.accessAllowed ? 'block' : 'none';\n",
              "\n",
              "        async function convertToInteractive(key) {\n",
              "          const element = document.querySelector('#df-bbefa4d5-7375-40d8-ae82-828f3b79446d');\n",
              "          const dataTable =\n",
              "            await google.colab.kernel.invokeFunction('convertToInteractive',\n",
              "                                                     [key], {});\n",
              "          if (!dataTable) return;\n",
              "\n",
              "          const docLinkHtml = 'Like what you see? Visit the ' +\n",
              "            '<a target=\"_blank\" href=https://colab.research.google.com/notebooks/data_table.ipynb>data table notebook</a>'\n",
              "            + ' to learn more about interactive tables.';\n",
              "          element.innerHTML = '';\n",
              "          dataTable['output_type'] = 'display_data';\n",
              "          await google.colab.output.renderOutput(dataTable, element);\n",
              "          const docLink = document.createElement('div');\n",
              "          docLink.innerHTML = docLinkHtml;\n",
              "          element.appendChild(docLink);\n",
              "        }\n",
              "      </script>\n",
              "    </div>\n",
              "  </div>\n",
              "  "
            ]
          },
          "metadata": {},
          "execution_count": 169
        }
      ]
    },
    {
      "cell_type": "code",
      "source": [
        "agrupando_Produto_Total = agrupando_Produto_Total.round(1) # arredondamento para uma casa decimal"
      ],
      "metadata": {
        "id": "bwBLURP1LiTJ"
      },
      "execution_count": null,
      "outputs": []
    },
    {
      "cell_type": "markdown",
      "source": [
        "#<font color='red'>Mude o gráfico abaixo para barras</font>\n"
      ],
      "metadata": {
        "id": "xrXoN-Kl4peQ"
      }
    },
    {
      "cell_type": "code",
      "source": [
        "fig, ax = plt.subplots(figsize=(16,12))\n",
        "ax = sns.barplot(x = 'Linha de produto', y = 'Total', data = agrupando_Produto_Total) # tipo do gráfico barplot\n",
        "plt.axhline(y=np.nanmean(df.Total), color='red', linestyle='--', linewidth=3, label='Média') #Média linha vermelha\n",
        "plt.xticks(rotation = 45) # Colocar a legenda em 45 graus"
      ],
      "metadata": {
        "id": "iPTc2S0_MI0m",
        "outputId": "cb847c87-11ae-47de-a627-357b44886b90",
        "colab": {
          "base_uri": "https://localhost:8080/",
          "height": 1000
        }
      },
      "execution_count": null,
      "outputs": [
        {
          "output_type": "execute_result",
          "data": {
            "text/plain": [
              "(array([0, 1, 2, 3, 4, 5]),\n",
              " [Text(0, 0, 'Acessórios eletrônicos'),\n",
              "  Text(1, 0, 'Acessórios fashions'),\n",
              "  Text(2, 0, 'Casa e estilo de vida'),\n",
              "  Text(3, 0, 'Comida e bebidas'),\n",
              "  Text(4, 0, 'Esportes e viagens'),\n",
              "  Text(5, 0, 'Saúde e beleza')])"
            ]
          },
          "metadata": {},
          "execution_count": 171
        },
        {
          "output_type": "display_data",
          "data": {
            "text/plain": [
              "<Figure size 1280x960 with 1 Axes>"
            ],
            "image/png": "[encoded data removed]"
          },
          "metadata": {}
        }
      ]
    },
    {
      "cell_type": "markdown",
      "source": [
        "#<font color='red'>Explique o gráfico acima</font>\n"
      ],
      "metadata": {
        "id": "CVCmH-yc41gq"
      }
    },
    {
      "cell_type": "markdown",
      "source": [
        "substitui a funçaõ sns.scatterplot para a função sns.barplot, para tranformar para um grafico de barras. Dando a media de item da coluna de 'l'inha de produto'"
      ],
      "metadata": {
        "id": "vW2sivLHLKXl"
      }
    },
    {
      "cell_type": "markdown",
      "source": [
        "# **3 Análise**"
      ],
      "metadata": {
        "id": "GWSn0N5z5EOY"
      }
    },
    {
      "cell_type": "markdown",
      "source": [
        "# Qual é a filial que tem a maior média de vendas (valor bruto)"
      ],
      "metadata": {
        "id": "n1PwjaGJQHaM"
      }
    },
    {
      "cell_type": "markdown",
      "source": [
        "A filial qe tem o valor bruto seria a Esportes e viagens "
      ],
      "metadata": {
        "id": "0e_CtYBNL7DJ"
      }
    },
    {
      "cell_type": "code",
      "source": [
        "df.head()"
      ],
      "metadata": {
        "id": "J_aLZWomM2fs",
        "outputId": "faedeaee-1fd8-4582-c420-039fa2eb31df",
        "colab": {
          "base_uri": "https://localhost:8080/",
          "height": 206
        }
      },
      "execution_count": null,
      "outputs": [
        {
          "output_type": "execute_result",
          "data": {
            "text/plain": [
              "  Filial Tipo de Cliente Gênero        Linha de produto  Preço unitário  \\\n",
              "0      A       Associado      F          Saúde e beleza         1120.35   \n",
              "1      C          Normal      F  Acessórios eletrônicos          229.20   \n",
              "2      A          Normal      M   Casa e estilo de vida          694.95   \n",
              "3      A       Associado      M          Saúde e beleza          873.30   \n",
              "4      A          Normal      M      Esportes e viagens         1294.65   \n",
              "\n",
              "   Quantidade    Total       Data Horário          Pagamento       COGS  \\\n",
              "0           7  7842.45    Janeiro   Tarde                PIX  4705.4700   \n",
              "1           5  1146.00      Março   Manhã           Dinheiro  1031.4000   \n",
              "2           7  4864.65      Março   Tarde  Cartão de Crédito  3405.2550   \n",
              "3           8  6986.40    Janeiro   Noite                PIX  4191.8400   \n",
              "4           7  9062.55  Fevereiro   Manhã                PIX  6796.9125   \n",
              "\n",
              "   Avaliação  \n",
              "0         91  \n",
              "1         96  \n",
              "2         74  \n",
              "3         84  \n",
              "4         53  "
            ],
            "text/html": [
              "\n",
              "  <div id=\"df-9fc9b54c-2549-4663-94d2-aa05bb77b46d\">\n",
              "    <div class=\"colab-df-container\">\n",
              "      <div>\n",
              "<style scoped>\n",
              "    .dataframe tbody tr th:only-of-type {\n",
              "        vertical-align: middle;\n",
              "    }\n",
              "\n",
              "    .dataframe tbody tr th {\n",
              "        vertical-align: top;\n",
              "    }\n",
              "\n",
              "    .dataframe thead th {\n",
              "        text-align: right;\n",
              "    }\n",
              "</style>\n",
              "<table border=\"1\" class=\"dataframe\">\n",
              "  <thead>\n",
              "    <tr style=\"text-align: right;\">\n",
              "      <th></th>\n",
              "      <th>Filial</th>\n",
              "      <th>Tipo de Cliente</th>\n",
              "      <th>Gênero</th>\n",
              "      <th>Linha de produto</th>\n",
              "      <th>Preço unitário</th>\n",
              "      <th>Quantidade</th>\n",
              "      <th>Total</th>\n",
              "      <th>Data</th>\n",
              "      <th>Horário</th>\n",
              "      <th>Pagamento</th>\n",
              "      <th>COGS</th>\n",
              "      <th>Avaliação</th>\n",
              "    </tr>\n",
              "  </thead>\n",
              "  <tbody>\n",
              "    <tr>\n",
              "      <th>0</th>\n",
              "      <td>A</td>\n",
              "      <td>Associado</td>\n",
              "      <td>F</td>\n",
              "      <td>Saúde e beleza</td>\n",
              "      <td>1120.35</td>\n",
              "      <td>7</td>\n",
              "      <td>7842.45</td>\n",
              "      <td>Janeiro</td>\n",
              "      <td>Tarde</td>\n",
              "      <td>PIX</td>\n",
              "      <td>4705.4700</td>\n",
              "      <td>91</td>\n",
              "    </tr>\n",
              "    <tr>\n",
              "      <th>1</th>\n",
              "      <td>C</td>\n",
              "      <td>Normal</td>\n",
              "      <td>F</td>\n",
              "      <td>Acessórios eletrônicos</td>\n",
              "      <td>229.20</td>\n",
              "      <td>5</td>\n",
              "      <td>1146.00</td>\n",
              "      <td>Março</td>\n",
              "      <td>Manhã</td>\n",
              "      <td>Dinheiro</td>\n",
              "      <td>1031.4000</td>\n",
              "      <td>96</td>\n",
              "    </tr>\n",
              "    <tr>\n",
              "      <th>2</th>\n",
              "      <td>A</td>\n",
              "      <td>Normal</td>\n",
              "      <td>M</td>\n",
              "      <td>Casa e estilo de vida</td>\n",
              "      <td>694.95</td>\n",
              "      <td>7</td>\n",
              "      <td>4864.65</td>\n",
              "      <td>Março</td>\n",
              "      <td>Tarde</td>\n",
              "      <td>Cartão de Crédito</td>\n",
              "      <td>3405.2550</td>\n",
              "      <td>74</td>\n",
              "    </tr>\n",
              "    <tr>\n",
              "      <th>3</th>\n",
              "      <td>A</td>\n",
              "      <td>Associado</td>\n",
              "      <td>M</td>\n",
              "      <td>Saúde e beleza</td>\n",
              "      <td>873.30</td>\n",
              "      <td>8</td>\n",
              "      <td>6986.40</td>\n",
              "      <td>Janeiro</td>\n",
              "      <td>Noite</td>\n",
              "      <td>PIX</td>\n",
              "      <td>4191.8400</td>\n",
              "      <td>84</td>\n",
              "    </tr>\n",
              "    <tr>\n",
              "      <th>4</th>\n",
              "      <td>A</td>\n",
              "      <td>Normal</td>\n",
              "      <td>M</td>\n",
              "      <td>Esportes e viagens</td>\n",
              "      <td>1294.65</td>\n",
              "      <td>7</td>\n",
              "      <td>9062.55</td>\n",
              "      <td>Fevereiro</td>\n",
              "      <td>Manhã</td>\n",
              "      <td>PIX</td>\n",
              "      <td>6796.9125</td>\n",
              "      <td>53</td>\n",
              "    </tr>\n",
              "  </tbody>\n",
              "</table>\n",
              "</div>\n",
              "      <button class=\"colab-df-convert\" onclick=\"convertToInteractive('df-9fc9b54c-2549-4663-94d2-aa05bb77b46d')\"\n",
              "              title=\"Convert this dataframe to an interactive table.\"\n",
              "              style=\"display:none;\">\n",
              "        \n",
              "  <svg xmlns=\"http://www.w3.org/2000/svg\" height=\"24px\"viewBox=\"0 0 24 24\"\n",
              "       width=\"24px\">\n",
              "    <path d=\"M0 0h24v24H0V0z\" fill=\"none\"/>\n",
              "    <path d=\"M18.56 5.44l.94 2.06.94-2.06 2.06-.94-2.06-.94-.94-2.06-.94 2.06-2.06.94zm-11 1L8.5 8.5l.94-2.06 2.06-.94-2.06-.94L8.5 2.5l-.94 2.06-2.06.94zm10 10l.94 2.06.94-2.06 2.06-.94-2.06-.94-.94-2.06-.94 2.06-2.06.94z\"/><path d=\"M17.41 7.96l-1.37-1.37c-.4-.4-.92-.59-1.43-.59-.52 0-1.04.2-1.43.59L10.3 9.45l-7.72 7.72c-.78.78-.78 2.05 0 2.83L4 21.41c.39.39.9.59 1.41.59.51 0 1.02-.2 1.41-.59l7.78-7.78 2.81-2.81c.8-.78.8-2.07 0-2.86zM5.41 20L4 18.59l7.72-7.72 1.47 1.35L5.41 20z\"/>\n",
              "  </svg>\n",
              "      </button>\n",
              "      \n",
              "  <style>\n",
              "    .colab-df-container {\n",
              "      display:flex;\n",
              "      flex-wrap:wrap;\n",
              "      gap: 12px;\n",
              "    }\n",
              "\n",
              "    .colab-df-convert {\n",
              "      background-color: #E8F0FE;\n",
              "      border: none;\n",
              "      border-radius: 50%;\n",
              "      cursor: pointer;\n",
              "      display: none;\n",
              "      fill: #1967D2;\n",
              "      height: 32px;\n",
              "      padding: 0 0 0 0;\n",
              "      width: 32px;\n",
              "    }\n",
              "\n",
              "    .colab-df-convert:hover {\n",
              "      background-color: #E2EBFA;\n",
              "      box-shadow: 0px 1px 2px rgba(60, 64, 67, 0.3), 0px 1px 3px 1px rgba(60, 64, 67, 0.15);\n",
              "      fill: #174EA6;\n",
              "    }\n",
              "\n",
              "    [theme=dark] .colab-df-convert {\n",
              "      background-color: #3B4455;\n",
              "      fill: #D2E3FC;\n",
              "    }\n",
              "\n",
              "    [theme=dark] .colab-df-convert:hover {\n",
              "      background-color: #434B5C;\n",
              "      box-shadow: 0px 1px 3px 1px rgba(0, 0, 0, 0.15);\n",
              "      filter: drop-shadow(0px 1px 2px rgba(0, 0, 0, 0.3));\n",
              "      fill: #FFFFFF;\n",
              "    }\n",
              "  </style>\n",
              "\n",
              "      <script>\n",
              "        const buttonEl =\n",
              "          document.querySelector('#df-9fc9b54c-2549-4663-94d2-aa05bb77b46d button.colab-df-convert');\n",
              "        buttonEl.style.display =\n",
              "          google.colab.kernel.accessAllowed ? 'block' : 'none';\n",
              "\n",
              "        async function convertToInteractive(key) {\n",
              "          const element = document.querySelector('#df-9fc9b54c-2549-4663-94d2-aa05bb77b46d');\n",
              "          const dataTable =\n",
              "            await google.colab.kernel.invokeFunction('convertToInteractive',\n",
              "                                                     [key], {});\n",
              "          if (!dataTable) return;\n",
              "\n",
              "          const docLinkHtml = 'Like what you see? Visit the ' +\n",
              "            '<a target=\"_blank\" href=https://colab.research.google.com/notebooks/data_table.ipynb>data table notebook</a>'\n",
              "            + ' to learn more about interactive tables.';\n",
              "          element.innerHTML = '';\n",
              "          dataTable['output_type'] = 'display_data';\n",
              "          await google.colab.output.renderOutput(dataTable, element);\n",
              "          const docLink = document.createElement('div');\n",
              "          docLink.innerHTML = docLinkHtml;\n",
              "          element.appendChild(docLink);\n",
              "        }\n",
              "      </script>\n",
              "    </div>\n",
              "  </div>\n",
              "  "
            ]
          },
          "metadata": {},
          "execution_count": 172
        }
      ]
    },
    {
      "cell_type": "markdown",
      "source": [
        "#<font color='red'>Explique a função abaixo</font>\n"
      ],
      "metadata": {
        "id": "12ryjrVM5LXV"
      }
    },
    {
      "cell_type": "code",
      "source": [
        "agrupando_Filial_Total = df.groupby('Filial')['Total'].mean().reset_index(drop=False) "
      ],
      "metadata": {
        "id": "N9yrrSg-QwRJ"
      },
      "execution_count": null,
      "outputs": []
    },
    {
      "cell_type": "markdown",
      "source": [
        "Agrupa os dados da coluna filial "
      ],
      "metadata": {
        "id": "vCHJBF_8xcUs"
      }
    },
    {
      "cell_type": "code",
      "source": [
        "agrupando_Filial_Total "
      ],
      "metadata": {
        "id": "2yC2eClxRGC-",
        "outputId": "ff69e253-7bb0-48d6-d852-43cea72a175d",
        "colab": {
          "base_uri": "https://localhost:8080/",
          "height": 143
        }
      },
      "execution_count": null,
      "outputs": [
        {
          "output_type": "execute_result",
          "data": {
            "text/plain": [
              "  Filial        Total\n",
              "0      A  4110.275294\n",
              "1      B  4179.079066\n",
              "2      C  4237.762043"
            ],
            "text/html": [
              "\n",
              "  <div id=\"df-b2f44f37-3299-4d06-8dbd-7af2aef42ac2\">\n",
              "    <div class=\"colab-df-container\">\n",
              "      <div>\n",
              "<style scoped>\n",
              "    .dataframe tbody tr th:only-of-type {\n",
              "        vertical-align: middle;\n",
              "    }\n",
              "\n",
              "    .dataframe tbody tr th {\n",
              "        vertical-align: top;\n",
              "    }\n",
              "\n",
              "    .dataframe thead th {\n",
              "        text-align: right;\n",
              "    }\n",
              "</style>\n",
              "<table border=\"1\" class=\"dataframe\">\n",
              "  <thead>\n",
              "    <tr style=\"text-align: right;\">\n",
              "      <th></th>\n",
              "      <th>Filial</th>\n",
              "      <th>Total</th>\n",
              "    </tr>\n",
              "  </thead>\n",
              "  <tbody>\n",
              "    <tr>\n",
              "      <th>0</th>\n",
              "      <td>A</td>\n",
              "      <td>4110.275294</td>\n",
              "    </tr>\n",
              "    <tr>\n",
              "      <th>1</th>\n",
              "      <td>B</td>\n",
              "      <td>4179.079066</td>\n",
              "    </tr>\n",
              "    <tr>\n",
              "      <th>2</th>\n",
              "      <td>C</td>\n",
              "      <td>4237.762043</td>\n",
              "    </tr>\n",
              "  </tbody>\n",
              "</table>\n",
              "</div>\n",
              "      <button class=\"colab-df-convert\" onclick=\"convertToInteractive('df-b2f44f37-3299-4d06-8dbd-7af2aef42ac2')\"\n",
              "              title=\"Convert this dataframe to an interactive table.\"\n",
              "              style=\"display:none;\">\n",
              "        \n",
              "  <svg xmlns=\"http://www.w3.org/2000/svg\" height=\"24px\"viewBox=\"0 0 24 24\"\n",
              "       width=\"24px\">\n",
              "    <path d=\"M0 0h24v24H0V0z\" fill=\"none\"/>\n",
              "    <path d=\"M18.56 5.44l.94 2.06.94-2.06 2.06-.94-2.06-.94-.94-2.06-.94 2.06-2.06.94zm-11 1L8.5 8.5l.94-2.06 2.06-.94-2.06-.94L8.5 2.5l-.94 2.06-2.06.94zm10 10l.94 2.06.94-2.06 2.06-.94-2.06-.94-.94-2.06-.94 2.06-2.06.94z\"/><path d=\"M17.41 7.96l-1.37-1.37c-.4-.4-.92-.59-1.43-.59-.52 0-1.04.2-1.43.59L10.3 9.45l-7.72 7.72c-.78.78-.78 2.05 0 2.83L4 21.41c.39.39.9.59 1.41.59.51 0 1.02-.2 1.41-.59l7.78-7.78 2.81-2.81c.8-.78.8-2.07 0-2.86zM5.41 20L4 18.59l7.72-7.72 1.47 1.35L5.41 20z\"/>\n",
              "  </svg>\n",
              "      </button>\n",
              "      \n",
              "  <style>\n",
              "    .colab-df-container {\n",
              "      display:flex;\n",
              "      flex-wrap:wrap;\n",
              "      gap: 12px;\n",
              "    }\n",
              "\n",
              "    .colab-df-convert {\n",
              "      background-color: #E8F0FE;\n",
              "      border: none;\n",
              "      border-radius: 50%;\n",
              "      cursor: pointer;\n",
              "      display: none;\n",
              "      fill: #1967D2;\n",
              "      height: 32px;\n",
              "      padding: 0 0 0 0;\n",
              "      width: 32px;\n",
              "    }\n",
              "\n",
              "    .colab-df-convert:hover {\n",
              "      background-color: #E2EBFA;\n",
              "      box-shadow: 0px 1px 2px rgba(60, 64, 67, 0.3), 0px 1px 3px 1px rgba(60, 64, 67, 0.15);\n",
              "      fill: #174EA6;\n",
              "    }\n",
              "\n",
              "    [theme=dark] .colab-df-convert {\n",
              "      background-color: #3B4455;\n",
              "      fill: #D2E3FC;\n",
              "    }\n",
              "\n",
              "    [theme=dark] .colab-df-convert:hover {\n",
              "      background-color: #434B5C;\n",
              "      box-shadow: 0px 1px 3px 1px rgba(0, 0, 0, 0.15);\n",
              "      filter: drop-shadow(0px 1px 2px rgba(0, 0, 0, 0.3));\n",
              "      fill: #FFFFFF;\n",
              "    }\n",
              "  </style>\n",
              "\n",
              "      <script>\n",
              "        const buttonEl =\n",
              "          document.querySelector('#df-b2f44f37-3299-4d06-8dbd-7af2aef42ac2 button.colab-df-convert');\n",
              "        buttonEl.style.display =\n",
              "          google.colab.kernel.accessAllowed ? 'block' : 'none';\n",
              "\n",
              "        async function convertToInteractive(key) {\n",
              "          const element = document.querySelector('#df-b2f44f37-3299-4d06-8dbd-7af2aef42ac2');\n",
              "          const dataTable =\n",
              "            await google.colab.kernel.invokeFunction('convertToInteractive',\n",
              "                                                     [key], {});\n",
              "          if (!dataTable) return;\n",
              "\n",
              "          const docLinkHtml = 'Like what you see? Visit the ' +\n",
              "            '<a target=\"_blank\" href=https://colab.research.google.com/notebooks/data_table.ipynb>data table notebook</a>'\n",
              "            + ' to learn more about interactive tables.';\n",
              "          element.innerHTML = '';\n",
              "          dataTable['output_type'] = 'display_data';\n",
              "          await google.colab.output.renderOutput(dataTable, element);\n",
              "          const docLink = document.createElement('div');\n",
              "          docLink.innerHTML = docLinkHtml;\n",
              "          element.appendChild(docLink);\n",
              "        }\n",
              "      </script>\n",
              "    </div>\n",
              "  </div>\n",
              "  "
            ]
          },
          "metadata": {},
          "execution_count": 174
        }
      ]
    },
    {
      "cell_type": "markdown",
      "source": [
        "#<font color='red'>Mude para gráfico de barras</font>\n"
      ],
      "metadata": {
        "id": "EXZWkke75XZZ"
      }
    },
    {
      "cell_type": "code",
      "source": [
        "fig, ax = plt.subplots(figsize=(16,12))\n",
        "ax = sns.barplot(x = 'Filial', y = 'Total', data = agrupando_Filial_Total)\n",
        "plt.axhline(y=np.nanmean(df.Total), color='red', linestyle='--', linewidth=3, label='Média')\n",
        "plt.xticks(rotation = 45)"
      ],
      "metadata": {
        "id": "f1MVybV_RHos",
        "outputId": "a44928e3-7fca-48f5-fb9c-a51a4d413831",
        "colab": {
          "base_uri": "https://localhost:8080/",
          "height": 889
        }
      },
      "execution_count": null,
      "outputs": [
        {
          "output_type": "execute_result",
          "data": {
            "text/plain": [
              "(array([0, 1, 2]), [Text(0, 0, 'A'), Text(1, 0, 'B'), Text(2, 0, 'C')])"
            ]
          },
          "metadata": {},
          "execution_count": 175
        },
        {
          "output_type": "display_data",
          "data": {
            "text/plain": [
              "<Figure size 1280x960 with 1 Axes>"
            ],
            "image/png": "[encoded data removed]"
          },
          "metadata": {}
        }
      ]
    },
    {
      "cell_type": "markdown",
      "source": [
        "#<font color='red'>Explique o gráfico acima</font>\n"
      ],
      "metadata": {
        "id": "Uuh_OrMW5c-I"
      }
    },
    {
      "cell_type": "markdown",
      "source": [
        "substitui a funçaõ sns.scatterplot para a função sns.barplot, para tranformar para um grafico de barras. Dando a media de item da coluna de 'Filial'"
      ],
      "metadata": {
        "id": "ZkgZWjxMz7vm"
      }
    },
    {
      "cell_type": "markdown",
      "source": [
        "# **4 Análise**"
      ],
      "metadata": {
        "id": "-tKwIjRD5ioa"
      }
    },
    {
      "cell_type": "markdown",
      "source": [
        "# <font color='red'>Explique o gráfico a seguir, o que significa?</font>\n"
      ],
      "metadata": {
        "id": "742CNZn7SI4v"
      }
    },
    {
      "cell_type": "code",
      "source": [
        "fig, ax = plt.subplots(figsize=(16,12))\n",
        "ax = sns.boxenplot(y='Linha de produto', x = 'Quantidade', data=df) #Cálculo da distribuição da quantidade em relação a linha de produto"
      ],
      "metadata": {
        "id": "sCD7Ll-ORRFt",
        "outputId": "5cc7081a-7b1c-4619-c832-9ca256beae51",
        "colab": {
          "base_uri": "https://localhost:8080/",
          "height": 857
        }
      },
      "execution_count": null,
      "outputs": [
        {
          "output_type": "display_data",
          "data": {
            "text/plain": [
              "<Figure size 1280x960 with 1 Axes>"
            ],
            "image/png": "[encoded data removed]"
          },
          "metadata": {}
        }
      ]
    },
    {
      "cell_type": "markdown",
      "source": [
        "Distribuindo a quantidade em relação a linha de produto "
      ],
      "metadata": {
        "id": "Td4PQC2V2owb"
      }
    },
    {
      "cell_type": "code",
      "source": [
        "df.head()"
      ],
      "metadata": {
        "id": "09KzXFpBTkzn",
        "outputId": "75c360b4-606e-46ec-a6f6-2d77cd24a120",
        "colab": {
          "base_uri": "https://localhost:8080/",
          "height": 206
        }
      },
      "execution_count": null,
      "outputs": [
        {
          "output_type": "execute_result",
          "data": {
            "text/plain": [
              "  Filial Tipo de Cliente Gênero        Linha de produto  Preço unitário  \\\n",
              "0      A       Associado      F          Saúde e beleza         1120.35   \n",
              "1      C          Normal      F  Acessórios eletrônicos          229.20   \n",
              "2      A          Normal      M   Casa e estilo de vida          694.95   \n",
              "3      A       Associado      M          Saúde e beleza          873.30   \n",
              "4      A          Normal      M      Esportes e viagens         1294.65   \n",
              "\n",
              "   Quantidade    Total       Data Horário          Pagamento       COGS  \\\n",
              "0           7  7842.45    Janeiro   Tarde                PIX  4705.4700   \n",
              "1           5  1146.00      Março   Manhã           Dinheiro  1031.4000   \n",
              "2           7  4864.65      Março   Tarde  Cartão de Crédito  3405.2550   \n",
              "3           8  6986.40    Janeiro   Noite                PIX  4191.8400   \n",
              "4           7  9062.55  Fevereiro   Manhã                PIX  6796.9125   \n",
              "\n",
              "   Avaliação  \n",
              "0         91  \n",
              "1         96  \n",
              "2         74  \n",
              "3         84  \n",
              "4         53  "
            ],
            "text/html": [
              "\n",
              "  <div id=\"df-7b365dbd-032a-422a-9bd8-85845aecb377\">\n",
              "    <div class=\"colab-df-container\">\n",
              "      <div>\n",
              "<style scoped>\n",
              "    .dataframe tbody tr th:only-of-type {\n",
              "        vertical-align: middle;\n",
              "    }\n",
              "\n",
              "    .dataframe tbody tr th {\n",
              "        vertical-align: top;\n",
              "    }\n",
              "\n",
              "    .dataframe thead th {\n",
              "        text-align: right;\n",
              "    }\n",
              "</style>\n",
              "<table border=\"1\" class=\"dataframe\">\n",
              "  <thead>\n",
              "    <tr style=\"text-align: right;\">\n",
              "      <th></th>\n",
              "      <th>Filial</th>\n",
              "      <th>Tipo de Cliente</th>\n",
              "      <th>Gênero</th>\n",
              "      <th>Linha de produto</th>\n",
              "      <th>Preço unitário</th>\n",
              "      <th>Quantidade</th>\n",
              "      <th>Total</th>\n",
              "      <th>Data</th>\n",
              "      <th>Horário</th>\n",
              "      <th>Pagamento</th>\n",
              "      <th>COGS</th>\n",
              "      <th>Avaliação</th>\n",
              "    </tr>\n",
              "  </thead>\n",
              "  <tbody>\n",
              "    <tr>\n",
              "      <th>0</th>\n",
              "      <td>A</td>\n",
              "      <td>Associado</td>\n",
              "      <td>F</td>\n",
              "      <td>Saúde e beleza</td>\n",
              "      <td>1120.35</td>\n",
              "      <td>7</td>\n",
              "      <td>7842.45</td>\n",
              "      <td>Janeiro</td>\n",
              "      <td>Tarde</td>\n",
              "      <td>PIX</td>\n",
              "      <td>4705.4700</td>\n",
              "      <td>91</td>\n",
              "    </tr>\n",
              "    <tr>\n",
              "      <th>1</th>\n",
              "      <td>C</td>\n",
              "      <td>Normal</td>\n",
              "      <td>F</td>\n",
              "      <td>Acessórios eletrônicos</td>\n",
              "      <td>229.20</td>\n",
              "      <td>5</td>\n",
              "      <td>1146.00</td>\n",
              "      <td>Março</td>\n",
              "      <td>Manhã</td>\n",
              "      <td>Dinheiro</td>\n",
              "      <td>1031.4000</td>\n",
              "      <td>96</td>\n",
              "    </tr>\n",
              "    <tr>\n",
              "      <th>2</th>\n",
              "      <td>A</td>\n",
              "      <td>Normal</td>\n",
              "      <td>M</td>\n",
              "      <td>Casa e estilo de vida</td>\n",
              "      <td>694.95</td>\n",
              "      <td>7</td>\n",
              "      <td>4864.65</td>\n",
              "      <td>Março</td>\n",
              "      <td>Tarde</td>\n",
              "      <td>Cartão de Crédito</td>\n",
              "      <td>3405.2550</td>\n",
              "      <td>74</td>\n",
              "    </tr>\n",
              "    <tr>\n",
              "      <th>3</th>\n",
              "      <td>A</td>\n",
              "      <td>Associado</td>\n",
              "      <td>M</td>\n",
              "      <td>Saúde e beleza</td>\n",
              "      <td>873.30</td>\n",
              "      <td>8</td>\n",
              "      <td>6986.40</td>\n",
              "      <td>Janeiro</td>\n",
              "      <td>Noite</td>\n",
              "      <td>PIX</td>\n",
              "      <td>4191.8400</td>\n",
              "      <td>84</td>\n",
              "    </tr>\n",
              "    <tr>\n",
              "      <th>4</th>\n",
              "      <td>A</td>\n",
              "      <td>Normal</td>\n",
              "      <td>M</td>\n",
              "      <td>Esportes e viagens</td>\n",
              "      <td>1294.65</td>\n",
              "      <td>7</td>\n",
              "      <td>9062.55</td>\n",
              "      <td>Fevereiro</td>\n",
              "      <td>Manhã</td>\n",
              "      <td>PIX</td>\n",
              "      <td>6796.9125</td>\n",
              "      <td>53</td>\n",
              "    </tr>\n",
              "  </tbody>\n",
              "</table>\n",
              "</div>\n",
              "      <button class=\"colab-df-convert\" onclick=\"convertToInteractive('df-7b365dbd-032a-422a-9bd8-85845aecb377')\"\n",
              "              title=\"Convert this dataframe to an interactive table.\"\n",
              "              style=\"display:none;\">\n",
              "        \n",
              "  <svg xmlns=\"http://www.w3.org/2000/svg\" height=\"24px\"viewBox=\"0 0 24 24\"\n",
              "       width=\"24px\">\n",
              "    <path d=\"M0 0h24v24H0V0z\" fill=\"none\"/>\n",
              "    <path d=\"M18.56 5.44l.94 2.06.94-2.06 2.06-.94-2.06-.94-.94-2.06-.94 2.06-2.06.94zm-11 1L8.5 8.5l.94-2.06 2.06-.94-2.06-.94L8.5 2.5l-.94 2.06-2.06.94zm10 10l.94 2.06.94-2.06 2.06-.94-2.06-.94-.94-2.06-.94 2.06-2.06.94z\"/><path d=\"M17.41 7.96l-1.37-1.37c-.4-.4-.92-.59-1.43-.59-.52 0-1.04.2-1.43.59L10.3 9.45l-7.72 7.72c-.78.78-.78 2.05 0 2.83L4 21.41c.39.39.9.59 1.41.59.51 0 1.02-.2 1.41-.59l7.78-7.78 2.81-2.81c.8-.78.8-2.07 0-2.86zM5.41 20L4 18.59l7.72-7.72 1.47 1.35L5.41 20z\"/>\n",
              "  </svg>\n",
              "      </button>\n",
              "      \n",
              "  <style>\n",
              "    .colab-df-container {\n",
              "      display:flex;\n",
              "      flex-wrap:wrap;\n",
              "      gap: 12px;\n",
              "    }\n",
              "\n",
              "    .colab-df-convert {\n",
              "      background-color: #E8F0FE;\n",
              "      border: none;\n",
              "      border-radius: 50%;\n",
              "      cursor: pointer;\n",
              "      display: none;\n",
              "      fill: #1967D2;\n",
              "      height: 32px;\n",
              "      padding: 0 0 0 0;\n",
              "      width: 32px;\n",
              "    }\n",
              "\n",
              "    .colab-df-convert:hover {\n",
              "      background-color: #E2EBFA;\n",
              "      box-shadow: 0px 1px 2px rgba(60, 64, 67, 0.3), 0px 1px 3px 1px rgba(60, 64, 67, 0.15);\n",
              "      fill: #174EA6;\n",
              "    }\n",
              "\n",
              "    [theme=dark] .colab-df-convert {\n",
              "      background-color: #3B4455;\n",
              "      fill: #D2E3FC;\n",
              "    }\n",
              "\n",
              "    [theme=dark] .colab-df-convert:hover {\n",
              "      background-color: #434B5C;\n",
              "      box-shadow: 0px 1px 3px 1px rgba(0, 0, 0, 0.15);\n",
              "      filter: drop-shadow(0px 1px 2px rgba(0, 0, 0, 0.3));\n",
              "      fill: #FFFFFF;\n",
              "    }\n",
              "  </style>\n",
              "\n",
              "      <script>\n",
              "        const buttonEl =\n",
              "          document.querySelector('#df-7b365dbd-032a-422a-9bd8-85845aecb377 button.colab-df-convert');\n",
              "        buttonEl.style.display =\n",
              "          google.colab.kernel.accessAllowed ? 'block' : 'none';\n",
              "\n",
              "        async function convertToInteractive(key) {\n",
              "          const element = document.querySelector('#df-7b365dbd-032a-422a-9bd8-85845aecb377');\n",
              "          const dataTable =\n",
              "            await google.colab.kernel.invokeFunction('convertToInteractive',\n",
              "                                                     [key], {});\n",
              "          if (!dataTable) return;\n",
              "\n",
              "          const docLinkHtml = 'Like what you see? Visit the ' +\n",
              "            '<a target=\"_blank\" href=https://colab.research.google.com/notebooks/data_table.ipynb>data table notebook</a>'\n",
              "            + ' to learn more about interactive tables.';\n",
              "          element.innerHTML = '';\n",
              "          dataTable['output_type'] = 'display_data';\n",
              "          await google.colab.output.renderOutput(dataTable, element);\n",
              "          const docLink = document.createElement('div');\n",
              "          docLink.innerHTML = docLinkHtml;\n",
              "          element.appendChild(docLink);\n",
              "        }\n",
              "      </script>\n",
              "    </div>\n",
              "  </div>\n",
              "  "
            ]
          },
          "metadata": {},
          "execution_count": 177
        }
      ]
    },
    {
      "cell_type": "markdown",
      "source": [
        "# **5 Análise**"
      ],
      "metadata": {
        "id": "9J2PONzt6qde"
      }
    },
    {
      "cell_type": "markdown",
      "source": [],
      "metadata": {
        "id": "uKx2wdZA3h-t"
      }
    },
    {
      "cell_type": "markdown",
      "source": [
        "# <font color='red'>Por que 'Quantidade' está acompanhado sum()?</font>\n",
        "\n"
      ],
      "metadata": {
        "id": "kRJ4opKZV1fm"
      }
    },
    {
      "cell_type": "code",
      "source": [
        "Agrupando_Data_Quantidade = df.groupby('Data')['Quantidade'].sum().reset_index(drop=False)"
      ],
      "metadata": {
        "id": "9n8n8KnuWOPN"
      },
      "execution_count": null,
      "outputs": []
    },
    {
      "cell_type": "markdown",
      "source": [
        "Calcula o total dos valores dados na expressão ou campo em todos os dados agregador "
      ],
      "metadata": {
        "id": "GK4vZUKa3Iw1"
      }
    },
    {
      "cell_type": "code",
      "source": [
        "fig, ax = plt.subplots(figsize=(16,12))\n",
        "ax = sns.lineplot(x = 'Data', y ='Quantidade', data = Agrupando_Data_Quantidade, marker='o', markersize=10)"
      ],
      "metadata": {
        "id": "CCXG8hACVnLt",
        "outputId": "6afc67fc-5341-434c-e669-e1972e149d09",
        "colab": {
          "base_uri": "https://localhost:8080/",
          "height": 867
        }
      },
      "execution_count": null,
      "outputs": [
        {
          "output_type": "display_data",
          "data": {
            "text/plain": [
              "<Figure size 1280x960 with 1 Axes>"
            ],
            "image/png": "[encoded data removed]"
          },
          "metadata": {}
        }
      ]
    },
    {
      "cell_type": "markdown",
      "source": [
        "# <font color='red'>Explique o gráfico acima, o que significa?</font>\n"
      ],
      "metadata": {
        "id": "hv-u-7Np6y6R"
      }
    },
    {
      "cell_type": "markdown",
      "source": [
        "O grafico mostra a quanditade do dado 'Data' varia oa longo do tempo "
      ],
      "metadata": {
        "id": "AYmvek033qsF"
      }
    },
    {
      "cell_type": "code",
      "source": [
        "Agrupando_Data_Quantidade"
      ],
      "metadata": {
        "id": "7jGPCkqtWi6n",
        "outputId": "87b4c417-487e-42b8-d655-b3acb14c149c",
        "colab": {
          "base_uri": "https://localhost:8080/",
          "height": 143
        }
      },
      "execution_count": null,
      "outputs": [
        {
          "output_type": "execute_result",
          "data": {
            "text/plain": [
              "        Data  Quantidade\n",
              "0  Fevereiro        1654\n",
              "1    Janeiro        1965\n",
              "2      Março        1891"
            ],
            "text/html": [
              "\n",
              "  <div id=\"df-cf2394d0-6a80-450a-b194-8898a7bf1ce3\">\n",
              "    <div class=\"colab-df-container\">\n",
              "      <div>\n",
              "<style scoped>\n",
              "    .dataframe tbody tr th:only-of-type {\n",
              "        vertical-align: middle;\n",
              "    }\n",
              "\n",
              "    .dataframe tbody tr th {\n",
              "        vertical-align: top;\n",
              "    }\n",
              "\n",
              "    .dataframe thead th {\n",
              "        text-align: right;\n",
              "    }\n",
              "</style>\n",
              "<table border=\"1\" class=\"dataframe\">\n",
              "  <thead>\n",
              "    <tr style=\"text-align: right;\">\n",
              "      <th></th>\n",
              "      <th>Data</th>\n",
              "      <th>Quantidade</th>\n",
              "    </tr>\n",
              "  </thead>\n",
              "  <tbody>\n",
              "    <tr>\n",
              "      <th>0</th>\n",
              "      <td>Fevereiro</td>\n",
              "      <td>1654</td>\n",
              "    </tr>\n",
              "    <tr>\n",
              "      <th>1</th>\n",
              "      <td>Janeiro</td>\n",
              "      <td>1965</td>\n",
              "    </tr>\n",
              "    <tr>\n",
              "      <th>2</th>\n",
              "      <td>Março</td>\n",
              "      <td>1891</td>\n",
              "    </tr>\n",
              "  </tbody>\n",
              "</table>\n",
              "</div>\n",
              "      <button class=\"colab-df-convert\" onclick=\"convertToInteractive('df-cf2394d0-6a80-450a-b194-8898a7bf1ce3')\"\n",
              "              title=\"Convert this dataframe to an interactive table.\"\n",
              "              style=\"display:none;\">\n",
              "        \n",
              "  <svg xmlns=\"http://www.w3.org/2000/svg\" height=\"24px\"viewBox=\"0 0 24 24\"\n",
              "       width=\"24px\">\n",
              "    <path d=\"M0 0h24v24H0V0z\" fill=\"none\"/>\n",
              "    <path d=\"M18.56 5.44l.94 2.06.94-2.06 2.06-.94-2.06-.94-.94-2.06-.94 2.06-2.06.94zm-11 1L8.5 8.5l.94-2.06 2.06-.94-2.06-.94L8.5 2.5l-.94 2.06-2.06.94zm10 10l.94 2.06.94-2.06 2.06-.94-2.06-.94-.94-2.06-.94 2.06-2.06.94z\"/><path d=\"M17.41 7.96l-1.37-1.37c-.4-.4-.92-.59-1.43-.59-.52 0-1.04.2-1.43.59L10.3 9.45l-7.72 7.72c-.78.78-.78 2.05 0 2.83L4 21.41c.39.39.9.59 1.41.59.51 0 1.02-.2 1.41-.59l7.78-7.78 2.81-2.81c.8-.78.8-2.07 0-2.86zM5.41 20L4 18.59l7.72-7.72 1.47 1.35L5.41 20z\"/>\n",
              "  </svg>\n",
              "      </button>\n",
              "      \n",
              "  <style>\n",
              "    .colab-df-container {\n",
              "      display:flex;\n",
              "      flex-wrap:wrap;\n",
              "      gap: 12px;\n",
              "    }\n",
              "\n",
              "    .colab-df-convert {\n",
              "      background-color: #E8F0FE;\n",
              "      border: none;\n",
              "      border-radius: 50%;\n",
              "      cursor: pointer;\n",
              "      display: none;\n",
              "      fill: #1967D2;\n",
              "      height: 32px;\n",
              "      padding: 0 0 0 0;\n",
              "      width: 32px;\n",
              "    }\n",
              "\n",
              "    .colab-df-convert:hover {\n",
              "      background-color: #E2EBFA;\n",
              "      box-shadow: 0px 1px 2px rgba(60, 64, 67, 0.3), 0px 1px 3px 1px rgba(60, 64, 67, 0.15);\n",
              "      fill: #174EA6;\n",
              "    }\n",
              "\n",
              "    [theme=dark] .colab-df-convert {\n",
              "      background-color: #3B4455;\n",
              "      fill: #D2E3FC;\n",
              "    }\n",
              "\n",
              "    [theme=dark] .colab-df-convert:hover {\n",
              "      background-color: #434B5C;\n",
              "      box-shadow: 0px 1px 3px 1px rgba(0, 0, 0, 0.15);\n",
              "      filter: drop-shadow(0px 1px 2px rgba(0, 0, 0, 0.3));\n",
              "      fill: #FFFFFF;\n",
              "    }\n",
              "  </style>\n",
              "\n",
              "      <script>\n",
              "        const buttonEl =\n",
              "          document.querySelector('#df-cf2394d0-6a80-450a-b194-8898a7bf1ce3 button.colab-df-convert');\n",
              "        buttonEl.style.display =\n",
              "          google.colab.kernel.accessAllowed ? 'block' : 'none';\n",
              "\n",
              "        async function convertToInteractive(key) {\n",
              "          const element = document.querySelector('#df-cf2394d0-6a80-450a-b194-8898a7bf1ce3');\n",
              "          const dataTable =\n",
              "            await google.colab.kernel.invokeFunction('convertToInteractive',\n",
              "                                                     [key], {});\n",
              "          if (!dataTable) return;\n",
              "\n",
              "          const docLinkHtml = 'Like what you see? Visit the ' +\n",
              "            '<a target=\"_blank\" href=https://colab.research.google.com/notebooks/data_table.ipynb>data table notebook</a>'\n",
              "            + ' to learn more about interactive tables.';\n",
              "          element.innerHTML = '';\n",
              "          dataTable['output_type'] = 'display_data';\n",
              "          await google.colab.output.renderOutput(dataTable, element);\n",
              "          const docLink = document.createElement('div');\n",
              "          docLink.innerHTML = docLinkHtml;\n",
              "          element.appendChild(docLink);\n",
              "        }\n",
              "      </script>\n",
              "    </div>\n",
              "  </div>\n",
              "  "
            ]
          },
          "metadata": {},
          "execution_count": 180
        }
      ]
    },
    {
      "cell_type": "code",
      "source": [
        "new_index = [1,0,2] #Alterando a ordem dos meses"
      ],
      "metadata": {
        "id": "-qHItx9SYBz9"
      },
      "execution_count": null,
      "outputs": []
    },
    {
      "cell_type": "code",
      "source": [
        "Agrupando_Data_Quantidade = Agrupando_Data_Quantidade.reindex(new_index) # salvando"
      ],
      "metadata": {
        "id": "mzS0AGHFYSf1"
      },
      "execution_count": null,
      "outputs": []
    },
    {
      "cell_type": "markdown",
      "source": [
        "# <font color='red'>Explique o código acima:</font>\n"
      ],
      "metadata": {
        "id": "Uotpai_G7JOi"
      }
    },
    {
      "cell_type": "markdown",
      "source": [
        "esta alterando a ordem dos meses, para que fique com a ordem certa"
      ],
      "metadata": {
        "id": "fbgOB8oW4xTw"
      }
    },
    {
      "cell_type": "code",
      "source": [
        "df.head()"
      ],
      "metadata": {
        "id": "pOFC8WAMYYcY",
        "outputId": "b6f7a448-6084-49c5-caf2-f6f31b34a66f",
        "colab": {
          "base_uri": "https://localhost:8080/",
          "height": 206
        }
      },
      "execution_count": null,
      "outputs": [
        {
          "output_type": "execute_result",
          "data": {
            "text/plain": [
              "  Filial Tipo de Cliente Gênero        Linha de produto  Preço unitário  \\\n",
              "0      A       Associado      F          Saúde e beleza         1120.35   \n",
              "1      C          Normal      F  Acessórios eletrônicos          229.20   \n",
              "2      A          Normal      M   Casa e estilo de vida          694.95   \n",
              "3      A       Associado      M          Saúde e beleza          873.30   \n",
              "4      A          Normal      M      Esportes e viagens         1294.65   \n",
              "\n",
              "   Quantidade    Total       Data Horário          Pagamento       COGS  \\\n",
              "0           7  7842.45    Janeiro   Tarde                PIX  4705.4700   \n",
              "1           5  1146.00      Março   Manhã           Dinheiro  1031.4000   \n",
              "2           7  4864.65      Março   Tarde  Cartão de Crédito  3405.2550   \n",
              "3           8  6986.40    Janeiro   Noite                PIX  4191.8400   \n",
              "4           7  9062.55  Fevereiro   Manhã                PIX  6796.9125   \n",
              "\n",
              "   Avaliação  \n",
              "0         91  \n",
              "1         96  \n",
              "2         74  \n",
              "3         84  \n",
              "4         53  "
            ],
            "text/html": [
              "\n",
              "  <div id=\"df-59e7db92-a4ca-459d-a644-b41603d25581\">\n",
              "    <div class=\"colab-df-container\">\n",
              "      <div>\n",
              "<style scoped>\n",
              "    .dataframe tbody tr th:only-of-type {\n",
              "        vertical-align: middle;\n",
              "    }\n",
              "\n",
              "    .dataframe tbody tr th {\n",
              "        vertical-align: top;\n",
              "    }\n",
              "\n",
              "    .dataframe thead th {\n",
              "        text-align: right;\n",
              "    }\n",
              "</style>\n",
              "<table border=\"1\" class=\"dataframe\">\n",
              "  <thead>\n",
              "    <tr style=\"text-align: right;\">\n",
              "      <th></th>\n",
              "      <th>Filial</th>\n",
              "      <th>Tipo de Cliente</th>\n",
              "      <th>Gênero</th>\n",
              "      <th>Linha de produto</th>\n",
              "      <th>Preço unitário</th>\n",
              "      <th>Quantidade</th>\n",
              "      <th>Total</th>\n",
              "      <th>Data</th>\n",
              "      <th>Horário</th>\n",
              "      <th>Pagamento</th>\n",
              "      <th>COGS</th>\n",
              "      <th>Avaliação</th>\n",
              "    </tr>\n",
              "  </thead>\n",
              "  <tbody>\n",
              "    <tr>\n",
              "      <th>0</th>\n",
              "      <td>A</td>\n",
              "      <td>Associado</td>\n",
              "      <td>F</td>\n",
              "      <td>Saúde e beleza</td>\n",
              "      <td>1120.35</td>\n",
              "      <td>7</td>\n",
              "      <td>7842.45</td>\n",
              "      <td>Janeiro</td>\n",
              "      <td>Tarde</td>\n",
              "      <td>PIX</td>\n",
              "      <td>4705.4700</td>\n",
              "      <td>91</td>\n",
              "    </tr>\n",
              "    <tr>\n",
              "      <th>1</th>\n",
              "      <td>C</td>\n",
              "      <td>Normal</td>\n",
              "      <td>F</td>\n",
              "      <td>Acessórios eletrônicos</td>\n",
              "      <td>229.20</td>\n",
              "      <td>5</td>\n",
              "      <td>1146.00</td>\n",
              "      <td>Março</td>\n",
              "      <td>Manhã</td>\n",
              "      <td>Dinheiro</td>\n",
              "      <td>1031.4000</td>\n",
              "      <td>96</td>\n",
              "    </tr>\n",
              "    <tr>\n",
              "      <th>2</th>\n",
              "      <td>A</td>\n",
              "      <td>Normal</td>\n",
              "      <td>M</td>\n",
              "      <td>Casa e estilo de vida</td>\n",
              "      <td>694.95</td>\n",
              "      <td>7</td>\n",
              "      <td>4864.65</td>\n",
              "      <td>Março</td>\n",
              "      <td>Tarde</td>\n",
              "      <td>Cartão de Crédito</td>\n",
              "      <td>3405.2550</td>\n",
              "      <td>74</td>\n",
              "    </tr>\n",
              "    <tr>\n",
              "      <th>3</th>\n",
              "      <td>A</td>\n",
              "      <td>Associado</td>\n",
              "      <td>M</td>\n",
              "      <td>Saúde e beleza</td>\n",
              "      <td>873.30</td>\n",
              "      <td>8</td>\n",
              "      <td>6986.40</td>\n",
              "      <td>Janeiro</td>\n",
              "      <td>Noite</td>\n",
              "      <td>PIX</td>\n",
              "      <td>4191.8400</td>\n",
              "      <td>84</td>\n",
              "    </tr>\n",
              "    <tr>\n",
              "      <th>4</th>\n",
              "      <td>A</td>\n",
              "      <td>Normal</td>\n",
              "      <td>M</td>\n",
              "      <td>Esportes e viagens</td>\n",
              "      <td>1294.65</td>\n",
              "      <td>7</td>\n",
              "      <td>9062.55</td>\n",
              "      <td>Fevereiro</td>\n",
              "      <td>Manhã</td>\n",
              "      <td>PIX</td>\n",
              "      <td>6796.9125</td>\n",
              "      <td>53</td>\n",
              "    </tr>\n",
              "  </tbody>\n",
              "</table>\n",
              "</div>\n",
              "      <button class=\"colab-df-convert\" onclick=\"convertToInteractive('df-59e7db92-a4ca-459d-a644-b41603d25581')\"\n",
              "              title=\"Convert this dataframe to an interactive table.\"\n",
              "              style=\"display:none;\">\n",
              "        \n",
              "  <svg xmlns=\"http://www.w3.org/2000/svg\" height=\"24px\"viewBox=\"0 0 24 24\"\n",
              "       width=\"24px\">\n",
              "    <path d=\"M0 0h24v24H0V0z\" fill=\"none\"/>\n",
              "    <path d=\"M18.56 5.44l.94 2.06.94-2.06 2.06-.94-2.06-.94-.94-2.06-.94 2.06-2.06.94zm-11 1L8.5 8.5l.94-2.06 2.06-.94-2.06-.94L8.5 2.5l-.94 2.06-2.06.94zm10 10l.94 2.06.94-2.06 2.06-.94-2.06-.94-.94-2.06-.94 2.06-2.06.94z\"/><path d=\"M17.41 7.96l-1.37-1.37c-.4-.4-.92-.59-1.43-.59-.52 0-1.04.2-1.43.59L10.3 9.45l-7.72 7.72c-.78.78-.78 2.05 0 2.83L4 21.41c.39.39.9.59 1.41.59.51 0 1.02-.2 1.41-.59l7.78-7.78 2.81-2.81c.8-.78.8-2.07 0-2.86zM5.41 20L4 18.59l7.72-7.72 1.47 1.35L5.41 20z\"/>\n",
              "  </svg>\n",
              "      </button>\n",
              "      \n",
              "  <style>\n",
              "    .colab-df-container {\n",
              "      display:flex;\n",
              "      flex-wrap:wrap;\n",
              "      gap: 12px;\n",
              "    }\n",
              "\n",
              "    .colab-df-convert {\n",
              "      background-color: #E8F0FE;\n",
              "      border: none;\n",
              "      border-radius: 50%;\n",
              "      cursor: pointer;\n",
              "      display: none;\n",
              "      fill: #1967D2;\n",
              "      height: 32px;\n",
              "      padding: 0 0 0 0;\n",
              "      width: 32px;\n",
              "    }\n",
              "\n",
              "    .colab-df-convert:hover {\n",
              "      background-color: #E2EBFA;\n",
              "      box-shadow: 0px 1px 2px rgba(60, 64, 67, 0.3), 0px 1px 3px 1px rgba(60, 64, 67, 0.15);\n",
              "      fill: #174EA6;\n",
              "    }\n",
              "\n",
              "    [theme=dark] .colab-df-convert {\n",
              "      background-color: #3B4455;\n",
              "      fill: #D2E3FC;\n",
              "    }\n",
              "\n",
              "    [theme=dark] .colab-df-convert:hover {\n",
              "      background-color: #434B5C;\n",
              "      box-shadow: 0px 1px 3px 1px rgba(0, 0, 0, 0.15);\n",
              "      filter: drop-shadow(0px 1px 2px rgba(0, 0, 0, 0.3));\n",
              "      fill: #FFFFFF;\n",
              "    }\n",
              "  </style>\n",
              "\n",
              "      <script>\n",
              "        const buttonEl =\n",
              "          document.querySelector('#df-59e7db92-a4ca-459d-a644-b41603d25581 button.colab-df-convert');\n",
              "        buttonEl.style.display =\n",
              "          google.colab.kernel.accessAllowed ? 'block' : 'none';\n",
              "\n",
              "        async function convertToInteractive(key) {\n",
              "          const element = document.querySelector('#df-59e7db92-a4ca-459d-a644-b41603d25581');\n",
              "          const dataTable =\n",
              "            await google.colab.kernel.invokeFunction('convertToInteractive',\n",
              "                                                     [key], {});\n",
              "          if (!dataTable) return;\n",
              "\n",
              "          const docLinkHtml = 'Like what you see? Visit the ' +\n",
              "            '<a target=\"_blank\" href=https://colab.research.google.com/notebooks/data_table.ipynb>data table notebook</a>'\n",
              "            + ' to learn more about interactive tables.';\n",
              "          element.innerHTML = '';\n",
              "          dataTable['output_type'] = 'display_data';\n",
              "          await google.colab.output.renderOutput(dataTable, element);\n",
              "          const docLink = document.createElement('div');\n",
              "          docLink.innerHTML = docLinkHtml;\n",
              "          element.appendChild(docLink);\n",
              "        }\n",
              "      </script>\n",
              "    </div>\n",
              "  </div>\n",
              "  "
            ]
          },
          "metadata": {},
          "execution_count": 183
        }
      ]
    },
    {
      "cell_type": "markdown",
      "source": [
        "# **6 Análise**"
      ],
      "metadata": {
        "id": "L7cbAJX37NNn"
      }
    },
    {
      "cell_type": "markdown",
      "source": [
        "# <font color='red'>Explique detalhamente o código abaixo:</font>\n"
      ],
      "metadata": {
        "id": "LlehlLUjgfzr"
      }
    },
    {
      "cell_type": "markdown",
      "source": [
        "A primeira linha define o estilo do grafico como 'classic'\n",
        "A segunda linha defina as cores da grafico\n",
        "A terceira e responsavel por crair o grafico em si, tirando os dados da coluna 'tipo de cliente'"
      ],
      "metadata": {
        "id": "mRqdSxv350-E"
      }
    },
    {
      "cell_type": "code",
      "source": [
        "plt.style.use('classic') #Gráfico Clássico\n",
        "plt.style.use('bmh') #estilo cores\n",
        "df.groupby('Tipo de Cliente').count()['Total'].plot(kind='pie', autopct='%.1f', figsize=(16,12), subplots=True, wedgeprops=dict(width=0.20))"
      ],
      "metadata": {
        "id": "1De4LQKQgWhz",
        "outputId": "53a3194a-14fe-45ec-86be-daba18888aa5",
        "colab": {
          "base_uri": "https://localhost:8080/",
          "height": 818
        }
      },
      "execution_count": null,
      "outputs": [
        {
          "output_type": "execute_result",
          "data": {
            "text/plain": [
              "array([<Axes: ylabel='Total'>], dtype=object)"
            ]
          },
          "metadata": {},
          "execution_count": 184
        },
        {
          "output_type": "display_data",
          "data": {
            "text/plain": [
              "<Figure size 1280x960 with 1 Axes>"
            ],
            "image/png": "[encoded data removed]"
          },
          "metadata": {}
        }
      ]
    },
    {
      "cell_type": "code",
      "source": [
        "df.groupby('Tipo de Cliente').count()['Total']"
      ],
      "metadata": {
        "id": "WH7JaBIl6eea",
        "outputId": "caec7392-f64d-43ac-d903-c1b58602051e",
        "colab": {
          "base_uri": "https://localhost:8080/"
        }
      },
      "execution_count": null,
      "outputs": [
        {
          "output_type": "execute_result",
          "data": {
            "text/plain": [
              "Tipo de Cliente\n",
              "Associado    501\n",
              "Normal       499\n",
              "Name: Total, dtype: int64"
            ]
          },
          "metadata": {},
          "execution_count": 185
        }
      ]
    },
    {
      "cell_type": "markdown",
      "source": [
        "# <font color='red'>Está coerente o gráfico acima?</font>\n"
      ],
      "metadata": {
        "id": "fS5VeFO47jcC"
      }
    },
    {
      "cell_type": "markdown",
      "source": [
        "Sim, esta, pois tem uma pequena diferença entre associado e normal, tendo associado um a mais que normal, então associado ficando com a porcentagem maior "
      ],
      "metadata": {
        "id": "g2G1-WkR6X5o"
      }
    },
    {
      "cell_type": "markdown",
      "source": [
        "# **7 Análise**"
      ],
      "metadata": {
        "id": "6z8MwOsX7tjX"
      }
    },
    {
      "cell_type": "markdown",
      "source": [
        "# <font color='red'>Explique o código abaixo:</font>\n",
        "\n",
        "\n",
        "\n",
        "\n"
      ],
      "metadata": {
        "id": "QVRMUmoclN3T"
      }
    },
    {
      "cell_type": "markdown",
      "source": [
        "Primeira linha seria o estilo do grafico\n",
        "Segunda linha as cores \n",
        "Terceira linha gerando o grafico Tirando os dados da coluna 'pagamento'"
      ],
      "metadata": {
        "id": "URf-4VO56x5Q"
      }
    },
    {
      "cell_type": "code",
      "source": [
        "plt.style.use('classic')\n",
        "plt.style.use('bmh')\n",
        "df.groupby('Pagamento').count()['Total'].plot(kind='pie', autopct='%.1f', figsize=(16,12), subplots=True, wedgeprops=dict(width=0.20))"
      ],
      "metadata": {
        "id": "ecKmLi2gk1nN",
        "outputId": "e41005b5-812c-469e-ed92-be2f5ec3efb3",
        "colab": {
          "base_uri": "https://localhost:8080/",
          "height": 818
        }
      },
      "execution_count": null,
      "outputs": [
        {
          "output_type": "execute_result",
          "data": {
            "text/plain": [
              "array([<Axes: ylabel='Total'>], dtype=object)"
            ]
          },
          "metadata": {},
          "execution_count": 186
        },
        {
          "output_type": "display_data",
          "data": {
            "text/plain": [
              "<Figure size 1280x960 with 1 Axes>"
            ],
            "image/png": "[encoded data removed]"
          },
          "metadata": {}
        }
      ]
    },
    {
      "cell_type": "markdown",
      "source": [
        "# <font color='red'>O que significa o gráfico acima? Monte uma hipótese para esse resultado?</font>\n"
      ],
      "metadata": {
        "id": "BCDmMXEZ8Inb"
      }
    },
    {
      "cell_type": "markdown",
      "source": [
        "Seria as formas de pagamentos, mostrando a porcentagem de qual seria a mais utilizada, no caso do grafico acima seriam porcentagem bem parecida, tendo pouca diferença entre as 3 opção, a maior seria o PIX, por 0,1% a mais que dinheiro e logo em seguido com uma diferença de um pouco a mais de 3% vem o cartão de credito "
      ],
      "metadata": {
        "id": "DWNhBQvp7ACB"
      }
    },
    {
      "cell_type": "markdown",
      "source": [
        "# **8 Análise**"
      ],
      "metadata": {
        "id": "2xvaUhNf8oRe"
      }
    },
    {
      "cell_type": "markdown",
      "source": [
        "# <font color='red'>Explique o código a seguir?</font>\n"
      ],
      "metadata": {
        "id": "vEYuHZH8nl4J"
      }
    },
    {
      "cell_type": "code",
      "source": [
        "agrupamento_horario_total = df.groupby('Horário')['Total'].mean().reset_index(drop=False)"
      ],
      "metadata": {
        "id": "qouaFOFrnp8s"
      },
      "execution_count": null,
      "outputs": []
    },
    {
      "cell_type": "markdown",
      "source": [
        "Agrupa os dados pelo horario e calcula a media pela coluna total por cada horario"
      ],
      "metadata": {
        "id": "iss8FaKg8v8C"
      }
    },
    {
      "cell_type": "code",
      "source": [
        "agrupamento_horario_total"
      ],
      "metadata": {
        "id": "fY4Sj-ytoAgg",
        "outputId": "4fcf1c09-2837-4e84-99e8-2e081cd48efc",
        "colab": {
          "base_uri": "https://localhost:8080/",
          "height": 143
        }
      },
      "execution_count": null,
      "outputs": [
        {
          "output_type": "execute_result",
          "data": {
            "text/plain": [
              "  Horário        Total\n",
              "0   Manhã  4077.974464\n",
              "1   Noite  4196.399202\n",
              "2   Tarde  4218.379511"
            ],
            "text/html": [
              "\n",
              "  <div id=\"df-d0134e90-3e19-43cc-b22c-17ef4715ac1e\">\n",
              "    <div class=\"colab-df-container\">\n",
              "      <div>\n",
              "<style scoped>\n",
              "    .dataframe tbody tr th:only-of-type {\n",
              "        vertical-align: middle;\n",
              "    }\n",
              "\n",
              "    .dataframe tbody tr th {\n",
              "        vertical-align: top;\n",
              "    }\n",
              "\n",
              "    .dataframe thead th {\n",
              "        text-align: right;\n",
              "    }\n",
              "</style>\n",
              "<table border=\"1\" class=\"dataframe\">\n",
              "  <thead>\n",
              "    <tr style=\"text-align: right;\">\n",
              "      <th></th>\n",
              "      <th>Horário</th>\n",
              "      <th>Total</th>\n",
              "    </tr>\n",
              "  </thead>\n",
              "  <tbody>\n",
              "    <tr>\n",
              "      <th>0</th>\n",
              "      <td>Manhã</td>\n",
              "      <td>4077.974464</td>\n",
              "    </tr>\n",
              "    <tr>\n",
              "      <th>1</th>\n",
              "      <td>Noite</td>\n",
              "      <td>4196.399202</td>\n",
              "    </tr>\n",
              "    <tr>\n",
              "      <th>2</th>\n",
              "      <td>Tarde</td>\n",
              "      <td>4218.379511</td>\n",
              "    </tr>\n",
              "  </tbody>\n",
              "</table>\n",
              "</div>\n",
              "      <button class=\"colab-df-convert\" onclick=\"convertToInteractive('df-d0134e90-3e19-43cc-b22c-17ef4715ac1e')\"\n",
              "              title=\"Convert this dataframe to an interactive table.\"\n",
              "              style=\"display:none;\">\n",
              "        \n",
              "  <svg xmlns=\"http://www.w3.org/2000/svg\" height=\"24px\"viewBox=\"0 0 24 24\"\n",
              "       width=\"24px\">\n",
              "    <path d=\"M0 0h24v24H0V0z\" fill=\"none\"/>\n",
              "    <path d=\"M18.56 5.44l.94 2.06.94-2.06 2.06-.94-2.06-.94-.94-2.06-.94 2.06-2.06.94zm-11 1L8.5 8.5l.94-2.06 2.06-.94-2.06-.94L8.5 2.5l-.94 2.06-2.06.94zm10 10l.94 2.06.94-2.06 2.06-.94-2.06-.94-.94-2.06-.94 2.06-2.06.94z\"/><path d=\"M17.41 7.96l-1.37-1.37c-.4-.4-.92-.59-1.43-.59-.52 0-1.04.2-1.43.59L10.3 9.45l-7.72 7.72c-.78.78-.78 2.05 0 2.83L4 21.41c.39.39.9.59 1.41.59.51 0 1.02-.2 1.41-.59l7.78-7.78 2.81-2.81c.8-.78.8-2.07 0-2.86zM5.41 20L4 18.59l7.72-7.72 1.47 1.35L5.41 20z\"/>\n",
              "  </svg>\n",
              "      </button>\n",
              "      \n",
              "  <style>\n",
              "    .colab-df-container {\n",
              "      display:flex;\n",
              "      flex-wrap:wrap;\n",
              "      gap: 12px;\n",
              "    }\n",
              "\n",
              "    .colab-df-convert {\n",
              "      background-color: #E8F0FE;\n",
              "      border: none;\n",
              "      border-radius: 50%;\n",
              "      cursor: pointer;\n",
              "      display: none;\n",
              "      fill: #1967D2;\n",
              "      height: 32px;\n",
              "      padding: 0 0 0 0;\n",
              "      width: 32px;\n",
              "    }\n",
              "\n",
              "    .colab-df-convert:hover {\n",
              "      background-color: #E2EBFA;\n",
              "      box-shadow: 0px 1px 2px rgba(60, 64, 67, 0.3), 0px 1px 3px 1px rgba(60, 64, 67, 0.15);\n",
              "      fill: #174EA6;\n",
              "    }\n",
              "\n",
              "    [theme=dark] .colab-df-convert {\n",
              "      background-color: #3B4455;\n",
              "      fill: #D2E3FC;\n",
              "    }\n",
              "\n",
              "    [theme=dark] .colab-df-convert:hover {\n",
              "      background-color: #434B5C;\n",
              "      box-shadow: 0px 1px 3px 1px rgba(0, 0, 0, 0.15);\n",
              "      filter: drop-shadow(0px 1px 2px rgba(0, 0, 0, 0.3));\n",
              "      fill: #FFFFFF;\n",
              "    }\n",
              "  </style>\n",
              "\n",
              "      <script>\n",
              "        const buttonEl =\n",
              "          document.querySelector('#df-d0134e90-3e19-43cc-b22c-17ef4715ac1e button.colab-df-convert');\n",
              "        buttonEl.style.display =\n",
              "          google.colab.kernel.accessAllowed ? 'block' : 'none';\n",
              "\n",
              "        async function convertToInteractive(key) {\n",
              "          const element = document.querySelector('#df-d0134e90-3e19-43cc-b22c-17ef4715ac1e');\n",
              "          const dataTable =\n",
              "            await google.colab.kernel.invokeFunction('convertToInteractive',\n",
              "                                                     [key], {});\n",
              "          if (!dataTable) return;\n",
              "\n",
              "          const docLinkHtml = 'Like what you see? Visit the ' +\n",
              "            '<a target=\"_blank\" href=https://colab.research.google.com/notebooks/data_table.ipynb>data table notebook</a>'\n",
              "            + ' to learn more about interactive tables.';\n",
              "          element.innerHTML = '';\n",
              "          dataTable['output_type'] = 'display_data';\n",
              "          await google.colab.output.renderOutput(dataTable, element);\n",
              "          const docLink = document.createElement('div');\n",
              "          docLink.innerHTML = docLinkHtml;\n",
              "          element.appendChild(docLink);\n",
              "        }\n",
              "      </script>\n",
              "    </div>\n",
              "  </div>\n",
              "  "
            ]
          },
          "metadata": {},
          "execution_count": 188
        }
      ]
    },
    {
      "cell_type": "code",
      "source": [
        "sns.lineplot(x = 'Horário', y = 'Total', data = agrupamento_horario_total, marker='o', markersize=12, linewidth=2)"
      ],
      "metadata": {
        "id": "3FL7plpioD_L",
        "outputId": "f3ffe993-a186-4a67-e647-0c49d5343c8d",
        "colab": {
          "base_uri": "https://localhost:8080/",
          "height": 478
        }
      },
      "execution_count": null,
      "outputs": [
        {
          "output_type": "execute_result",
          "data": {
            "text/plain": [
              "<Axes: xlabel='Horário', ylabel='Total'>"
            ]
          },
          "metadata": {},
          "execution_count": 189
        },
        {
          "output_type": "display_data",
          "data": {
            "text/plain": [
              "<Figure size 640x480 with 1 Axes>"
            ],
            "image/png": "[encoded data removed]"
          },
          "metadata": {}
        }
      ]
    },
    {
      "cell_type": "markdown",
      "source": [
        "# <font color='red'>Qual sua hipótese em relação ao gráfico acima:</font>\n"
      ],
      "metadata": {
        "id": "ABKCTLoi8-7p"
      }
    },
    {
      "cell_type": "markdown",
      "source": [
        "A grafico apresenta qual periodo entre 'manhã, tarde e noite' da mais lucro, no grafico mostra que o periodo da tarde esta acaretando mais lucro em seguida a noite e por ultimo a manhã "
      ],
      "metadata": {
        "id": "LIpHFlb78791"
      }
    },
    {
      "cell_type": "markdown",
      "source": [
        "# 9 Análise"
      ],
      "metadata": {
        "id": "lCOaoQs_9K-c"
      }
    },
    {
      "cell_type": "code",
      "source": [
        "df['Lucro'] = df['Total'] - df['COGS']"
      ],
      "metadata": {
        "id": "UxRzhcVAqxFL"
      },
      "execution_count": null,
      "outputs": []
    },
    {
      "cell_type": "code",
      "source": [
        "df"
      ],
      "metadata": {
        "id": "z1ZzCF35rv9E",
        "outputId": "708be806-3772-4a79-b323-675fdf4229a7",
        "colab": {
          "base_uri": "https://localhost:8080/",
          "height": 423
        }
      },
      "execution_count": null,
      "outputs": [
        {
          "output_type": "execute_result",
          "data": {
            "text/plain": [
              "    Filial Tipo de Cliente Gênero        Linha de produto  Preço unitário  \\\n",
              "0        A       Associado      F          Saúde e beleza         1120.35   \n",
              "1        C          Normal      F  Acessórios eletrônicos          229.20   \n",
              "2        A          Normal      M   Casa e estilo de vida          694.95   \n",
              "3        A       Associado      M          Saúde e beleza          873.30   \n",
              "4        A          Normal      M      Esportes e viagens         1294.65   \n",
              "..     ...             ...    ...                     ...             ...   \n",
              "995      C          Normal      M          Saúde e beleza          605.25   \n",
              "996      B          Normal      F   Casa e estilo de vida         1460.70   \n",
              "997      A       Associado      M        Comida e bebidas          477.60   \n",
              "998      A          Normal      M   Casa e estilo de vida          987.30   \n",
              "999      A       Associado      F     Acessórios fashions         1325.10   \n",
              "\n",
              "     Quantidade     Total       Data Horário          Pagamento        COGS  \\\n",
              "0             7   7842.45    Janeiro   Tarde                PIX   4705.4700   \n",
              "1             5   1146.00      Março   Manhã           Dinheiro   1031.4000   \n",
              "2             7   4864.65      Março   Tarde  Cartão de Crédito   3405.2550   \n",
              "3             8   6986.40    Janeiro   Noite                PIX   4191.8400   \n",
              "4             7   9062.55  Fevereiro   Manhã                PIX   6796.9125   \n",
              "..          ...       ...        ...     ...                ...         ...   \n",
              "995           1    605.25    Janeiro   Tarde                PIX    363.1500   \n",
              "996          10  14607.00      Março   Tarde                PIX  10224.9000   \n",
              "997           1    477.60  Fevereiro   Tarde           Dinheiro    405.9600   \n",
              "998           1    987.30  Fevereiro   Tarde           Dinheiro    691.1100   \n",
              "999           7   9275.70  Fevereiro   Tarde           Dinheiro   6956.7750   \n",
              "\n",
              "     Avaliação      Lucro  \n",
              "0           91  3136.9800  \n",
              "1           96   114.6000  \n",
              "2           74  1459.3950  \n",
              "3           84  2794.5600  \n",
              "4           53  2265.6375  \n",
              "..         ...        ...  \n",
              "995         62   242.1000  \n",
              "996         44  4382.1000  \n",
              "997         77    71.6400  \n",
              "998         41   296.1900  \n",
              "999         66  2318.9250  \n",
              "\n",
              "[1000 rows x 13 columns]"
            ],
            "text/html": [
              "\n",
              "  <div id=\"df-9b85dc28-befc-4d07-801e-3f5a394638e3\">\n",
              "    <div class=\"colab-df-container\">\n",
              "      <div>\n",
              "<style scoped>\n",
              "    .dataframe tbody tr th:only-of-type {\n",
              "        vertical-align: middle;\n",
              "    }\n",
              "\n",
              "    .dataframe tbody tr th {\n",
              "        vertical-align: top;\n",
              "    }\n",
              "\n",
              "    .dataframe thead th {\n",
              "        text-align: right;\n",
              "    }\n",
              "</style>\n",
              "<table border=\"1\" class=\"dataframe\">\n",
              "  <thead>\n",
              "    <tr style=\"text-align: right;\">\n",
              "      <th></th>\n",
              "      <th>Filial</th>\n",
              "      <th>Tipo de Cliente</th>\n",
              "      <th>Gênero</th>\n",
              "      <th>Linha de produto</th>\n",
              "      <th>Preço unitário</th>\n",
              "      <th>Quantidade</th>\n",
              "      <th>Total</th>\n",
              "      <th>Data</th>\n",
              "      <th>Horário</th>\n",
              "      <th>Pagamento</th>\n",
              "      <th>COGS</th>\n",
              "      <th>Avaliação</th>\n",
              "      <th>Lucro</th>\n",
              "    </tr>\n",
              "  </thead>\n",
              "  <tbody>\n",
              "    <tr>\n",
              "      <th>0</th>\n",
              "      <td>A</td>\n",
              "      <td>Associado</td>\n",
              "      <td>F</td>\n",
              "      <td>Saúde e beleza</td>\n",
              "      <td>1120.35</td>\n",
              "      <td>7</td>\n",
              "      <td>7842.45</td>\n",
              "      <td>Janeiro</td>\n",
              "      <td>Tarde</td>\n",
              "      <td>PIX</td>\n",
              "      <td>4705.4700</td>\n",
              "      <td>91</td>\n",
              "      <td>3136.9800</td>\n",
              "    </tr>\n",
              "    <tr>\n",
              "      <th>1</th>\n",
              "      <td>C</td>\n",
              "      <td>Normal</td>\n",
              "      <td>F</td>\n",
              "      <td>Acessórios eletrônicos</td>\n",
              "      <td>229.20</td>\n",
              "      <td>5</td>\n",
              "      <td>1146.00</td>\n",
              "      <td>Março</td>\n",
              "      <td>Manhã</td>\n",
              "      <td>Dinheiro</td>\n",
              "      <td>1031.4000</td>\n",
              "      <td>96</td>\n",
              "      <td>114.6000</td>\n",
              "    </tr>\n",
              "    <tr>\n",
              "      <th>2</th>\n",
              "      <td>A</td>\n",
              "      <td>Normal</td>\n",
              "      <td>M</td>\n",
              "      <td>Casa e estilo de vida</td>\n",
              "      <td>694.95</td>\n",
              "      <td>7</td>\n",
              "      <td>4864.65</td>\n",
              "      <td>Março</td>\n",
              "      <td>Tarde</td>\n",
              "      <td>Cartão de Crédito</td>\n",
              "      <td>3405.2550</td>\n",
              "      <td>74</td>\n",
              "      <td>1459.3950</td>\n",
              "    </tr>\n",
              "    <tr>\n",
              "      <th>3</th>\n",
              "      <td>A</td>\n",
              "      <td>Associado</td>\n",
              "      <td>M</td>\n",
              "      <td>Saúde e beleza</td>\n",
              "      <td>873.30</td>\n",
              "      <td>8</td>\n",
              "      <td>6986.40</td>\n",
              "      <td>Janeiro</td>\n",
              "      <td>Noite</td>\n",
              "      <td>PIX</td>\n",
              "      <td>4191.8400</td>\n",
              "      <td>84</td>\n",
              "      <td>2794.5600</td>\n",
              "    </tr>\n",
              "    <tr>\n",
              "      <th>4</th>\n",
              "      <td>A</td>\n",
              "      <td>Normal</td>\n",
              "      <td>M</td>\n",
              "      <td>Esportes e viagens</td>\n",
              "      <td>1294.65</td>\n",
              "      <td>7</td>\n",
              "      <td>9062.55</td>\n",
              "      <td>Fevereiro</td>\n",
              "      <td>Manhã</td>\n",
              "      <td>PIX</td>\n",
              "      <td>6796.9125</td>\n",
              "      <td>53</td>\n",
              "      <td>2265.6375</td>\n",
              "    </tr>\n",
              "    <tr>\n",
              "      <th>...</th>\n",
              "      <td>...</td>\n",
              "      <td>...</td>\n",
              "      <td>...</td>\n",
              "      <td>...</td>\n",
              "      <td>...</td>\n",
              "      <td>...</td>\n",
              "      <td>...</td>\n",
              "      <td>...</td>\n",
              "      <td>...</td>\n",
              "      <td>...</td>\n",
              "      <td>...</td>\n",
              "      <td>...</td>\n",
              "      <td>...</td>\n",
              "    </tr>\n",
              "    <tr>\n",
              "      <th>995</th>\n",
              "      <td>C</td>\n",
              "      <td>Normal</td>\n",
              "      <td>M</td>\n",
              "      <td>Saúde e beleza</td>\n",
              "      <td>605.25</td>\n",
              "      <td>1</td>\n",
              "      <td>605.25</td>\n",
              "      <td>Janeiro</td>\n",
              "      <td>Tarde</td>\n",
              "      <td>PIX</td>\n",
              "      <td>363.1500</td>\n",
              "      <td>62</td>\n",
              "      <td>242.1000</td>\n",
              "    </tr>\n",
              "    <tr>\n",
              "      <th>996</th>\n",
              "      <td>B</td>\n",
              "      <td>Normal</td>\n",
              "      <td>F</td>\n",
              "      <td>Casa e estilo de vida</td>\n",
              "      <td>1460.70</td>\n",
              "      <td>10</td>\n",
              "      <td>14607.00</td>\n",
              "      <td>Março</td>\n",
              "      <td>Tarde</td>\n",
              "      <td>PIX</td>\n",
              "      <td>10224.9000</td>\n",
              "      <td>44</td>\n",
              "      <td>4382.1000</td>\n",
              "    </tr>\n",
              "    <tr>\n",
              "      <th>997</th>\n",
              "      <td>A</td>\n",
              "      <td>Associado</td>\n",
              "      <td>M</td>\n",
              "      <td>Comida e bebidas</td>\n",
              "      <td>477.60</td>\n",
              "      <td>1</td>\n",
              "      <td>477.60</td>\n",
              "      <td>Fevereiro</td>\n",
              "      <td>Tarde</td>\n",
              "      <td>Dinheiro</td>\n",
              "      <td>405.9600</td>\n",
              "      <td>77</td>\n",
              "      <td>71.6400</td>\n",
              "    </tr>\n",
              "    <tr>\n",
              "      <th>998</th>\n",
              "      <td>A</td>\n",
              "      <td>Normal</td>\n",
              "      <td>M</td>\n",
              "      <td>Casa e estilo de vida</td>\n",
              "      <td>987.30</td>\n",
              "      <td>1</td>\n",
              "      <td>987.30</td>\n",
              "      <td>Fevereiro</td>\n",
              "      <td>Tarde</td>\n",
              "      <td>Dinheiro</td>\n",
              "      <td>691.1100</td>\n",
              "      <td>41</td>\n",
              "      <td>296.1900</td>\n",
              "    </tr>\n",
              "    <tr>\n",
              "      <th>999</th>\n",
              "      <td>A</td>\n",
              "      <td>Associado</td>\n",
              "      <td>F</td>\n",
              "      <td>Acessórios fashions</td>\n",
              "      <td>1325.10</td>\n",
              "      <td>7</td>\n",
              "      <td>9275.70</td>\n",
              "      <td>Fevereiro</td>\n",
              "      <td>Tarde</td>\n",
              "      <td>Dinheiro</td>\n",
              "      <td>6956.7750</td>\n",
              "      <td>66</td>\n",
              "      <td>2318.9250</td>\n",
              "    </tr>\n",
              "  </tbody>\n",
              "</table>\n",
              "<p>1000 rows × 13 columns</p>\n",
              "</div>\n",
              "      <button class=\"colab-df-convert\" onclick=\"convertToInteractive('df-9b85dc28-befc-4d07-801e-3f5a394638e3')\"\n",
              "              title=\"Convert this dataframe to an interactive table.\"\n",
              "              style=\"display:none;\">\n",
              "        \n",
              "  <svg xmlns=\"http://www.w3.org/2000/svg\" height=\"24px\"viewBox=\"0 0 24 24\"\n",
              "       width=\"24px\">\n",
              "    <path d=\"M0 0h24v24H0V0z\" fill=\"none\"/>\n",
              "    <path d=\"M18.56 5.44l.94 2.06.94-2.06 2.06-.94-2.06-.94-.94-2.06-.94 2.06-2.06.94zm-11 1L8.5 8.5l.94-2.06 2.06-.94-2.06-.94L8.5 2.5l-.94 2.06-2.06.94zm10 10l.94 2.06.94-2.06 2.06-.94-2.06-.94-.94-2.06-.94 2.06-2.06.94z\"/><path d=\"M17.41 7.96l-1.37-1.37c-.4-.4-.92-.59-1.43-.59-.52 0-1.04.2-1.43.59L10.3 9.45l-7.72 7.72c-.78.78-.78 2.05 0 2.83L4 21.41c.39.39.9.59 1.41.59.51 0 1.02-.2 1.41-.59l7.78-7.78 2.81-2.81c.8-.78.8-2.07 0-2.86zM5.41 20L4 18.59l7.72-7.72 1.47 1.35L5.41 20z\"/>\n",
              "  </svg>\n",
              "      </button>\n",
              "      \n",
              "  <style>\n",
              "    .colab-df-container {\n",
              "      display:flex;\n",
              "      flex-wrap:wrap;\n",
              "      gap: 12px;\n",
              "    }\n",
              "\n",
              "    .colab-df-convert {\n",
              "      background-color: #E8F0FE;\n",
              "      border: none;\n",
              "      border-radius: 50%;\n",
              "      cursor: pointer;\n",
              "      display: none;\n",
              "      fill: #1967D2;\n",
              "      height: 32px;\n",
              "      padding: 0 0 0 0;\n",
              "      width: 32px;\n",
              "    }\n",
              "\n",
              "    .colab-df-convert:hover {\n",
              "      background-color: #E2EBFA;\n",
              "      box-shadow: 0px 1px 2px rgba(60, 64, 67, 0.3), 0px 1px 3px 1px rgba(60, 64, 67, 0.15);\n",
              "      fill: #174EA6;\n",
              "    }\n",
              "\n",
              "    [theme=dark] .colab-df-convert {\n",
              "      background-color: #3B4455;\n",
              "      fill: #D2E3FC;\n",
              "    }\n",
              "\n",
              "    [theme=dark] .colab-df-convert:hover {\n",
              "      background-color: #434B5C;\n",
              "      box-shadow: 0px 1px 3px 1px rgba(0, 0, 0, 0.15);\n",
              "      filter: drop-shadow(0px 1px 2px rgba(0, 0, 0, 0.3));\n",
              "      fill: #FFFFFF;\n",
              "    }\n",
              "  </style>\n",
              "\n",
              "      <script>\n",
              "        const buttonEl =\n",
              "          document.querySelector('#df-9b85dc28-befc-4d07-801e-3f5a394638e3 button.colab-df-convert');\n",
              "        buttonEl.style.display =\n",
              "          google.colab.kernel.accessAllowed ? 'block' : 'none';\n",
              "\n",
              "        async function convertToInteractive(key) {\n",
              "          const element = document.querySelector('#df-9b85dc28-befc-4d07-801e-3f5a394638e3');\n",
              "          const dataTable =\n",
              "            await google.colab.kernel.invokeFunction('convertToInteractive',\n",
              "                                                     [key], {});\n",
              "          if (!dataTable) return;\n",
              "\n",
              "          const docLinkHtml = 'Like what you see? Visit the ' +\n",
              "            '<a target=\"_blank\" href=https://colab.research.google.com/notebooks/data_table.ipynb>data table notebook</a>'\n",
              "            + ' to learn more about interactive tables.';\n",
              "          element.innerHTML = '';\n",
              "          dataTable['output_type'] = 'display_data';\n",
              "          await google.colab.output.renderOutput(dataTable, element);\n",
              "          const docLink = document.createElement('div');\n",
              "          docLink.innerHTML = docLinkHtml;\n",
              "          element.appendChild(docLink);\n",
              "        }\n",
              "      </script>\n",
              "    </div>\n",
              "  </div>\n",
              "  "
            ]
          },
          "metadata": {},
          "execution_count": 191
        }
      ]
    },
    {
      "cell_type": "markdown",
      "source": [
        "# <font color='red'>Reorganize a coluna Lucro antes de Avaliação?</font>\n"
      ],
      "metadata": {
        "id": "DX7nn4V19Qwl"
      }
    },
    {
      "cell_type": "code",
      "source": [
        "df = df.reindex(columns=['Filial', 'Tipo de Cliente', 'Gênero', 'Linha de produto', 'Preço unitário', 'Quantidade', 'Total', 'Data', 'Horário', 'Pagamento', 'COGS', 'Lucro', 'Avaliação'])"
      ],
      "metadata": {
        "id": "dPwvCgRi-RSW"
      },
      "execution_count": null,
      "outputs": []
    },
    {
      "cell_type": "code",
      "source": [
        "df"
      ],
      "metadata": {
        "id": "eX1tvU0p-sn6",
        "outputId": "c06afe88-4724-43f8-932c-98abb1e94512",
        "colab": {
          "base_uri": "https://localhost:8080/",
          "height": 423
        }
      },
      "execution_count": null,
      "outputs": [
        {
          "output_type": "execute_result",
          "data": {
            "text/plain": [
              "    Filial Tipo de Cliente Gênero        Linha de produto  Preço unitário  \\\n",
              "0        A       Associado      F          Saúde e beleza         1120.35   \n",
              "1        C          Normal      F  Acessórios eletrônicos          229.20   \n",
              "2        A          Normal      M   Casa e estilo de vida          694.95   \n",
              "3        A       Associado      M          Saúde e beleza          873.30   \n",
              "4        A          Normal      M      Esportes e viagens         1294.65   \n",
              "..     ...             ...    ...                     ...             ...   \n",
              "995      C          Normal      M          Saúde e beleza          605.25   \n",
              "996      B          Normal      F   Casa e estilo de vida         1460.70   \n",
              "997      A       Associado      M        Comida e bebidas          477.60   \n",
              "998      A          Normal      M   Casa e estilo de vida          987.30   \n",
              "999      A       Associado      F     Acessórios fashions         1325.10   \n",
              "\n",
              "     Quantidade     Total       Data Horário          Pagamento        COGS  \\\n",
              "0             7   7842.45    Janeiro   Tarde                PIX   4705.4700   \n",
              "1             5   1146.00      Março   Manhã           Dinheiro   1031.4000   \n",
              "2             7   4864.65      Março   Tarde  Cartão de Crédito   3405.2550   \n",
              "3             8   6986.40    Janeiro   Noite                PIX   4191.8400   \n",
              "4             7   9062.55  Fevereiro   Manhã                PIX   6796.9125   \n",
              "..          ...       ...        ...     ...                ...         ...   \n",
              "995           1    605.25    Janeiro   Tarde                PIX    363.1500   \n",
              "996          10  14607.00      Março   Tarde                PIX  10224.9000   \n",
              "997           1    477.60  Fevereiro   Tarde           Dinheiro    405.9600   \n",
              "998           1    987.30  Fevereiro   Tarde           Dinheiro    691.1100   \n",
              "999           7   9275.70  Fevereiro   Tarde           Dinheiro   6956.7750   \n",
              "\n",
              "         Lucro  Avaliação  \n",
              "0    3136.9800         91  \n",
              "1     114.6000         96  \n",
              "2    1459.3950         74  \n",
              "3    2794.5600         84  \n",
              "4    2265.6375         53  \n",
              "..         ...        ...  \n",
              "995   242.1000         62  \n",
              "996  4382.1000         44  \n",
              "997    71.6400         77  \n",
              "998   296.1900         41  \n",
              "999  2318.9250         66  \n",
              "\n",
              "[1000 rows x 13 columns]"
            ],
            "text/html": [
              "\n",
              "  <div id=\"df-c69dc52f-1a0c-4a49-913a-ee099701fe19\">\n",
              "    <div class=\"colab-df-container\">\n",
              "      <div>\n",
              "<style scoped>\n",
              "    .dataframe tbody tr th:only-of-type {\n",
              "        vertical-align: middle;\n",
              "    }\n",
              "\n",
              "    .dataframe tbody tr th {\n",
              "        vertical-align: top;\n",
              "    }\n",
              "\n",
              "    .dataframe thead th {\n",
              "        text-align: right;\n",
              "    }\n",
              "</style>\n",
              "<table border=\"1\" class=\"dataframe\">\n",
              "  <thead>\n",
              "    <tr style=\"text-align: right;\">\n",
              "      <th></th>\n",
              "      <th>Filial</th>\n",
              "      <th>Tipo de Cliente</th>\n",
              "      <th>Gênero</th>\n",
              "      <th>Linha de produto</th>\n",
              "      <th>Preço unitário</th>\n",
              "      <th>Quantidade</th>\n",
              "      <th>Total</th>\n",
              "      <th>Data</th>\n",
              "      <th>Horário</th>\n",
              "      <th>Pagamento</th>\n",
              "      <th>COGS</th>\n",
              "      <th>Lucro</th>\n",
              "      <th>Avaliação</th>\n",
              "    </tr>\n",
              "  </thead>\n",
              "  <tbody>\n",
              "    <tr>\n",
              "      <th>0</th>\n",
              "      <td>A</td>\n",
              "      <td>Associado</td>\n",
              "      <td>F</td>\n",
              "      <td>Saúde e beleza</td>\n",
              "      <td>1120.35</td>\n",
              "      <td>7</td>\n",
              "      <td>7842.45</td>\n",
              "      <td>Janeiro</td>\n",
              "      <td>Tarde</td>\n",
              "      <td>PIX</td>\n",
              "      <td>4705.4700</td>\n",
              "      <td>3136.9800</td>\n",
              "      <td>91</td>\n",
              "    </tr>\n",
              "    <tr>\n",
              "      <th>1</th>\n",
              "      <td>C</td>\n",
              "      <td>Normal</td>\n",
              "      <td>F</td>\n",
              "      <td>Acessórios eletrônicos</td>\n",
              "      <td>229.20</td>\n",
              "      <td>5</td>\n",
              "      <td>1146.00</td>\n",
              "      <td>Março</td>\n",
              "      <td>Manhã</td>\n",
              "      <td>Dinheiro</td>\n",
              "      <td>1031.4000</td>\n",
              "      <td>114.6000</td>\n",
              "      <td>96</td>\n",
              "    </tr>\n",
              "    <tr>\n",
              "      <th>2</th>\n",
              "      <td>A</td>\n",
              "      <td>Normal</td>\n",
              "      <td>M</td>\n",
              "      <td>Casa e estilo de vida</td>\n",
              "      <td>694.95</td>\n",
              "      <td>7</td>\n",
              "      <td>4864.65</td>\n",
              "      <td>Março</td>\n",
              "      <td>Tarde</td>\n",
              "      <td>Cartão de Crédito</td>\n",
              "      <td>3405.2550</td>\n",
              "      <td>1459.3950</td>\n",
              "      <td>74</td>\n",
              "    </tr>\n",
              "    <tr>\n",
              "      <th>3</th>\n",
              "      <td>A</td>\n",
              "      <td>Associado</td>\n",
              "      <td>M</td>\n",
              "      <td>Saúde e beleza</td>\n",
              "      <td>873.30</td>\n",
              "      <td>8</td>\n",
              "      <td>6986.40</td>\n",
              "      <td>Janeiro</td>\n",
              "      <td>Noite</td>\n",
              "      <td>PIX</td>\n",
              "      <td>4191.8400</td>\n",
              "      <td>2794.5600</td>\n",
              "      <td>84</td>\n",
              "    </tr>\n",
              "    <tr>\n",
              "      <th>4</th>\n",
              "      <td>A</td>\n",
              "      <td>Normal</td>\n",
              "      <td>M</td>\n",
              "      <td>Esportes e viagens</td>\n",
              "      <td>1294.65</td>\n",
              "      <td>7</td>\n",
              "      <td>9062.55</td>\n",
              "      <td>Fevereiro</td>\n",
              "      <td>Manhã</td>\n",
              "      <td>PIX</td>\n",
              "      <td>6796.9125</td>\n",
              "      <td>2265.6375</td>\n",
              "      <td>53</td>\n",
              "    </tr>\n",
              "    <tr>\n",
              "      <th>...</th>\n",
              "      <td>...</td>\n",
              "      <td>...</td>\n",
              "      <td>...</td>\n",
              "      <td>...</td>\n",
              "      <td>...</td>\n",
              "      <td>...</td>\n",
              "      <td>...</td>\n",
              "      <td>...</td>\n",
              "      <td>...</td>\n",
              "      <td>...</td>\n",
              "      <td>...</td>\n",
              "      <td>...</td>\n",
              "      <td>...</td>\n",
              "    </tr>\n",
              "    <tr>\n",
              "      <th>995</th>\n",
              "      <td>C</td>\n",
              "      <td>Normal</td>\n",
              "      <td>M</td>\n",
              "      <td>Saúde e beleza</td>\n",
              "      <td>605.25</td>\n",
              "      <td>1</td>\n",
              "      <td>605.25</td>\n",
              "      <td>Janeiro</td>\n",
              "      <td>Tarde</td>\n",
              "      <td>PIX</td>\n",
              "      <td>363.1500</td>\n",
              "      <td>242.1000</td>\n",
              "      <td>62</td>\n",
              "    </tr>\n",
              "    <tr>\n",
              "      <th>996</th>\n",
              "      <td>B</td>\n",
              "      <td>Normal</td>\n",
              "      <td>F</td>\n",
              "      <td>Casa e estilo de vida</td>\n",
              "      <td>1460.70</td>\n",
              "      <td>10</td>\n",
              "      <td>14607.00</td>\n",
              "      <td>Março</td>\n",
              "      <td>Tarde</td>\n",
              "      <td>PIX</td>\n",
              "      <td>10224.9000</td>\n",
              "      <td>4382.1000</td>\n",
              "      <td>44</td>\n",
              "    </tr>\n",
              "    <tr>\n",
              "      <th>997</th>\n",
              "      <td>A</td>\n",
              "      <td>Associado</td>\n",
              "      <td>M</td>\n",
              "      <td>Comida e bebidas</td>\n",
              "      <td>477.60</td>\n",
              "      <td>1</td>\n",
              "      <td>477.60</td>\n",
              "      <td>Fevereiro</td>\n",
              "      <td>Tarde</td>\n",
              "      <td>Dinheiro</td>\n",
              "      <td>405.9600</td>\n",
              "      <td>71.6400</td>\n",
              "      <td>77</td>\n",
              "    </tr>\n",
              "    <tr>\n",
              "      <th>998</th>\n",
              "      <td>A</td>\n",
              "      <td>Normal</td>\n",
              "      <td>M</td>\n",
              "      <td>Casa e estilo de vida</td>\n",
              "      <td>987.30</td>\n",
              "      <td>1</td>\n",
              "      <td>987.30</td>\n",
              "      <td>Fevereiro</td>\n",
              "      <td>Tarde</td>\n",
              "      <td>Dinheiro</td>\n",
              "      <td>691.1100</td>\n",
              "      <td>296.1900</td>\n",
              "      <td>41</td>\n",
              "    </tr>\n",
              "    <tr>\n",
              "      <th>999</th>\n",
              "      <td>A</td>\n",
              "      <td>Associado</td>\n",
              "      <td>F</td>\n",
              "      <td>Acessórios fashions</td>\n",
              "      <td>1325.10</td>\n",
              "      <td>7</td>\n",
              "      <td>9275.70</td>\n",
              "      <td>Fevereiro</td>\n",
              "      <td>Tarde</td>\n",
              "      <td>Dinheiro</td>\n",
              "      <td>6956.7750</td>\n",
              "      <td>2318.9250</td>\n",
              "      <td>66</td>\n",
              "    </tr>\n",
              "  </tbody>\n",
              "</table>\n",
              "<p>1000 rows × 13 columns</p>\n",
              "</div>\n",
              "      <button class=\"colab-df-convert\" onclick=\"convertToInteractive('df-c69dc52f-1a0c-4a49-913a-ee099701fe19')\"\n",
              "              title=\"Convert this dataframe to an interactive table.\"\n",
              "              style=\"display:none;\">\n",
              "        \n",
              "  <svg xmlns=\"http://www.w3.org/2000/svg\" height=\"24px\"viewBox=\"0 0 24 24\"\n",
              "       width=\"24px\">\n",
              "    <path d=\"M0 0h24v24H0V0z\" fill=\"none\"/>\n",
              "    <path d=\"M18.56 5.44l.94 2.06.94-2.06 2.06-.94-2.06-.94-.94-2.06-.94 2.06-2.06.94zm-11 1L8.5 8.5l.94-2.06 2.06-.94-2.06-.94L8.5 2.5l-.94 2.06-2.06.94zm10 10l.94 2.06.94-2.06 2.06-.94-2.06-.94-.94-2.06-.94 2.06-2.06.94z\"/><path d=\"M17.41 7.96l-1.37-1.37c-.4-.4-.92-.59-1.43-.59-.52 0-1.04.2-1.43.59L10.3 9.45l-7.72 7.72c-.78.78-.78 2.05 0 2.83L4 21.41c.39.39.9.59 1.41.59.51 0 1.02-.2 1.41-.59l7.78-7.78 2.81-2.81c.8-.78.8-2.07 0-2.86zM5.41 20L4 18.59l7.72-7.72 1.47 1.35L5.41 20z\"/>\n",
              "  </svg>\n",
              "      </button>\n",
              "      \n",
              "  <style>\n",
              "    .colab-df-container {\n",
              "      display:flex;\n",
              "      flex-wrap:wrap;\n",
              "      gap: 12px;\n",
              "    }\n",
              "\n",
              "    .colab-df-convert {\n",
              "      background-color: #E8F0FE;\n",
              "      border: none;\n",
              "      border-radius: 50%;\n",
              "      cursor: pointer;\n",
              "      display: none;\n",
              "      fill: #1967D2;\n",
              "      height: 32px;\n",
              "      padding: 0 0 0 0;\n",
              "      width: 32px;\n",
              "    }\n",
              "\n",
              "    .colab-df-convert:hover {\n",
              "      background-color: #E2EBFA;\n",
              "      box-shadow: 0px 1px 2px rgba(60, 64, 67, 0.3), 0px 1px 3px 1px rgba(60, 64, 67, 0.15);\n",
              "      fill: #174EA6;\n",
              "    }\n",
              "\n",
              "    [theme=dark] .colab-df-convert {\n",
              "      background-color: #3B4455;\n",
              "      fill: #D2E3FC;\n",
              "    }\n",
              "\n",
              "    [theme=dark] .colab-df-convert:hover {\n",
              "      background-color: #434B5C;\n",
              "      box-shadow: 0px 1px 3px 1px rgba(0, 0, 0, 0.15);\n",
              "      filter: drop-shadow(0px 1px 2px rgba(0, 0, 0, 0.3));\n",
              "      fill: #FFFFFF;\n",
              "    }\n",
              "  </style>\n",
              "\n",
              "      <script>\n",
              "        const buttonEl =\n",
              "          document.querySelector('#df-c69dc52f-1a0c-4a49-913a-ee099701fe19 button.colab-df-convert');\n",
              "        buttonEl.style.display =\n",
              "          google.colab.kernel.accessAllowed ? 'block' : 'none';\n",
              "\n",
              "        async function convertToInteractive(key) {\n",
              "          const element = document.querySelector('#df-c69dc52f-1a0c-4a49-913a-ee099701fe19');\n",
              "          const dataTable =\n",
              "            await google.colab.kernel.invokeFunction('convertToInteractive',\n",
              "                                                     [key], {});\n",
              "          if (!dataTable) return;\n",
              "\n",
              "          const docLinkHtml = 'Like what you see? Visit the ' +\n",
              "            '<a target=\"_blank\" href=https://colab.research.google.com/notebooks/data_table.ipynb>data table notebook</a>'\n",
              "            + ' to learn more about interactive tables.';\n",
              "          element.innerHTML = '';\n",
              "          dataTable['output_type'] = 'display_data';\n",
              "          await google.colab.output.renderOutput(dataTable, element);\n",
              "          const docLink = document.createElement('div');\n",
              "          docLink.innerHTML = docLinkHtml;\n",
              "          element.appendChild(docLink);\n",
              "        }\n",
              "      </script>\n",
              "    </div>\n",
              "  </div>\n",
              "  "
            ]
          },
          "metadata": {},
          "execution_count": 193
        }
      ]
    },
    {
      "cell_type": "markdown",
      "source": [
        "# <font color='red'>Qual linha de produto da mais lucro?</font>\n"
      ],
      "metadata": {
        "id": "P02VQKXj9cjb"
      }
    },
    {
      "cell_type": "markdown",
      "source": [
        "Analisando a tabela acima o produto mais lucrativo seria a 'casa e estilo de vida'"
      ],
      "metadata": {
        "id": "bz-tknislJbn"
      }
    }
  ]
}